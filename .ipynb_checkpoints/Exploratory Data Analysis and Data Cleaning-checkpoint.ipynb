{
 "cells": [
  {
   "cell_type": "markdown",
   "id": "75466b4a-f4d9-4fef-b20b-14853a582086",
   "metadata": {},
   "source": [
    "# Exploratory Data Analysis and Data Cleaning <a name=\"Top\"></a>"
   ]
  },
  {
   "cell_type": "markdown",
   "id": "1b711908-60ec-43e7-b197-f3c80dc40892",
   "metadata": {
    "tags": []
   },
   "source": [
    "# TABLE OF CONTENT\n",
    "\n",
    "[ABOUT THIS DATASET](#About)  \n",
    "1. [IMPORT LIBRARIES](#ImportLibraries)  \n",
    "2. [DATA EXPLORATION AND DATA CLEANING](#DataExplDataClean)  \n",
    "    2.1 [Data types](#DataTypes_df1)      \n",
    "    2.2 [Missing values](#Missing_df1)       \n",
    "    2.3 [Uniform Values](#UniformValues_df1)     \n",
    "    2.4 [Remove Duplicates](#RemDupl_df1)    \n",
    "    2.5 [Numeric data](#NumData_df1)    \n",
    "    2.6 [Categorical data](#CatData_df1)    \n",
    "3. [DATA ANALYSIS](#DataAnalysis) \n",
    "4. [FINAL CONCLUSIONS](#Conclusions) <a name=\"Conclusions\"></a>"
   ]
  },
  {
   "cell_type": "markdown",
   "id": "3859d23a-dadf-4493-be7d-5b05ede7a165",
   "metadata": {
    "tags": []
   },
   "source": [
    "# ABOUT THIS DATASET <a name=\"About\"></a>\n",
    "\n",
    "This dataset provides detailed insights into Amazon sales data, including SKU Code, Design Number, Stock, Category and Size, to help optimize product profitability. It covers a 90 days time frame, from 31 March 2022 to 29 June 2022.\n",
    "\n",
    "**Attributes:**\n",
    "* **Order ID**: Order Identification Number. (String)\n",
    "* **Date**: Date of the sale. (Date)\n",
    "* **Status**: Status of the sale. (String)\n",
    "* **Fulfilment**: Method of fulfilment. (String)\n",
    "* **Sales Channel**: Method of selling. (String)\n",
    "* **Ship Service Level**:  Method of Shipping Service. (String)  \n",
    "* **Style**: Style of the product. (String)\n",
    "* **SKU**: Stock Keeping Unit. (String)\n",
    "* **Category**: Type of product. (String)\n",
    "* **Size**: Size of the product. (String)\n",
    "* **ASIN**: Amazon Standard Identification Number. (String)\n",
    "* **Courier Status**: Status of the courier. (String)\n",
    "* **Qty**: Quantity of the product. (Integer)\n",
    "* **Currency**: The currency used for the sale (INR). (String)\n",
    "* **Amount**: Amount of the sale. (Float)\n",
    "* **Ship City**: Destination City of the shipment. (String)\n",
    "* **Ship State**: Destination State of the shipment. (String)\n",
    "* **Ship Postal Code**: Destination Postal Code of the shipment. (String)\n",
    "* **Ship Country**: Destination Country of the shipment. (String)\n",
    "* **Promotion IDS**: Promotion code of the sale. (String)\n",
    "* **B2B**: Business to business sale. (Boolean)\n",
    "\n",
    " \n",
    "**Questions to be answered:**\n",
    "\n",
    "1. Which categories have sold most?  [[&#8599;]](#AQ1)    \n",
    "2. Which are the 20 Best-Selling Products?   [[&#8599;]](#AQ2)    \n",
    "3. Which are the 20 Best-Selling Products by Revenue?   [[&#8599;]](#AQ3)    \n",
    "4. Which are the 20 cities that made the most orders?   [[&#8599;]](#AQ4)    \n",
    "5. Which are the 20 cities that more income generate?    [[&#8599;]](#AQ5)    \n",
    "6. How many orders are fulfilled by Amazon and how many by the Merchant?    [[&#8599;]](#AQ6)    "
   ]
  },
  {
   "cell_type": "markdown",
   "id": "c4f01d6b-ece3-4e8e-9ee7-69487c93f41a",
   "metadata": {},
   "source": [
    "# 1. IMPORT LIBRARIES [&#129081;](#Top)<a name=\"ImportLibraries\"></a>"
   ]
  },
  {
   "cell_type": "markdown",
   "id": "9844ba18-dd2f-47d9-87c1-8793b69defb0",
   "metadata": {},
   "source": [
    "**LIBRARIES:**\n",
    "\n",
    "* Library **pandas**: to handle data in tabular representation.\n",
    "* Library **missingno**: to graphically display missing values in the data.\n",
    "* Library **re**: to work with regular expressions.\n",
    "* Library **matplotlib, seaborn**: to visualize data in in plots, graphs and charts."
   ]
  },
  {
   "cell_type": "code",
   "execution_count": 1,
   "id": "5d7bff6f-9d12-4b9c-af77-d463e7d258e5",
   "metadata": {},
   "outputs": [],
   "source": [
    "import pandas as pd\n",
    "import missingno as msno\n",
    "import re\n",
    "import matplotlib.pyplot as plt\n",
    "import matplotlib.patches as mpatches\n",
    "import matplotlib.ticker as ticker\n",
    "import seaborn as sns"
   ]
  },
  {
   "cell_type": "code",
   "execution_count": 2,
   "id": "fe1de520-31d8-42a9-b474-4fe9b2275b03",
   "metadata": {},
   "outputs": [],
   "source": [
    "from plotly.subplots import make_subplots\n",
    "import plotly.graph_objects as go\n",
    "import plotly.figure_factory as ff"
   ]
  },
  {
   "cell_type": "markdown",
   "id": "973d6ed9-8aba-4b3c-a5dd-1351fe0a58d6",
   "metadata": {
    "tags": []
   },
   "source": [
    "# 2 DATA DESCRIPTION AND DATA CLEANING [&#129081;](#Top)<a name=\"DataExplDataClean\"></a>\n",
    "In this phase, will be performed the exploratory data analysis: data types, missing values, string standardisation, duplicates, measures of the central trend, and relationship detection between fields."
   ]
  },
  {
   "cell_type": "markdown",
   "id": "4076caf8-1828-4879-8582-d9fe7bab1b93",
   "metadata": {
    "tags": []
   },
   "source": [
    "## 2.1 Data types [&#129081;](#Top)<a name=\"DataTypes_df1\"></a>"
   ]
  },
  {
   "cell_type": "code",
   "execution_count": 3,
   "id": "94e1dbc6-d2e5-4db2-923b-9b2bd13e1d2e",
   "metadata": {},
   "outputs": [],
   "source": [
    "# Load data\n",
    "df = pd.read_csv(\"Data in\\\\Amazon Sale Report.csv\", low_memory=False) "
   ]
  },
  {
   "cell_type": "code",
   "execution_count": 4,
   "id": "c806a3f9-ce47-47af-9112-bc0164e47469",
   "metadata": {},
   "outputs": [
    {
     "data": {
      "text/html": [
       "<div>\n",
       "<style scoped>\n",
       "    .dataframe tbody tr th:only-of-type {\n",
       "        vertical-align: middle;\n",
       "    }\n",
       "\n",
       "    .dataframe tbody tr th {\n",
       "        vertical-align: top;\n",
       "    }\n",
       "\n",
       "    .dataframe thead th {\n",
       "        text-align: right;\n",
       "    }\n",
       "</style>\n",
       "<table border=\"1\" class=\"dataframe\">\n",
       "  <thead>\n",
       "    <tr style=\"text-align: right;\">\n",
       "      <th></th>\n",
       "      <th>index</th>\n",
       "      <th>Order ID</th>\n",
       "      <th>Date</th>\n",
       "      <th>Status</th>\n",
       "      <th>Fulfilment</th>\n",
       "      <th>Sales Channel</th>\n",
       "      <th>ship-service-level</th>\n",
       "      <th>Style</th>\n",
       "      <th>SKU</th>\n",
       "      <th>Category</th>\n",
       "      <th>...</th>\n",
       "      <th>currency</th>\n",
       "      <th>Amount</th>\n",
       "      <th>ship-city</th>\n",
       "      <th>ship-state</th>\n",
       "      <th>ship-postal-code</th>\n",
       "      <th>ship-country</th>\n",
       "      <th>promotion-ids</th>\n",
       "      <th>B2B</th>\n",
       "      <th>fulfilled-by</th>\n",
       "      <th>Unnamed: 22</th>\n",
       "    </tr>\n",
       "  </thead>\n",
       "  <tbody>\n",
       "    <tr>\n",
       "      <th>0</th>\n",
       "      <td>0</td>\n",
       "      <td>405-8078784-5731545</td>\n",
       "      <td>04-30-22</td>\n",
       "      <td>Cancelled</td>\n",
       "      <td>Merchant</td>\n",
       "      <td>Amazon.in</td>\n",
       "      <td>Standard</td>\n",
       "      <td>SET389</td>\n",
       "      <td>SET389-KR-NP-S</td>\n",
       "      <td>Set</td>\n",
       "      <td>...</td>\n",
       "      <td>INR</td>\n",
       "      <td>647.62</td>\n",
       "      <td>MUMBAI</td>\n",
       "      <td>MAHARASHTRA</td>\n",
       "      <td>400081.0</td>\n",
       "      <td>IN</td>\n",
       "      <td>NaN</td>\n",
       "      <td>False</td>\n",
       "      <td>Easy Ship</td>\n",
       "      <td>NaN</td>\n",
       "    </tr>\n",
       "    <tr>\n",
       "      <th>1</th>\n",
       "      <td>1</td>\n",
       "      <td>171-9198151-1101146</td>\n",
       "      <td>04-30-22</td>\n",
       "      <td>Shipped - Delivered to Buyer</td>\n",
       "      <td>Merchant</td>\n",
       "      <td>Amazon.in</td>\n",
       "      <td>Standard</td>\n",
       "      <td>JNE3781</td>\n",
       "      <td>JNE3781-KR-XXXL</td>\n",
       "      <td>kurta</td>\n",
       "      <td>...</td>\n",
       "      <td>INR</td>\n",
       "      <td>406.00</td>\n",
       "      <td>BENGALURU</td>\n",
       "      <td>KARNATAKA</td>\n",
       "      <td>560085.0</td>\n",
       "      <td>IN</td>\n",
       "      <td>Amazon PLCC Free-Financing Universal Merchant ...</td>\n",
       "      <td>False</td>\n",
       "      <td>Easy Ship</td>\n",
       "      <td>NaN</td>\n",
       "    </tr>\n",
       "    <tr>\n",
       "      <th>2</th>\n",
       "      <td>2</td>\n",
       "      <td>404-0687676-7273146</td>\n",
       "      <td>04-30-22</td>\n",
       "      <td>Shipped</td>\n",
       "      <td>Amazon</td>\n",
       "      <td>Amazon.in</td>\n",
       "      <td>Expedited</td>\n",
       "      <td>JNE3371</td>\n",
       "      <td>JNE3371-KR-XL</td>\n",
       "      <td>kurta</td>\n",
       "      <td>...</td>\n",
       "      <td>INR</td>\n",
       "      <td>329.00</td>\n",
       "      <td>NAVI MUMBAI</td>\n",
       "      <td>MAHARASHTRA</td>\n",
       "      <td>410210.0</td>\n",
       "      <td>IN</td>\n",
       "      <td>IN Core Free Shipping 2015/04/08 23-48-5-108</td>\n",
       "      <td>True</td>\n",
       "      <td>NaN</td>\n",
       "      <td>NaN</td>\n",
       "    </tr>\n",
       "    <tr>\n",
       "      <th>3</th>\n",
       "      <td>3</td>\n",
       "      <td>403-9615377-8133951</td>\n",
       "      <td>04-30-22</td>\n",
       "      <td>Cancelled</td>\n",
       "      <td>Merchant</td>\n",
       "      <td>Amazon.in</td>\n",
       "      <td>Standard</td>\n",
       "      <td>J0341</td>\n",
       "      <td>J0341-DR-L</td>\n",
       "      <td>Western Dress</td>\n",
       "      <td>...</td>\n",
       "      <td>INR</td>\n",
       "      <td>753.33</td>\n",
       "      <td>PUDUCHERRY</td>\n",
       "      <td>PUDUCHERRY</td>\n",
       "      <td>605008.0</td>\n",
       "      <td>IN</td>\n",
       "      <td>NaN</td>\n",
       "      <td>False</td>\n",
       "      <td>Easy Ship</td>\n",
       "      <td>NaN</td>\n",
       "    </tr>\n",
       "    <tr>\n",
       "      <th>4</th>\n",
       "      <td>4</td>\n",
       "      <td>407-1069790-7240320</td>\n",
       "      <td>04-30-22</td>\n",
       "      <td>Shipped</td>\n",
       "      <td>Amazon</td>\n",
       "      <td>Amazon.in</td>\n",
       "      <td>Expedited</td>\n",
       "      <td>JNE3671</td>\n",
       "      <td>JNE3671-TU-XXXL</td>\n",
       "      <td>Top</td>\n",
       "      <td>...</td>\n",
       "      <td>INR</td>\n",
       "      <td>574.00</td>\n",
       "      <td>CHENNAI</td>\n",
       "      <td>TAMIL NADU</td>\n",
       "      <td>600073.0</td>\n",
       "      <td>IN</td>\n",
       "      <td>NaN</td>\n",
       "      <td>False</td>\n",
       "      <td>NaN</td>\n",
       "      <td>NaN</td>\n",
       "    </tr>\n",
       "  </tbody>\n",
       "</table>\n",
       "<p>5 rows × 24 columns</p>\n",
       "</div>"
      ],
      "text/plain": [
       "   index             Order ID      Date                        Status  \\\n",
       "0      0  405-8078784-5731545  04-30-22                     Cancelled   \n",
       "1      1  171-9198151-1101146  04-30-22  Shipped - Delivered to Buyer   \n",
       "2      2  404-0687676-7273146  04-30-22                       Shipped   \n",
       "3      3  403-9615377-8133951  04-30-22                     Cancelled   \n",
       "4      4  407-1069790-7240320  04-30-22                       Shipped   \n",
       "\n",
       "  Fulfilment Sales Channel  ship-service-level    Style              SKU  \\\n",
       "0   Merchant      Amazon.in           Standard   SET389   SET389-KR-NP-S   \n",
       "1   Merchant      Amazon.in           Standard  JNE3781  JNE3781-KR-XXXL   \n",
       "2     Amazon      Amazon.in          Expedited  JNE3371    JNE3371-KR-XL   \n",
       "3   Merchant      Amazon.in           Standard    J0341       J0341-DR-L   \n",
       "4     Amazon      Amazon.in          Expedited  JNE3671  JNE3671-TU-XXXL   \n",
       "\n",
       "        Category  ... currency  Amount    ship-city   ship-state  \\\n",
       "0            Set  ...      INR  647.62       MUMBAI  MAHARASHTRA   \n",
       "1          kurta  ...      INR  406.00    BENGALURU    KARNATAKA   \n",
       "2          kurta  ...      INR  329.00  NAVI MUMBAI  MAHARASHTRA   \n",
       "3  Western Dress  ...      INR  753.33   PUDUCHERRY   PUDUCHERRY   \n",
       "4            Top  ...      INR  574.00      CHENNAI   TAMIL NADU   \n",
       "\n",
       "  ship-postal-code  ship-country  \\\n",
       "0         400081.0            IN   \n",
       "1         560085.0            IN   \n",
       "2         410210.0            IN   \n",
       "3         605008.0            IN   \n",
       "4         600073.0            IN   \n",
       "\n",
       "                                       promotion-ids    B2B  fulfilled-by  \\\n",
       "0                                                NaN  False     Easy Ship   \n",
       "1  Amazon PLCC Free-Financing Universal Merchant ...  False     Easy Ship   \n",
       "2       IN Core Free Shipping 2015/04/08 23-48-5-108   True           NaN   \n",
       "3                                                NaN  False     Easy Ship   \n",
       "4                                                NaN  False           NaN   \n",
       "\n",
       "  Unnamed: 22  \n",
       "0         NaN  \n",
       "1         NaN  \n",
       "2         NaN  \n",
       "3         NaN  \n",
       "4         NaN  \n",
       "\n",
       "[5 rows x 24 columns]"
      ]
     },
     "execution_count": 4,
     "metadata": {},
     "output_type": "execute_result"
    }
   ],
   "source": [
    "df.head() # Display the first 5 lines of the dataset"
   ]
  },
  {
   "cell_type": "markdown",
   "id": "59ee5e7d-c4de-400a-baf1-ef21c98e92f2",
   "metadata": {},
   "source": [
    "* Check the dimension of the data"
   ]
  },
  {
   "cell_type": "code",
   "execution_count": 5,
   "id": "4a7a8b66-b51b-4dec-adae-65fe65b23e18",
   "metadata": {},
   "outputs": [],
   "source": [
    "df_sizes = {'start': df.shape}"
   ]
  },
  {
   "cell_type": "code",
   "execution_count": 6,
   "id": "52424d5b-db89-4b5e-ac91-c51db9cadf8d",
   "metadata": {},
   "outputs": [
    {
     "name": "stdout",
     "output_type": "stream",
     "text": [
      "Raw data contains 128975 records and 24 columns.\n"
     ]
    }
   ],
   "source": [
    "print(f\"Raw data contains {df_sizes['start'][0]} records and {df_sizes['start'][1]} columns.\")"
   ]
  },
  {
   "cell_type": "markdown",
   "id": "d4e8ddf0-8a4d-4e60-9327-7b71e6c9a3a4",
   "metadata": {},
   "source": [
    "* Standardize the column names"
   ]
  },
  {
   "cell_type": "code",
   "execution_count": 7,
   "id": "3ca0f0ee-c38b-472b-8de8-3fddc2f13cbb",
   "metadata": {},
   "outputs": [
    {
     "data": {
      "text/plain": [
       "Index(['index', 'Order ID', 'Date', 'Status', 'Fulfilment', 'Sales Channel ',\n",
       "       'ship-service-level', 'Style', 'SKU', 'Category', 'Size', 'ASIN',\n",
       "       'Courier Status', 'Qty', 'currency', 'Amount', 'ship-city',\n",
       "       'ship-state', 'ship-postal-code', 'ship-country', 'promotion-ids',\n",
       "       'B2B', 'fulfilled-by', 'Unnamed: 22'],\n",
       "      dtype='object')"
      ]
     },
     "execution_count": 7,
     "metadata": {},
     "output_type": "execute_result"
    }
   ],
   "source": [
    "df.columns"
   ]
  },
  {
   "cell_type": "code",
   "execution_count": 8,
   "id": "fc6fa62e-bedf-478c-8c99-2ff4f7aace3a",
   "metadata": {
    "tags": []
   },
   "outputs": [],
   "source": [
    "df = df.rename(columns={'Order ID': 'Order_ID', 'Sales Channel ': 'Sales_channel',\n",
    "        'ship-service-level': 'ship_service_level', 'ship-city': 'ship_city', \n",
    "        'ship-state': 'ship_state', 'ship-postal-code': 'ship_postal_code', 'ship-country': 'ship_country', \n",
    "        'promotion-ids': 'promotion_ids','Courier Status': 'Courier_Status', 'currency': 'Currency', \n",
    "        'fulfilled-by':'fulfilled_by'})"
   ]
  },
  {
   "cell_type": "markdown",
   "id": "d185ef38-6980-4297-a1fc-e9921923a12d",
   "metadata": {},
   "source": [
    "* Check columns data type"
   ]
  },
  {
   "cell_type": "code",
   "execution_count": 9,
   "id": "ca54a7a8-5ef5-4e0b-b1ed-7f5cdda06faf",
   "metadata": {},
   "outputs": [
    {
     "name": "stdout",
     "output_type": "stream",
     "text": [
      "<class 'pandas.core.frame.DataFrame'>\n",
      "RangeIndex: 128975 entries, 0 to 128974\n",
      "Data columns (total 24 columns):\n",
      " #   Column              Non-Null Count   Dtype  \n",
      "---  ------              --------------   -----  \n",
      " 0   index               128975 non-null  int64  \n",
      " 1   Order_ID            128975 non-null  object \n",
      " 2   Date                128975 non-null  object \n",
      " 3   Status              128975 non-null  object \n",
      " 4   Fulfilment          128975 non-null  object \n",
      " 5   Sales_channel       128975 non-null  object \n",
      " 6   ship_service_level  128975 non-null  object \n",
      " 7   Style               128975 non-null  object \n",
      " 8   SKU                 128975 non-null  object \n",
      " 9   Category            128975 non-null  object \n",
      " 10  Size                128975 non-null  object \n",
      " 11  ASIN                128975 non-null  object \n",
      " 12  Courier_Status      122103 non-null  object \n",
      " 13  Qty                 128975 non-null  int64  \n",
      " 14  Currency            121180 non-null  object \n",
      " 15  Amount              121180 non-null  float64\n",
      " 16  ship_city           128942 non-null  object \n",
      " 17  ship_state          128942 non-null  object \n",
      " 18  ship_postal_code    128942 non-null  float64\n",
      " 19  ship_country        128942 non-null  object \n",
      " 20  promotion_ids       79822 non-null   object \n",
      " 21  B2B                 128975 non-null  bool   \n",
      " 22  fulfilled_by        39277 non-null   object \n",
      " 23  Unnamed: 22         79925 non-null   object \n",
      "dtypes: bool(1), float64(2), int64(2), object(19)\n",
      "memory usage: 22.8+ MB\n"
     ]
    }
   ],
   "source": [
    "df.info()"
   ]
  },
  {
   "cell_type": "markdown",
   "id": "6adb0a08-f476-47fc-9069-5bce5f571d0f",
   "metadata": {},
   "source": [
    "The dataset contains 24 columns, of which 4 containig numeric values:\n",
    "* index  (int)\n",
    "* Qty (int)\n",
    "* Amount (float)\n",
    "* ship-postal-code (float), later it will be converted to integer"
   ]
  },
  {
   "cell_type": "markdown",
   "id": "b4588a49-a75d-4752-b3c8-d5ac7a2cc337",
   "metadata": {},
   "source": [
    "* Set the column 'index' as the index of the dataframe. With this operation the number of columns becomes 22."
   ]
  },
  {
   "cell_type": "code",
   "execution_count": 10,
   "id": "ebbccb93-9274-4a57-b580-5ce90f391c76",
   "metadata": {},
   "outputs": [],
   "source": [
    "df.set_index('index', inplace = True)"
   ]
  },
  {
   "cell_type": "markdown",
   "id": "26ce465b-ba00-4c1b-83d9-50d13cafed24",
   "metadata": {
    "tags": []
   },
   "source": [
    "## 2.2 Missing values [&#129081;](#Top)<a name=\"Missing_df1\"></a>\n",
    "### Evaluate how many values are missing for each attribute and how they are distributed."
   ]
  },
  {
   "cell_type": "markdown",
   "id": "d3cffba2-851e-41b6-8bf3-748b4673014e",
   "metadata": {},
   "source": [
    "* Create a separate dataframe containing the informations about missing and unique values for each column, to better see the correlations."
   ]
  },
  {
   "cell_type": "code",
   "execution_count": 11,
   "id": "19bafb49-9679-4810-8e03-49c250a02d36",
   "metadata": {},
   "outputs": [],
   "source": [
    "def missing_evaluation(dataframe):\n",
    "    '''\n",
    "    missing_evaluation(dataframe)\n",
    "    \n",
    "    Returns a dataframe containing the informations about missing and unique values \n",
    "    for each column on a dataframe passed as a parameter\n",
    "\n",
    "    Parameters: \n",
    "    dataframe: dataframe to analyze\n",
    "    '''\n",
    "    \n",
    "    # Column 'qt_missing': Number of NaN values\n",
    "    df_missing_stats = pd.DataFrame(data=dataframe.isna().sum(), index=dataframe.columns, columns=['qt_missing'])\n",
    "    # Column 'nr_unique_values': Number of unique values\n",
    "    df_missing_stats['qt_unique_values'] = pd.DataFrame(data=dataframe.nunique(), index=dataframe.columns)\n",
    "    # Column 'unique_values': unique values of the attributes\n",
    "    df_missing_stats['unique_values'] = pd.DataFrame(data=dataframe.apply(pd.unique), index=dataframe.columns)\n",
    "    # Column 'perc_missing': percentage of missing values\n",
    "    df_missing_stats['perc_missing'] = pd.DataFrame(data=dataframe.isnull().mean())\n",
    "    return df_missing_stats"
   ]
  },
  {
   "cell_type": "code",
   "execution_count": 12,
   "id": "1e9c9ffb-ad1c-43d4-88de-e427228b62c6",
   "metadata": {},
   "outputs": [
    {
     "data": {
      "text/html": [
       "<div>\n",
       "<style scoped>\n",
       "    .dataframe tbody tr th:only-of-type {\n",
       "        vertical-align: middle;\n",
       "    }\n",
       "\n",
       "    .dataframe tbody tr th {\n",
       "        vertical-align: top;\n",
       "    }\n",
       "\n",
       "    .dataframe thead th {\n",
       "        text-align: right;\n",
       "    }\n",
       "</style>\n",
       "<table border=\"1\" class=\"dataframe\">\n",
       "  <thead>\n",
       "    <tr style=\"text-align: right;\">\n",
       "      <th></th>\n",
       "      <th>qt_missing</th>\n",
       "      <th>qt_unique_values</th>\n",
       "      <th>unique_values</th>\n",
       "      <th>perc_missing</th>\n",
       "    </tr>\n",
       "  </thead>\n",
       "  <tbody>\n",
       "    <tr>\n",
       "      <th>Order_ID</th>\n",
       "      <td>0</td>\n",
       "      <td>120378</td>\n",
       "      <td>[405-8078784-5731545, 171-9198151-1101146, 404...</td>\n",
       "      <td>0.000000</td>\n",
       "    </tr>\n",
       "    <tr>\n",
       "      <th>Date</th>\n",
       "      <td>0</td>\n",
       "      <td>91</td>\n",
       "      <td>[04-30-22, 04-29-22, 04-28-22, 04-27-22, 04-26...</td>\n",
       "      <td>0.000000</td>\n",
       "    </tr>\n",
       "    <tr>\n",
       "      <th>Status</th>\n",
       "      <td>0</td>\n",
       "      <td>13</td>\n",
       "      <td>[Cancelled, Shipped - Delivered to Buyer, Ship...</td>\n",
       "      <td>0.000000</td>\n",
       "    </tr>\n",
       "    <tr>\n",
       "      <th>Fulfilment</th>\n",
       "      <td>0</td>\n",
       "      <td>2</td>\n",
       "      <td>[Merchant, Amazon]</td>\n",
       "      <td>0.000000</td>\n",
       "    </tr>\n",
       "    <tr>\n",
       "      <th>Sales_channel</th>\n",
       "      <td>0</td>\n",
       "      <td>2</td>\n",
       "      <td>[Amazon.in, Non-Amazon]</td>\n",
       "      <td>0.000000</td>\n",
       "    </tr>\n",
       "    <tr>\n",
       "      <th>ship_service_level</th>\n",
       "      <td>0</td>\n",
       "      <td>2</td>\n",
       "      <td>[Standard, Expedited]</td>\n",
       "      <td>0.000000</td>\n",
       "    </tr>\n",
       "    <tr>\n",
       "      <th>Style</th>\n",
       "      <td>0</td>\n",
       "      <td>1377</td>\n",
       "      <td>[SET389, JNE3781, JNE3371, J0341, JNE3671, SET...</td>\n",
       "      <td>0.000000</td>\n",
       "    </tr>\n",
       "    <tr>\n",
       "      <th>SKU</th>\n",
       "      <td>0</td>\n",
       "      <td>7195</td>\n",
       "      <td>[SET389-KR-NP-S, JNE3781-KR-XXXL, JNE3371-KR-X...</td>\n",
       "      <td>0.000000</td>\n",
       "    </tr>\n",
       "    <tr>\n",
       "      <th>Category</th>\n",
       "      <td>0</td>\n",
       "      <td>9</td>\n",
       "      <td>[Set, kurta, Western Dress, Top, Ethnic Dress,...</td>\n",
       "      <td>0.000000</td>\n",
       "    </tr>\n",
       "    <tr>\n",
       "      <th>Size</th>\n",
       "      <td>0</td>\n",
       "      <td>11</td>\n",
       "      <td>[S, 3XL, XL, L, XXL, XS, 6XL, M, 4XL, 5XL, Free]</td>\n",
       "      <td>0.000000</td>\n",
       "    </tr>\n",
       "    <tr>\n",
       "      <th>ASIN</th>\n",
       "      <td>0</td>\n",
       "      <td>7190</td>\n",
       "      <td>[B09KXVBD7Z, B09K3WFS32, B07WV4JV4D, B099NRCT7...</td>\n",
       "      <td>0.000000</td>\n",
       "    </tr>\n",
       "    <tr>\n",
       "      <th>Courier_Status</th>\n",
       "      <td>6872</td>\n",
       "      <td>3</td>\n",
       "      <td>[nan, Shipped, Cancelled, Unshipped]</td>\n",
       "      <td>0.053282</td>\n",
       "    </tr>\n",
       "    <tr>\n",
       "      <th>Qty</th>\n",
       "      <td>0</td>\n",
       "      <td>10</td>\n",
       "      <td>[0, 1, 2, 15, 3, 9, 13, 5, 4, 8]</td>\n",
       "      <td>0.000000</td>\n",
       "    </tr>\n",
       "    <tr>\n",
       "      <th>Currency</th>\n",
       "      <td>7795</td>\n",
       "      <td>1</td>\n",
       "      <td>[INR, nan]</td>\n",
       "      <td>0.060438</td>\n",
       "    </tr>\n",
       "    <tr>\n",
       "      <th>Amount</th>\n",
       "      <td>7795</td>\n",
       "      <td>1410</td>\n",
       "      <td>[647.62, 406.0, 329.0, 753.33, 574.0, 824.0, 6...</td>\n",
       "      <td>0.060438</td>\n",
       "    </tr>\n",
       "    <tr>\n",
       "      <th>ship_city</th>\n",
       "      <td>33</td>\n",
       "      <td>8955</td>\n",
       "      <td>[MUMBAI, BENGALURU, NAVI MUMBAI, PUDUCHERRY, C...</td>\n",
       "      <td>0.000256</td>\n",
       "    </tr>\n",
       "    <tr>\n",
       "      <th>ship_state</th>\n",
       "      <td>33</td>\n",
       "      <td>69</td>\n",
       "      <td>[MAHARASHTRA, KARNATAKA, PUDUCHERRY, TAMIL NAD...</td>\n",
       "      <td>0.000256</td>\n",
       "    </tr>\n",
       "    <tr>\n",
       "      <th>ship_postal_code</th>\n",
       "      <td>33</td>\n",
       "      <td>9459</td>\n",
       "      <td>[400081.0, 560085.0, 410210.0, 605008.0, 60007...</td>\n",
       "      <td>0.000256</td>\n",
       "    </tr>\n",
       "    <tr>\n",
       "      <th>ship_country</th>\n",
       "      <td>33</td>\n",
       "      <td>1</td>\n",
       "      <td>[IN, nan]</td>\n",
       "      <td>0.000256</td>\n",
       "    </tr>\n",
       "    <tr>\n",
       "      <th>promotion_ids</th>\n",
       "      <td>49153</td>\n",
       "      <td>5787</td>\n",
       "      <td>[nan, Amazon PLCC Free-Financing Universal Mer...</td>\n",
       "      <td>0.381105</td>\n",
       "    </tr>\n",
       "    <tr>\n",
       "      <th>B2B</th>\n",
       "      <td>0</td>\n",
       "      <td>2</td>\n",
       "      <td>[False, True]</td>\n",
       "      <td>0.000000</td>\n",
       "    </tr>\n",
       "    <tr>\n",
       "      <th>fulfilled_by</th>\n",
       "      <td>89698</td>\n",
       "      <td>1</td>\n",
       "      <td>[Easy Ship, nan]</td>\n",
       "      <td>0.695468</td>\n",
       "    </tr>\n",
       "    <tr>\n",
       "      <th>Unnamed: 22</th>\n",
       "      <td>49050</td>\n",
       "      <td>1</td>\n",
       "      <td>[nan, False]</td>\n",
       "      <td>0.380306</td>\n",
       "    </tr>\n",
       "  </tbody>\n",
       "</table>\n",
       "</div>"
      ],
      "text/plain": [
       "                    qt_missing  qt_unique_values  \\\n",
       "Order_ID                     0            120378   \n",
       "Date                         0                91   \n",
       "Status                       0                13   \n",
       "Fulfilment                   0                 2   \n",
       "Sales_channel                0                 2   \n",
       "ship_service_level           0                 2   \n",
       "Style                        0              1377   \n",
       "SKU                          0              7195   \n",
       "Category                     0                 9   \n",
       "Size                         0                11   \n",
       "ASIN                         0              7190   \n",
       "Courier_Status            6872                 3   \n",
       "Qty                          0                10   \n",
       "Currency                  7795                 1   \n",
       "Amount                    7795              1410   \n",
       "ship_city                   33              8955   \n",
       "ship_state                  33                69   \n",
       "ship_postal_code            33              9459   \n",
       "ship_country                33                 1   \n",
       "promotion_ids            49153              5787   \n",
       "B2B                          0                 2   \n",
       "fulfilled_by             89698                 1   \n",
       "Unnamed: 22              49050                 1   \n",
       "\n",
       "                                                        unique_values  \\\n",
       "Order_ID            [405-8078784-5731545, 171-9198151-1101146, 404...   \n",
       "Date                [04-30-22, 04-29-22, 04-28-22, 04-27-22, 04-26...   \n",
       "Status              [Cancelled, Shipped - Delivered to Buyer, Ship...   \n",
       "Fulfilment                                         [Merchant, Amazon]   \n",
       "Sales_channel                                 [Amazon.in, Non-Amazon]   \n",
       "ship_service_level                              [Standard, Expedited]   \n",
       "Style               [SET389, JNE3781, JNE3371, J0341, JNE3671, SET...   \n",
       "SKU                 [SET389-KR-NP-S, JNE3781-KR-XXXL, JNE3371-KR-X...   \n",
       "Category            [Set, kurta, Western Dress, Top, Ethnic Dress,...   \n",
       "Size                 [S, 3XL, XL, L, XXL, XS, 6XL, M, 4XL, 5XL, Free]   \n",
       "ASIN                [B09KXVBD7Z, B09K3WFS32, B07WV4JV4D, B099NRCT7...   \n",
       "Courier_Status                   [nan, Shipped, Cancelled, Unshipped]   \n",
       "Qty                                  [0, 1, 2, 15, 3, 9, 13, 5, 4, 8]   \n",
       "Currency                                                   [INR, nan]   \n",
       "Amount              [647.62, 406.0, 329.0, 753.33, 574.0, 824.0, 6...   \n",
       "ship_city           [MUMBAI, BENGALURU, NAVI MUMBAI, PUDUCHERRY, C...   \n",
       "ship_state          [MAHARASHTRA, KARNATAKA, PUDUCHERRY, TAMIL NAD...   \n",
       "ship_postal_code    [400081.0, 560085.0, 410210.0, 605008.0, 60007...   \n",
       "ship_country                                                [IN, nan]   \n",
       "promotion_ids       [nan, Amazon PLCC Free-Financing Universal Mer...   \n",
       "B2B                                                     [False, True]   \n",
       "fulfilled_by                                         [Easy Ship, nan]   \n",
       "Unnamed: 22                                              [nan, False]   \n",
       "\n",
       "                    perc_missing  \n",
       "Order_ID                0.000000  \n",
       "Date                    0.000000  \n",
       "Status                  0.000000  \n",
       "Fulfilment              0.000000  \n",
       "Sales_channel           0.000000  \n",
       "ship_service_level      0.000000  \n",
       "Style                   0.000000  \n",
       "SKU                     0.000000  \n",
       "Category                0.000000  \n",
       "Size                    0.000000  \n",
       "ASIN                    0.000000  \n",
       "Courier_Status          0.053282  \n",
       "Qty                     0.000000  \n",
       "Currency                0.060438  \n",
       "Amount                  0.060438  \n",
       "ship_city               0.000256  \n",
       "ship_state              0.000256  \n",
       "ship_postal_code        0.000256  \n",
       "ship_country            0.000256  \n",
       "promotion_ids           0.381105  \n",
       "B2B                     0.000000  \n",
       "fulfilled_by            0.695468  \n",
       "Unnamed: 22             0.380306  "
      ]
     },
     "execution_count": 12,
     "metadata": {},
     "output_type": "execute_result"
    }
   ],
   "source": [
    "df_missing_stats = missing_evaluation(df)\n",
    "df_missing_stats"
   ]
  },
  {
   "cell_type": "code",
   "execution_count": 13,
   "id": "1db9398c-38f8-4ebc-852f-6a53de684379",
   "metadata": {},
   "outputs": [
    {
     "data": {
      "image/png": "[encoded data removed]",
      "text/plain": [
       "<Figure size 1800x720 with 2 Axes>"
      ]
     },
     "metadata": {
      "needs_background": "light"
     },
     "output_type": "display_data"
    }
   ],
   "source": [
    "# Visualize the distribution of missing values with missingno matrix\n",
    "msno.matrix(df);"
   ]
  },
  {
   "cell_type": "code",
   "execution_count": 14,
   "id": "08655e4b-8527-4e7f-ba2b-568fd4fa8f8b",
   "metadata": {},
   "outputs": [
    {
     "data": {
      "image/png": "[encoded data removed]",
      "text/plain": [
       "<Figure size 1440x864 with 2 Axes>"
      ]
     },
     "metadata": {
      "needs_background": "light"
     },
     "output_type": "display_data"
    }
   ],
   "source": [
    "# Use the heatmap to identify correlations of the nullity between each of the different columns.\n",
    "msno.heatmap(df);"
   ]
  },
  {
   "cell_type": "markdown",
   "id": "6bfc5ae4-76f4-41b2-9af1-d676680c5d66",
   "metadata": {},
   "source": [
    "Worth noting that:\n",
    "* When one of the columns **'Amount'** and **'Currency'** is null, the other is also null (7795 raws with null values).\n",
    "* When one of columns **'ship_city', 'ship_state', 'ship_postal_code', 'ship_country'** has a null value, the others are also null (33 raws with null values)."
   ]
  },
  {
   "cell_type": "markdown",
   "id": "a1de5c07-9917-4e3b-9b77-9733a0551c08",
   "metadata": {},
   "source": [
    "### Fill in (or eliminate) the missing values with a case-by-case assessment.\n",
    "After the exploration of the missing values, it's possible to proceed fill (or clean) each column, performing an individual assessment."
   ]
  },
  {
   "cell_type": "markdown",
   "id": "19bd5409-d817-41ce-98a8-f4f448813f53",
   "metadata": {},
   "source": [
    "* **Courier_Status**: missing values filled with 'Unknown'"
   ]
  },
  {
   "cell_type": "code",
   "execution_count": 15,
   "id": "e4ff6139-d3f0-4b0b-ac8d-bfa58a4b7784",
   "metadata": {},
   "outputs": [],
   "source": [
    "# Replace NaN values in column 'Courier_Status' with the value 'Unknown'\n",
    "df['Courier_Status'].fillna('Unknown', inplace = True)"
   ]
  },
  {
   "cell_type": "markdown",
   "id": "fb3f3ae8-1bdb-46bd-ae48-23ac11cb7813",
   "metadata": {},
   "source": [
    "* Check nullity correlation on **Amount** and **Currency** columns\n",
    "* Fill missing values in **Amount** with zero\n",
    "* Fill missing values in **Currency** with 'INR'"
   ]
  },
  {
   "cell_type": "code",
   "execution_count": 16,
   "id": "ec4f4868-bb6b-4701-bdc9-4ca823f24479",
   "metadata": {},
   "outputs": [],
   "source": [
    "set_idx_amount_null = set(df[df['Amount'].isnull()].index)"
   ]
  },
  {
   "cell_type": "code",
   "execution_count": 17,
   "id": "7f496b77-94d9-4f0f-b833-37039f69efde",
   "metadata": {
    "tags": []
   },
   "outputs": [],
   "source": [
    "set2_idx_currency_null = set(df[df['Currency'].isnull()].index)"
   ]
  },
  {
   "cell_type": "code",
   "execution_count": 18,
   "id": "b6fc90dd-3f0b-4baa-9d7a-79261b6c77e8",
   "metadata": {},
   "outputs": [
    {
     "name": "stdout",
     "output_type": "stream",
     "text": [
      "Question: Columns 'Amount' and 'Currency' have 1 to 1 nullity correlation?\n",
      "Answer: True\n"
     ]
    }
   ],
   "source": [
    "print(f\"Question: Columns 'Amount' and 'Currency' have 1 to 1 nullity correlation?\\nAnswer: {set_idx_amount_null == set2_idx_currency_null}\") "
   ]
  },
  {
   "cell_type": "code",
   "execution_count": 19,
   "id": "34deb741-87b1-42c0-b5ac-1c7dc94ceb55",
   "metadata": {},
   "outputs": [],
   "source": [
    "df['Amount'].fillna(0, inplace = True)"
   ]
  },
  {
   "cell_type": "code",
   "execution_count": 20,
   "id": "b09d0e87-dd02-46d2-87b0-25cdbd448a4a",
   "metadata": {},
   "outputs": [],
   "source": [
    "df['Currency'].fillna('INR', inplace = True)"
   ]
  },
  {
   "cell_type": "markdown",
   "id": "31f964c6-4787-4925-b5e0-b7215408fd83",
   "metadata": {},
   "source": [
    "* **promotion_ids**: missing values filled with 'No Promo'"
   ]
  },
  {
   "cell_type": "code",
   "execution_count": 21,
   "id": "39e1edd5-fb93-46f5-9967-96e5ccb7f8e8",
   "metadata": {},
   "outputs": [],
   "source": [
    "# Replace NaN values in column 'promotion_ids' with the value 'Unknown'\n",
    "df['promotion_ids'].fillna('No Promo', inplace = True)"
   ]
  },
  {
   "cell_type": "markdown",
   "id": "5ed0502b-0336-45cf-be47-80b8ba87d4af",
   "metadata": {},
   "source": [
    "* **ship_city** and **ship_state**: missing values filled with 'Unknown'\n",
    "* **ship_postal_code**: missing values filled with zero\n",
    "* **ship_country**: missing values filled with 'Unknown'"
   ]
  },
  {
   "cell_type": "code",
   "execution_count": 22,
   "id": "2db42836-6a99-48b8-91be-97069908c8e1",
   "metadata": {},
   "outputs": [],
   "source": [
    "df['ship_city'].fillna('Unknown', inplace = True)\n",
    "df['ship_state'].fillna('Unknown', inplace = True)\n",
    "df['ship_postal_code'].fillna(0, inplace = True)\n",
    "df['ship_country'].fillna('Unknown', inplace = True)"
   ]
  },
  {
   "cell_type": "markdown",
   "id": "bfc02d55-d2cc-48b5-91c2-b02e5bb6d13b",
   "metadata": {},
   "source": [
    "* **fulfilled_by**: missing values filled with 'FBA' (Fulfilled by Amazon)."
   ]
  },
  {
   "cell_type": "code",
   "execution_count": 23,
   "id": "ec70a0a3-ad1a-4f3d-93da-049eadf65613",
   "metadata": {},
   "outputs": [],
   "source": [
    "df['fulfilled_by'].fillna('FBA', inplace = True)"
   ]
  },
  {
   "cell_type": "markdown",
   "id": "38aa5e49-c62e-4278-9d29-4113975d04fe",
   "metadata": {},
   "source": [
    "* **Unnamed: 22** will be deleted because it isn't relevant"
   ]
  },
  {
   "cell_type": "code",
   "execution_count": 24,
   "id": "cdfc810e-bd71-4e0e-b02e-5d3e0670331d",
   "metadata": {},
   "outputs": [],
   "source": [
    "df.drop(columns = ['Unnamed: 22'], inplace = True)"
   ]
  },
  {
   "cell_type": "markdown",
   "id": "43832392-1276-4d39-ac80-9b149182b914",
   "metadata": {},
   "source": [
    "### Check that none of the missing values are left"
   ]
  },
  {
   "cell_type": "code",
   "execution_count": 25,
   "id": "b4ace799-fe1a-404f-ba36-f4f327b4da5f",
   "metadata": {
    "tags": []
   },
   "outputs": [
    {
     "data": {
      "text/plain": [
       "0"
      ]
     },
     "execution_count": 25,
     "metadata": {},
     "output_type": "execute_result"
    }
   ],
   "source": [
    "df.isna().sum().sum()"
   ]
  },
  {
   "cell_type": "code",
   "execution_count": 26,
   "id": "90d181ed-024c-453a-969f-9d0f3a04d403",
   "metadata": {},
   "outputs": [
    {
     "data": {
      "text/html": [
       "<div>\n",
       "<style scoped>\n",
       "    .dataframe tbody tr th:only-of-type {\n",
       "        vertical-align: middle;\n",
       "    }\n",
       "\n",
       "    .dataframe tbody tr th {\n",
       "        vertical-align: top;\n",
       "    }\n",
       "\n",
       "    .dataframe thead th {\n",
       "        text-align: right;\n",
       "    }\n",
       "</style>\n",
       "<table border=\"1\" class=\"dataframe\">\n",
       "  <thead>\n",
       "    <tr style=\"text-align: right;\">\n",
       "      <th></th>\n",
       "      <th>qt_missing</th>\n",
       "      <th>qt_unique_values</th>\n",
       "      <th>unique_values</th>\n",
       "      <th>perc_missing</th>\n",
       "    </tr>\n",
       "  </thead>\n",
       "  <tbody>\n",
       "    <tr>\n",
       "      <th>Order_ID</th>\n",
       "      <td>0</td>\n",
       "      <td>120378</td>\n",
       "      <td>[405-8078784-5731545, 171-9198151-1101146, 404...</td>\n",
       "      <td>0.0</td>\n",
       "    </tr>\n",
       "    <tr>\n",
       "      <th>Date</th>\n",
       "      <td>0</td>\n",
       "      <td>91</td>\n",
       "      <td>[04-30-22, 04-29-22, 04-28-22, 04-27-22, 04-26...</td>\n",
       "      <td>0.0</td>\n",
       "    </tr>\n",
       "    <tr>\n",
       "      <th>Status</th>\n",
       "      <td>0</td>\n",
       "      <td>13</td>\n",
       "      <td>[Cancelled, Shipped - Delivered to Buyer, Ship...</td>\n",
       "      <td>0.0</td>\n",
       "    </tr>\n",
       "    <tr>\n",
       "      <th>Fulfilment</th>\n",
       "      <td>0</td>\n",
       "      <td>2</td>\n",
       "      <td>[Merchant, Amazon]</td>\n",
       "      <td>0.0</td>\n",
       "    </tr>\n",
       "    <tr>\n",
       "      <th>Sales_channel</th>\n",
       "      <td>0</td>\n",
       "      <td>2</td>\n",
       "      <td>[Amazon.in, Non-Amazon]</td>\n",
       "      <td>0.0</td>\n",
       "    </tr>\n",
       "    <tr>\n",
       "      <th>ship_service_level</th>\n",
       "      <td>0</td>\n",
       "      <td>2</td>\n",
       "      <td>[Standard, Expedited]</td>\n",
       "      <td>0.0</td>\n",
       "    </tr>\n",
       "    <tr>\n",
       "      <th>Style</th>\n",
       "      <td>0</td>\n",
       "      <td>1377</td>\n",
       "      <td>[SET389, JNE3781, JNE3371, J0341, JNE3671, SET...</td>\n",
       "      <td>0.0</td>\n",
       "    </tr>\n",
       "    <tr>\n",
       "      <th>SKU</th>\n",
       "      <td>0</td>\n",
       "      <td>7195</td>\n",
       "      <td>[SET389-KR-NP-S, JNE3781-KR-XXXL, JNE3371-KR-X...</td>\n",
       "      <td>0.0</td>\n",
       "    </tr>\n",
       "    <tr>\n",
       "      <th>Category</th>\n",
       "      <td>0</td>\n",
       "      <td>9</td>\n",
       "      <td>[Set, kurta, Western Dress, Top, Ethnic Dress,...</td>\n",
       "      <td>0.0</td>\n",
       "    </tr>\n",
       "    <tr>\n",
       "      <th>Size</th>\n",
       "      <td>0</td>\n",
       "      <td>11</td>\n",
       "      <td>[S, 3XL, XL, L, XXL, XS, 6XL, M, 4XL, 5XL, Free]</td>\n",
       "      <td>0.0</td>\n",
       "    </tr>\n",
       "    <tr>\n",
       "      <th>ASIN</th>\n",
       "      <td>0</td>\n",
       "      <td>7190</td>\n",
       "      <td>[B09KXVBD7Z, B09K3WFS32, B07WV4JV4D, B099NRCT7...</td>\n",
       "      <td>0.0</td>\n",
       "    </tr>\n",
       "    <tr>\n",
       "      <th>Courier_Status</th>\n",
       "      <td>0</td>\n",
       "      <td>4</td>\n",
       "      <td>[Unknown, Shipped, Cancelled, Unshipped]</td>\n",
       "      <td>0.0</td>\n",
       "    </tr>\n",
       "    <tr>\n",
       "      <th>Qty</th>\n",
       "      <td>0</td>\n",
       "      <td>10</td>\n",
       "      <td>[0, 1, 2, 15, 3, 9, 13, 5, 4, 8]</td>\n",
       "      <td>0.0</td>\n",
       "    </tr>\n",
       "    <tr>\n",
       "      <th>Currency</th>\n",
       "      <td>0</td>\n",
       "      <td>1</td>\n",
       "      <td>[INR]</td>\n",
       "      <td>0.0</td>\n",
       "    </tr>\n",
       "    <tr>\n",
       "      <th>Amount</th>\n",
       "      <td>0</td>\n",
       "      <td>1410</td>\n",
       "      <td>[647.62, 406.0, 329.0, 753.33, 574.0, 824.0, 6...</td>\n",
       "      <td>0.0</td>\n",
       "    </tr>\n",
       "    <tr>\n",
       "      <th>ship_city</th>\n",
       "      <td>0</td>\n",
       "      <td>8956</td>\n",
       "      <td>[MUMBAI, BENGALURU, NAVI MUMBAI, PUDUCHERRY, C...</td>\n",
       "      <td>0.0</td>\n",
       "    </tr>\n",
       "    <tr>\n",
       "      <th>ship_state</th>\n",
       "      <td>0</td>\n",
       "      <td>70</td>\n",
       "      <td>[MAHARASHTRA, KARNATAKA, PUDUCHERRY, TAMIL NAD...</td>\n",
       "      <td>0.0</td>\n",
       "    </tr>\n",
       "    <tr>\n",
       "      <th>ship_postal_code</th>\n",
       "      <td>0</td>\n",
       "      <td>9460</td>\n",
       "      <td>[400081.0, 560085.0, 410210.0, 605008.0, 60007...</td>\n",
       "      <td>0.0</td>\n",
       "    </tr>\n",
       "    <tr>\n",
       "      <th>ship_country</th>\n",
       "      <td>0</td>\n",
       "      <td>2</td>\n",
       "      <td>[IN, Unknown]</td>\n",
       "      <td>0.0</td>\n",
       "    </tr>\n",
       "    <tr>\n",
       "      <th>promotion_ids</th>\n",
       "      <td>0</td>\n",
       "      <td>5788</td>\n",
       "      <td>[No Promo, Amazon PLCC Free-Financing Universa...</td>\n",
       "      <td>0.0</td>\n",
       "    </tr>\n",
       "    <tr>\n",
       "      <th>B2B</th>\n",
       "      <td>0</td>\n",
       "      <td>2</td>\n",
       "      <td>[False, True]</td>\n",
       "      <td>0.0</td>\n",
       "    </tr>\n",
       "    <tr>\n",
       "      <th>fulfilled_by</th>\n",
       "      <td>0</td>\n",
       "      <td>2</td>\n",
       "      <td>[Easy Ship, FBA]</td>\n",
       "      <td>0.0</td>\n",
       "    </tr>\n",
       "  </tbody>\n",
       "</table>\n",
       "</div>"
      ],
      "text/plain": [
       "                    qt_missing  qt_unique_values  \\\n",
       "Order_ID                     0            120378   \n",
       "Date                         0                91   \n",
       "Status                       0                13   \n",
       "Fulfilment                   0                 2   \n",
       "Sales_channel                0                 2   \n",
       "ship_service_level           0                 2   \n",
       "Style                        0              1377   \n",
       "SKU                          0              7195   \n",
       "Category                     0                 9   \n",
       "Size                         0                11   \n",
       "ASIN                         0              7190   \n",
       "Courier_Status               0                 4   \n",
       "Qty                          0                10   \n",
       "Currency                     0                 1   \n",
       "Amount                       0              1410   \n",
       "ship_city                    0              8956   \n",
       "ship_state                   0                70   \n",
       "ship_postal_code             0              9460   \n",
       "ship_country                 0                 2   \n",
       "promotion_ids                0              5788   \n",
       "B2B                          0                 2   \n",
       "fulfilled_by                 0                 2   \n",
       "\n",
       "                                                        unique_values  \\\n",
       "Order_ID            [405-8078784-5731545, 171-9198151-1101146, 404...   \n",
       "Date                [04-30-22, 04-29-22, 04-28-22, 04-27-22, 04-26...   \n",
       "Status              [Cancelled, Shipped - Delivered to Buyer, Ship...   \n",
       "Fulfilment                                         [Merchant, Amazon]   \n",
       "Sales_channel                                 [Amazon.in, Non-Amazon]   \n",
       "ship_service_level                              [Standard, Expedited]   \n",
       "Style               [SET389, JNE3781, JNE3371, J0341, JNE3671, SET...   \n",
       "SKU                 [SET389-KR-NP-S, JNE3781-KR-XXXL, JNE3371-KR-X...   \n",
       "Category            [Set, kurta, Western Dress, Top, Ethnic Dress,...   \n",
       "Size                 [S, 3XL, XL, L, XXL, XS, 6XL, M, 4XL, 5XL, Free]   \n",
       "ASIN                [B09KXVBD7Z, B09K3WFS32, B07WV4JV4D, B099NRCT7...   \n",
       "Courier_Status               [Unknown, Shipped, Cancelled, Unshipped]   \n",
       "Qty                                  [0, 1, 2, 15, 3, 9, 13, 5, 4, 8]   \n",
       "Currency                                                        [INR]   \n",
       "Amount              [647.62, 406.0, 329.0, 753.33, 574.0, 824.0, 6...   \n",
       "ship_city           [MUMBAI, BENGALURU, NAVI MUMBAI, PUDUCHERRY, C...   \n",
       "ship_state          [MAHARASHTRA, KARNATAKA, PUDUCHERRY, TAMIL NAD...   \n",
       "ship_postal_code    [400081.0, 560085.0, 410210.0, 605008.0, 60007...   \n",
       "ship_country                                            [IN, Unknown]   \n",
       "promotion_ids       [No Promo, Amazon PLCC Free-Financing Universa...   \n",
       "B2B                                                     [False, True]   \n",
       "fulfilled_by                                         [Easy Ship, FBA]   \n",
       "\n",
       "                    perc_missing  \n",
       "Order_ID                     0.0  \n",
       "Date                         0.0  \n",
       "Status                       0.0  \n",
       "Fulfilment                   0.0  \n",
       "Sales_channel                0.0  \n",
       "ship_service_level           0.0  \n",
       "Style                        0.0  \n",
       "SKU                          0.0  \n",
       "Category                     0.0  \n",
       "Size                         0.0  \n",
       "ASIN                         0.0  \n",
       "Courier_Status               0.0  \n",
       "Qty                          0.0  \n",
       "Currency                     0.0  \n",
       "Amount                       0.0  \n",
       "ship_city                    0.0  \n",
       "ship_state                   0.0  \n",
       "ship_postal_code             0.0  \n",
       "ship_country                 0.0  \n",
       "promotion_ids                0.0  \n",
       "B2B                          0.0  \n",
       "fulfilled_by                 0.0  "
      ]
     },
     "execution_count": 26,
     "metadata": {},
     "output_type": "execute_result"
    }
   ],
   "source": [
    "df_missing_stats = missing_evaluation(df)\n",
    "df_missing_stats"
   ]
  },
  {
   "cell_type": "markdown",
   "id": "063175fa-3f08-4708-92a1-1254a57e6e76",
   "metadata": {
    "tags": []
   },
   "source": [
    "## 2.3 Uniform the values in each column [&#129081;](#Top)<a name=\"UniformValues_df1\"></a>\n",
    "To make values consistent, such as eliminating duplicates and having unique values, it is first of all necessary to standardize the style of the strings.\n",
    "It's a procedure in which the intervention to apply for each column must be evaluated individually."
   ]
  },
  {
   "cell_type": "markdown",
   "id": "ce3beca3-0d87-4a2a-9950-d5ed1dfee74f",
   "metadata": {},
   "source": [
    "* **Order_ID**: it's proper that it's a string, remove extra white spaces from the beginning and end, and set the characters in UPPER case."
   ]
  },
  {
   "cell_type": "code",
   "execution_count": 27,
   "id": "e7039883-3d7d-4537-ba00-281023aeca2e",
   "metadata": {},
   "outputs": [],
   "source": [
    "df['Order_ID'] = df['Order_ID'].str.strip()"
   ]
  },
  {
   "cell_type": "code",
   "execution_count": 28,
   "id": "22fedc4d-d5f3-4707-ad90-f46d09c842ef",
   "metadata": {},
   "outputs": [],
   "source": [
    "df['Order_ID'] = df['Order_ID'].str.upper()"
   ]
  },
  {
   "cell_type": "markdown",
   "id": "60c7b468-33fc-41cc-bc33-1ae23af07ad2",
   "metadata": {},
   "source": [
    "* **Date**: it's in string format, set it to to dtype datetime. "
   ]
  },
  {
   "cell_type": "code",
   "execution_count": 29,
   "id": "0c948db5-65c0-460d-b743-575f20fe1bea",
   "metadata": {},
   "outputs": [],
   "source": [
    "# Set column 'Date' to data type datetime\n",
    "df['Date'] = pd.to_datetime(df['Date'])"
   ]
  },
  {
   "cell_type": "markdown",
   "id": "19c3d449-f339-4c8e-b265-bcbe2800f027",
   "metadata": {},
   "source": [
    "* **Status**: it's proper that it's a string, remove extra white spaces from the beginning and end.   \n",
    "Then check if there are the same 'Status' values but with different spellings.  \n",
    "As verified above, it contains 13 values, so they can be checked visually one by one, avoiding apply without distinction Capitalize or UPPER methods, keeping the contents legible at a glance within possible limits."
   ]
  },
  {
   "cell_type": "code",
   "execution_count": 30,
   "id": "e0ba6c63-1c9c-4195-8128-286f1c99b6b3",
   "metadata": {},
   "outputs": [],
   "source": [
    "df['Status'] = df['Status'].str.strip()"
   ]
  },
  {
   "cell_type": "code",
   "execution_count": 31,
   "id": "8c49c480-e01d-49aa-b77c-5f63537dca95",
   "metadata": {},
   "outputs": [
    {
     "name": "stdout",
     "output_type": "stream",
     "text": [
      "'Cancelled'\n",
      "'Pending'\n",
      "'Pending - Waiting for Pick Up'\n",
      "'Shipped'\n",
      "'Shipped - Damaged'\n",
      "'Shipped - Delivered to Buyer'\n",
      "'Shipped - Lost in Transit'\n",
      "'Shipped - Out for Delivery'\n",
      "'Shipped - Picked Up'\n",
      "'Shipped - Rejected by Buyer'\n",
      "'Shipped - Returned to Seller'\n",
      "'Shipped - Returning to Seller'\n",
      "'Shipping'\n"
     ]
    }
   ],
   "source": [
    "# Check column 'Status', result: it doesn't need intervention\n",
    "for value in df.Status.sort_values().unique():\n",
    "    print(f\"'{value}'\")"
   ]
  },
  {
   "cell_type": "markdown",
   "id": "f1874a7a-0683-4538-914f-9165db6c7478",
   "metadata": {},
   "source": [
    "* **Fulfilment**: contains 2 unique values ('Merchant' and 'Amazon'), and are already written in the correct form\n",
    "* **Sales_channel**: contains 2 unique values ('Amazon.in' and 'Non-Amazon'), and are already written in the correct form\n",
    "* **ship_service_level**: contains 2 unique values('Standard' and 'Expedited'), and are already written in the correct form"
   ]
  },
  {
   "cell_type": "markdown",
   "id": "aedc578a-ce63-41a2-8b4d-ac6858d66f29",
   "metadata": {},
   "source": [
    "* **Style** and **SKU**: it's proper that they are strings, remove extra white spaces from the beginning and end, and set the characters in UPPER case."
   ]
  },
  {
   "cell_type": "code",
   "execution_count": 32,
   "id": "84550d1f-71ec-4a25-963a-70ffb293c60d",
   "metadata": {},
   "outputs": [],
   "source": [
    "df['Style'] = df['Style'].str.strip()\n",
    "df['Style'] = df['Style'].str.upper()\n",
    "df['SKU'] = df['SKU'].str.strip()\n",
    "df['SKU'] = df['SKU'].str.upper()"
   ]
  },
  {
   "cell_type": "markdown",
   "id": "e89a3f5d-5d3f-49ab-8129-70585e8a1b3e",
   "metadata": {},
   "source": [
    "* **Category**: it's proper that it's a string, remove extra white spaces from the beginning and end, and set the characters in UPPER case."
   ]
  },
  {
   "cell_type": "code",
   "execution_count": 33,
   "id": "975c5bf0-aeb3-4ed8-8ff0-369f19dc0f28",
   "metadata": {},
   "outputs": [],
   "source": [
    "df['Category'] = df['Category'].str.strip()\n",
    "df['Category'] = df['Category'].str.upper()"
   ]
  },
  {
   "cell_type": "markdown",
   "id": "3437ccd7-e01b-447c-8918-6a964025d1b0",
   "metadata": {},
   "source": [
    "* **Size**: contains 11 unique values, and as can be seen from the table above they are already written in the correct form."
   ]
  },
  {
   "cell_type": "markdown",
   "id": "cf1075b6-f01b-44bb-bfbf-6df08867ad50",
   "metadata": {},
   "source": [
    "* **ASIN**: it's proper that it's a string, remove extra white spaces from the beginning and end, and set the characters in UPPER case."
   ]
  },
  {
   "cell_type": "code",
   "execution_count": 34,
   "id": "2cac975a-e52c-44ea-9f93-f74f62ef65a4",
   "metadata": {},
   "outputs": [],
   "source": [
    "df['ASIN'] = df['ASIN'].str.strip()\n",
    "df['ASIN'] = df['ASIN'].str.upper()"
   ]
  },
  {
   "cell_type": "markdown",
   "id": "f0969e0a-630a-4738-8988-a124b816a8f2",
   "metadata": {},
   "source": [
    "* **Courier_Status**: contains 4 unique values (Shipped, Cancelled, Unshipped, Unknown), and are already written in the correct form.   \n",
    "* **Qty**: is a integer number, with max value of 15 units. It doesn't nedd intervention. \n",
    "* **Currency**: contains 1 unique value (INR), and is already written in the correct form.  \n",
    "* **Amount**: is a float number. With the measurements made so far it doesn't seem to need intervention."
   ]
  },
  {
   "cell_type": "markdown",
   "id": "486be256-7e9e-4f8f-b812-6d06e42023f8",
   "metadata": {},
   "source": [
    "* **ship_city** and **ship_state**: it’s proper that they are strings, remove extra white spaces from the beginning and end, and uniform all the characters to UPPER case. Then check the accuracy of geographic names. And normalize different istances of the same state and city."
   ]
  },
  {
   "cell_type": "code",
   "execution_count": 35,
   "id": "483df4e7-7d01-482e-9cb5-a4bfbc16d12e",
   "metadata": {},
   "outputs": [],
   "source": [
    "df['ship_city'] = df['ship_city'].str.strip()\n",
    "df['ship_city'] = df['ship_city'].str.upper()\n",
    "df['ship_state'] = df['ship_state'].str.strip()\n",
    "df['ship_state'] = df['ship_state'].str.upper()"
   ]
  },
  {
   "cell_type": "code",
   "execution_count": 36,
   "id": "e07d119f-f502-4164-9ad1-c3423f968126",
   "metadata": {},
   "outputs": [],
   "source": [
    "df.loc[df['ship_state'].isin(['AR']),'ship_state'] = 'ARUNACHAL PRADESH'\n",
    "df.loc[df['ship_state'].isin(['NEW DELHI']),'ship_state'] = 'DELHI'\n",
    "df.loc[df['ship_state'].isin(['NL']),'ship_state'] = 'NAGALAND'\n",
    "df.loc[df['ship_state'].isin(['ORISSA']),'ship_state'] = 'ODISHA'\n",
    "df.loc[df['ship_state'].isin(['PONDICHERRY']),'ship_state'] = 'PUDUCHERRY'\n",
    "df.loc[df['ship_state'].isin(['PUNJAB/MOHALI/ZIRAKPUR','PB']),'ship_state'] = 'PUNJAB'\n",
    "df.loc[df['ship_state'].isin(['RAJSHTHAN','RAJSTHAN','RJ']),'ship_state'] = 'RAJASTHAN'"
   ]
  },
  {
   "cell_type": "code",
   "execution_count": 37,
   "id": "c4bc1eec-8dda-4135-9e18-01e5f585b30c",
   "metadata": {},
   "outputs": [],
   "source": [
    "df['ship_city'] = df['ship_city'].replace(['PUDUCHERRY','PONDYCHERRY', 'PUDUCHERRY 605001', 'PUDUCHERRY 605003'],'PUDUCHERRY')"
   ]
  },
  {
   "cell_type": "code",
   "execution_count": 38,
   "id": "d074a288-51b4-4c0d-95e4-6abed532b7fb",
   "metadata": {
    "tags": []
   },
   "outputs": [],
   "source": [
    "df['ship_city'] = df['ship_city'].replace(['NORTH DELHI', 'NORTH WEST DELHI','NEW DELHI (NORTH)'],'NEW DELHI (NORTH)')\n",
    "df['ship_city'] = df['ship_city'].replace(['SOUTH  DELHI', 'SOUTH DELHI'],'NEW DELHI (SOUTH)')\n",
    "df['ship_city'] = df['ship_city'].replace(['SOUTH EAST DELHI'],'NEW DELHI (SOUTH EAST)')\n",
    "df['ship_city'] = df['ship_city'].replace(['SOUTH WEST DELHI','SOUTH-WEST DELHI'],'NEW DELHI (SOUTH WEST)')\n",
    "df['ship_city'] = df['ship_city'].replace(['WEST DELHI'],'NEW DELHI (WEST)')\n",
    "df['ship_city'] = df['ship_city'].replace(['CENTRAL DELHI','CITY'],'NEW DELHI (CENTRAL)')\n",
    "df['ship_city'] = df['ship_city'].replace(['EAST DELHI'],'NEW DELHI (EAST)')"
   ]
  },
  {
   "cell_type": "code",
   "execution_count": 39,
   "id": "58e9b772-8fa2-43b6-9106-f4bba400c2d3",
   "metadata": {},
   "outputs": [],
   "source": [
    "pattern = r'^NEW DELHI(?!.*\\()'\n",
    "df['ship_city'] = df['ship_city'].apply(lambda x: \"NEW DELHI\" if re.match(pattern, x) else x)"
   ]
  },
  {
   "cell_type": "code",
   "execution_count": 40,
   "id": "10747453-e071-4a2e-a462-6973cfd207a2",
   "metadata": {},
   "outputs": [],
   "source": [
    "df['ship_city'] = df['ship_city'].replace(['N.DELHI','NEW DELH','DELHI','DELHI -86','DELHI 110085','DELHI CANTT','DELHI-92.','DELHIQ', 'NEW-DELHI',\n",
    " 'NEWDELHI'],'NEW DELHI')"
   ]
  },
  {
   "cell_type": "code",
   "execution_count": 41,
   "id": "9696b77f-204c-4ed9-9207-421f844ab27e",
   "metadata": {},
   "outputs": [],
   "source": [
    "pattern = r'^BANGALOR(?!.*\\()'\n",
    "df['ship_city'] = df['ship_city'].apply(lambda x: 'BANGALORE' if re.match(pattern, x) else x)\n",
    "df['ship_city'] = df['ship_city'].apply(lambda x: 'BANGALORE' if re.match(r'^BENGALUR(?!.*\\()', x) else x)\n",
    "df['ship_city'] = df['ship_city'].replace(['BENGALOORU','BENGOLOOR'],'BANGALORE')"
   ]
  },
  {
   "cell_type": "markdown",
   "id": "7d5b6090-aacf-4c1b-9a68-5cb898ecedcc",
   "metadata": {},
   "source": [
    "Note: since this notebook is for demonstration purposes only, I normalized all State names, and only the cities of Puducherry, New Delhi and Bangalore."
   ]
  },
  {
   "cell_type": "markdown",
   "id": "b770ab71-e9d0-4a52-be74-890a14199097",
   "metadata": {},
   "source": [
    "* **ship_postal_code**: it's currently a float, but postal code is a categorical data, so it needs to be converted in string. Remember that all missing values have been replaced with zeros."
   ]
  },
  {
   "cell_type": "code",
   "execution_count": 42,
   "id": "aa912907-43fc-44f8-9f83-c5b55e816a50",
   "metadata": {},
   "outputs": [],
   "source": [
    "df['ship_postal_code'] = df['ship_postal_code'].astype(str)"
   ]
  },
  {
   "cell_type": "code",
   "execution_count": 43,
   "id": "c4c8e544-a2b1-4069-be4e-a20b63486df9",
   "metadata": {},
   "outputs": [
    {
     "name": "stdout",
     "output_type": "stream",
     "text": [
      "<class 'pandas.core.frame.DataFrame'>\n",
      "Int64Index: 128975 entries, 0 to 128974\n",
      "Data columns (total 22 columns):\n",
      " #   Column              Non-Null Count   Dtype         \n",
      "---  ------              --------------   -----         \n",
      " 0   Order_ID            128975 non-null  object        \n",
      " 1   Date                128975 non-null  datetime64[ns]\n",
      " 2   Status              128975 non-null  object        \n",
      " 3   Fulfilment          128975 non-null  object        \n",
      " 4   Sales_channel       128975 non-null  object        \n",
      " 5   ship_service_level  128975 non-null  object        \n",
      " 6   Style               128975 non-null  object        \n",
      " 7   SKU                 128975 non-null  object        \n",
      " 8   Category            128975 non-null  object        \n",
      " 9   Size                128975 non-null  object        \n",
      " 10  ASIN                128975 non-null  object        \n",
      " 11  Courier_Status      128975 non-null  object        \n",
      " 12  Qty                 128975 non-null  int64         \n",
      " 13  Currency            128975 non-null  object        \n",
      " 14  Amount              128975 non-null  float64       \n",
      " 15  ship_city           128975 non-null  object        \n",
      " 16  ship_state          128975 non-null  object        \n",
      " 17  ship_postal_code    128975 non-null  object        \n",
      " 18  ship_country        128975 non-null  object        \n",
      " 19  promotion_ids       128975 non-null  object        \n",
      " 20  B2B                 128975 non-null  bool          \n",
      " 21  fulfilled_by        128975 non-null  object        \n",
      "dtypes: bool(1), datetime64[ns](1), float64(1), int64(1), object(18)\n",
      "memory usage: 21.8+ MB\n"
     ]
    }
   ],
   "source": [
    "df.info()"
   ]
  },
  {
   "cell_type": "markdown",
   "id": "01e78b05-db80-42c3-a362-bd898062469a",
   "metadata": {},
   "source": [
    "* **promotion_ids**: it's proper that it is a string, remove extra white spaces from the beginning and end, and set the characters in UPPER case."
   ]
  },
  {
   "cell_type": "code",
   "execution_count": 44,
   "id": "535dc38c-a104-4eb9-a264-786c00aa1fa5",
   "metadata": {},
   "outputs": [],
   "source": [
    "df['promotion_ids'] = df['promotion_ids'].str.strip()\n",
    "df['promotion_ids'] = df['promotion_ids'].str.upper()"
   ]
  },
  {
   "cell_type": "markdown",
   "id": "0ea7d439-78bc-4b2d-8daf-a22479499db7",
   "metadata": {},
   "source": [
    "* **B2B**: boolean, True when the sale is Business to Business, False when is Business to Consumer. It doesn't needs intervention.\n",
    "* **fulfilled_by**: contains 2 unique values (Easy Ship, FBA). It doesn't needs intervention."
   ]
  },
  {
   "cell_type": "markdown",
   "id": "ca53037b-8b66-4c7a-954b-ed6d96489057",
   "metadata": {
    "tags": []
   },
   "source": [
    "## 2.4 Remove Duplicates [&#129081;](#Top)<a name=\"RemDupl_df1\"></a>"
   ]
  },
  {
   "cell_type": "markdown",
   "id": "4a0c4a73-9f6f-4985-8192-0fe8fb0508e4",
   "metadata": {},
   "source": [
    "* Remove duplicate raws"
   ]
  },
  {
   "cell_type": "code",
   "execution_count": 45,
   "id": "19465ae5-4698-46d3-be81-9589069ab396",
   "metadata": {},
   "outputs": [],
   "source": [
    "df.drop_duplicates(inplace = True)"
   ]
  },
  {
   "cell_type": "code",
   "execution_count": 46,
   "id": "d5faa4a4-b393-49b5-bc4b-8bd0d77d7d56",
   "metadata": {},
   "outputs": [
    {
     "name": "stdout",
     "output_type": "stream",
     "text": [
      "Deleted 6 raws, 128969 remain.\n"
     ]
    }
   ],
   "source": [
    "df_sizes.update({'after_remove_duplicates': df.shape})\n",
    "print(f\"Deleted {df_sizes['start'][0] - df_sizes['after_remove_duplicates'][0] } raws, {df_sizes['after_remove_duplicates'][0]} remain.\")"
   ]
  },
  {
   "cell_type": "markdown",
   "id": "8424bb4f-2aaf-422a-9805-e80197ab0553",
   "metadata": {},
   "source": [
    "* Remove **fulfilled_by** column, bacause it doesn't add information to data. In fact it contains the same information as the column **Fulfilment**."
   ]
  },
  {
   "cell_type": "code",
   "execution_count": 47,
   "id": "ceada4b8-de3b-4342-99d1-393ea8ef8b38",
   "metadata": {},
   "outputs": [
    {
     "name": "stdout",
     "output_type": "stream",
     "text": [
      "\n",
      "Question: When the value in column 'Fulfilment' is 'Merchant', the value in column 'fulfilled_by' is 'Easy Ship'?\n",
      "Answer:   True\n",
      "\n",
      "Question: When the value in column 'Fulfilment' is 'Amazon', the value in column 'fulfilled_by' is 'FBA'?\n",
      "Answer:   True\n"
     ]
    }
   ],
   "source": [
    "print(f\"\"\"\n",
    "Question: When the value in column 'Fulfilment' is 'Merchant', the value in column 'fulfilled_by' is 'Easy Ship'?\n",
    "Answer:   {set(df.query(\"Fulfilment == 'Merchant'\").index) == set(df.query(\"fulfilled_by == 'Easy Ship'\").index)}\"\"\") \n",
    "print(f\"\"\"\n",
    "Question: When the value in column 'Fulfilment' is 'Amazon', the value in column 'fulfilled_by' is 'FBA'?\n",
    "Answer:   {set(df.query(\"Fulfilment == 'Merchant'\").index) == set(df.query(\"fulfilled_by == 'Easy Ship'\").index)}\"\"\") "
   ]
  },
  {
   "cell_type": "code",
   "execution_count": 48,
   "id": "4cdaacbc-3f1e-4675-9216-d5e06347b6cf",
   "metadata": {},
   "outputs": [],
   "source": [
    "df.drop(columns = ['fulfilled_by'], inplace = True)"
   ]
  },
  {
   "cell_type": "markdown",
   "id": "6d295f8a-f349-49d0-94aa-070130c60767",
   "metadata": {},
   "source": [
    "## 2.5 Numeric data [&#129081;](#Top)<a name=\"NumData\"></a>"
   ]
  },
  {
   "cell_type": "code",
   "execution_count": 49,
   "id": "a5d52e1e-8cce-4441-8f6b-45df47811814",
   "metadata": {},
   "outputs": [
    {
     "data": {
      "text/html": [
       "<div>\n",
       "<style scoped>\n",
       "    .dataframe tbody tr th:only-of-type {\n",
       "        vertical-align: middle;\n",
       "    }\n",
       "\n",
       "    .dataframe tbody tr th {\n",
       "        vertical-align: top;\n",
       "    }\n",
       "\n",
       "    .dataframe thead th {\n",
       "        text-align: right;\n",
       "    }\n",
       "</style>\n",
       "<table border=\"1\" class=\"dataframe\">\n",
       "  <thead>\n",
       "    <tr style=\"text-align: right;\">\n",
       "      <th></th>\n",
       "      <th>Date</th>\n",
       "      <th>Qty</th>\n",
       "      <th>Amount</th>\n",
       "    </tr>\n",
       "  </thead>\n",
       "  <tbody>\n",
       "    <tr>\n",
       "      <th>count</th>\n",
       "      <td>128969</td>\n",
       "      <td>128969.00000</td>\n",
       "      <td>128969.000000</td>\n",
       "    </tr>\n",
       "    <tr>\n",
       "      <th>mean</th>\n",
       "      <td>2022-05-12 11:50:02.758802176</td>\n",
       "      <td>0.90445</td>\n",
       "      <td>609.371580</td>\n",
       "    </tr>\n",
       "    <tr>\n",
       "      <th>min</th>\n",
       "      <td>2022-03-31 00:00:00</td>\n",
       "      <td>0.00000</td>\n",
       "      <td>0.000000</td>\n",
       "    </tr>\n",
       "    <tr>\n",
       "      <th>25%</th>\n",
       "      <td>2022-04-20 00:00:00</td>\n",
       "      <td>1.00000</td>\n",
       "      <td>413.000000</td>\n",
       "    </tr>\n",
       "    <tr>\n",
       "      <th>50%</th>\n",
       "      <td>2022-05-10 00:00:00</td>\n",
       "      <td>1.00000</td>\n",
       "      <td>583.000000</td>\n",
       "    </tr>\n",
       "    <tr>\n",
       "      <th>75%</th>\n",
       "      <td>2022-06-04 00:00:00</td>\n",
       "      <td>1.00000</td>\n",
       "      <td>771.000000</td>\n",
       "    </tr>\n",
       "    <tr>\n",
       "      <th>max</th>\n",
       "      <td>2022-06-29 00:00:00</td>\n",
       "      <td>15.00000</td>\n",
       "      <td>5584.000000</td>\n",
       "    </tr>\n",
       "    <tr>\n",
       "      <th>std</th>\n",
       "      <td>NaN</td>\n",
       "      <td>0.31333</td>\n",
       "      <td>313.335444</td>\n",
       "    </tr>\n",
       "  </tbody>\n",
       "</table>\n",
       "</div>"
      ],
      "text/plain": [
       "                                Date           Qty         Amount\n",
       "count                         128969  128969.00000  128969.000000\n",
       "mean   2022-05-12 11:50:02.758802176       0.90445     609.371580\n",
       "min              2022-03-31 00:00:00       0.00000       0.000000\n",
       "25%              2022-04-20 00:00:00       1.00000     413.000000\n",
       "50%              2022-05-10 00:00:00       1.00000     583.000000\n",
       "75%              2022-06-04 00:00:00       1.00000     771.000000\n",
       "max              2022-06-29 00:00:00      15.00000    5584.000000\n",
       "std                              NaN       0.31333     313.335444"
      ]
     },
     "execution_count": 49,
     "metadata": {},
     "output_type": "execute_result"
    }
   ],
   "source": [
    "df.describe(datetime_is_numeric=True) # only numerical Attributes (including Date)"
   ]
  },
  {
   "cell_type": "code",
   "execution_count": 50,
   "id": "a4a120b3-7f12-4ea1-80d6-c3211568614d",
   "metadata": {},
   "outputs": [
    {
     "data": {
      "text/plain": [
       "Timedelta('90 days 00:00:00')"
      ]
     },
     "execution_count": 50,
     "metadata": {},
     "output_type": "execute_result"
    }
   ],
   "source": [
    "df['Date'].max() - df['Date'].min()"
   ]
  },
  {
   "cell_type": "markdown",
   "id": "e2efd084-fbd5-4fed-9e05-b6d6678ae663",
   "metadata": {},
   "source": [
    "The start date of the dataset is 31 March 2022, the end date is 29 June 2022, over a 90 day period."
   ]
  },
  {
   "cell_type": "markdown",
   "id": "5bb9da1e-f7b8-46e7-aef6-d51c9365d2db",
   "metadata": {},
   "source": [
    "## 2.6 Categorical data [&#129081;](#Top)<a name=\"CatData\"></a>"
   ]
  },
  {
   "cell_type": "code",
   "execution_count": 51,
   "id": "87b58da4-501c-495f-b21f-8aa97d74e832",
   "metadata": {},
   "outputs": [
    {
     "data": {
      "text/html": [
       "<div>\n",
       "<style scoped>\n",
       "    .dataframe tbody tr th:only-of-type {\n",
       "        vertical-align: middle;\n",
       "    }\n",
       "\n",
       "    .dataframe tbody tr th {\n",
       "        vertical-align: top;\n",
       "    }\n",
       "\n",
       "    .dataframe thead th {\n",
       "        text-align: right;\n",
       "    }\n",
       "</style>\n",
       "<table border=\"1\" class=\"dataframe\">\n",
       "  <thead>\n",
       "    <tr style=\"text-align: right;\">\n",
       "      <th></th>\n",
       "      <th>count</th>\n",
       "      <th>unique</th>\n",
       "      <th>top</th>\n",
       "      <th>freq</th>\n",
       "    </tr>\n",
       "  </thead>\n",
       "  <tbody>\n",
       "    <tr>\n",
       "      <th>Order_ID</th>\n",
       "      <td>128969</td>\n",
       "      <td>120378</td>\n",
       "      <td>403-4984515-8861958</td>\n",
       "      <td>12</td>\n",
       "    </tr>\n",
       "    <tr>\n",
       "      <th>Status</th>\n",
       "      <td>128969</td>\n",
       "      <td>13</td>\n",
       "      <td>Shipped</td>\n",
       "      <td>77801</td>\n",
       "    </tr>\n",
       "    <tr>\n",
       "      <th>Fulfilment</th>\n",
       "      <td>128969</td>\n",
       "      <td>2</td>\n",
       "      <td>Amazon</td>\n",
       "      <td>89692</td>\n",
       "    </tr>\n",
       "    <tr>\n",
       "      <th>Sales_channel</th>\n",
       "      <td>128969</td>\n",
       "      <td>2</td>\n",
       "      <td>Amazon.in</td>\n",
       "      <td>128845</td>\n",
       "    </tr>\n",
       "    <tr>\n",
       "      <th>ship_service_level</th>\n",
       "      <td>128969</td>\n",
       "      <td>2</td>\n",
       "      <td>Expedited</td>\n",
       "      <td>88609</td>\n",
       "    </tr>\n",
       "    <tr>\n",
       "      <th>Style</th>\n",
       "      <td>128969</td>\n",
       "      <td>1377</td>\n",
       "      <td>JNE3797</td>\n",
       "      <td>4224</td>\n",
       "    </tr>\n",
       "    <tr>\n",
       "      <th>SKU</th>\n",
       "      <td>128969</td>\n",
       "      <td>7195</td>\n",
       "      <td>JNE3797-KR-L</td>\n",
       "      <td>773</td>\n",
       "    </tr>\n",
       "    <tr>\n",
       "      <th>Category</th>\n",
       "      <td>128969</td>\n",
       "      <td>9</td>\n",
       "      <td>SET</td>\n",
       "      <td>50281</td>\n",
       "    </tr>\n",
       "    <tr>\n",
       "      <th>Size</th>\n",
       "      <td>128969</td>\n",
       "      <td>11</td>\n",
       "      <td>M</td>\n",
       "      <td>22709</td>\n",
       "    </tr>\n",
       "    <tr>\n",
       "      <th>ASIN</th>\n",
       "      <td>128969</td>\n",
       "      <td>7190</td>\n",
       "      <td>B09SDXFFQ1</td>\n",
       "      <td>773</td>\n",
       "    </tr>\n",
       "    <tr>\n",
       "      <th>Courier_Status</th>\n",
       "      <td>128969</td>\n",
       "      <td>4</td>\n",
       "      <td>Shipped</td>\n",
       "      <td>109484</td>\n",
       "    </tr>\n",
       "    <tr>\n",
       "      <th>Currency</th>\n",
       "      <td>128969</td>\n",
       "      <td>1</td>\n",
       "      <td>INR</td>\n",
       "      <td>128969</td>\n",
       "    </tr>\n",
       "    <tr>\n",
       "      <th>ship_city</th>\n",
       "      <td>128969</td>\n",
       "      <td>7202</td>\n",
       "      <td>BANGALORE</td>\n",
       "      <td>13341</td>\n",
       "    </tr>\n",
       "    <tr>\n",
       "      <th>ship_state</th>\n",
       "      <td>128969</td>\n",
       "      <td>38</td>\n",
       "      <td>MAHARASHTRA</td>\n",
       "      <td>22259</td>\n",
       "    </tr>\n",
       "    <tr>\n",
       "      <th>ship_postal_code</th>\n",
       "      <td>128969</td>\n",
       "      <td>9460</td>\n",
       "      <td>201301.0</td>\n",
       "      <td>1006</td>\n",
       "    </tr>\n",
       "    <tr>\n",
       "      <th>ship_country</th>\n",
       "      <td>128969</td>\n",
       "      <td>2</td>\n",
       "      <td>IN</td>\n",
       "      <td>128936</td>\n",
       "    </tr>\n",
       "    <tr>\n",
       "      <th>promotion_ids</th>\n",
       "      <td>128969</td>\n",
       "      <td>5788</td>\n",
       "      <td>NO PROMO</td>\n",
       "      <td>49150</td>\n",
       "    </tr>\n",
       "  </tbody>\n",
       "</table>\n",
       "</div>"
      ],
      "text/plain": [
       "                     count  unique                  top    freq\n",
       "Order_ID            128969  120378  403-4984515-8861958      12\n",
       "Status              128969      13              Shipped   77801\n",
       "Fulfilment          128969       2               Amazon   89692\n",
       "Sales_channel       128969       2            Amazon.in  128845\n",
       "ship_service_level  128969       2            Expedited   88609\n",
       "Style               128969    1377              JNE3797    4224\n",
       "SKU                 128969    7195         JNE3797-KR-L     773\n",
       "Category            128969       9                  SET   50281\n",
       "Size                128969      11                    M   22709\n",
       "ASIN                128969    7190           B09SDXFFQ1     773\n",
       "Courier_Status      128969       4              Shipped  109484\n",
       "Currency            128969       1                  INR  128969\n",
       "ship_city           128969    7202            BANGALORE   13341\n",
       "ship_state          128969      38          MAHARASHTRA   22259\n",
       "ship_postal_code    128969    9460             201301.0    1006\n",
       "ship_country        128969       2                   IN  128936\n",
       "promotion_ids       128969    5788             NO PROMO   49150"
      ]
     },
     "execution_count": 51,
     "metadata": {},
     "output_type": "execute_result"
    }
   ],
   "source": [
    "df.describe(include='O').T # only numpy.object data type Categorical Data"
   ]
  },
  {
   "cell_type": "markdown",
   "id": "876519c0-f5dc-4d98-a7fc-53a296ebf748",
   "metadata": {},
   "source": [
    "* Add the column **Month**"
   ]
  },
  {
   "cell_type": "code",
   "execution_count": 52,
   "id": "3c68ccf3-e8b6-4f27-a03b-6c188ba8d561",
   "metadata": {
    "tags": []
   },
   "outputs": [
    {
     "data": {
      "text/plain": [
       "array([4, 3, 5, 6], dtype=int64)"
      ]
     },
     "execution_count": 52,
     "metadata": {},
     "output_type": "execute_result"
    }
   ],
   "source": [
    "df['month'] = df['Date'].dt.month\n",
    "df['month'].unique()"
   ]
  },
  {
   "cell_type": "code",
   "execution_count": 53,
   "id": "3c01aa6d-6bb4-4915-a642-c6e6c28c7542",
   "metadata": {},
   "outputs": [],
   "source": [
    "df['month'].replace([3,4,5,6],['March','April', 'May', 'June'], inplace = True)"
   ]
  },
  {
   "cell_type": "markdown",
   "id": "e183f170-9531-49af-a9a4-942cf5d70977",
   "metadata": {},
   "source": [
    "* Save the cleaned dataframe in a csv file"
   ]
  },
  {
   "cell_type": "code",
   "execution_count": 54,
   "id": "9a55ba43-a40e-4f04-80ea-91b626bba60b",
   "metadata": {},
   "outputs": [],
   "source": [
    "df.to_csv(\"Data out\\\\new_df_Amazon_sales.csv\")"
   ]
  },
  {
   "cell_type": "markdown",
   "id": "fe5ccab2-20eb-41a8-9181-25dad9d351f6",
   "metadata": {},
   "source": [
    "# 3. DATA ANALYSIS <a name=\"DataAnalysis\"></a>"
   ]
  },
  {
   "cell_type": "markdown",
   "id": "24668653-067a-4432-88e6-b1709b8cb507",
   "metadata": {},
   "source": [
    "## Answer to Q1: Which categories have sold most? [&#129081;](#Top)<a name=\"AQ1\"></a>"
   ]
  },
  {
   "cell_type": "code",
   "execution_count": 55,
   "id": "5b697941-1c39-4f99-a5ca-e5523b5516ff",
   "metadata": {},
   "outputs": [
    {
     "data": {
      "text/html": [
       "<div>\n",
       "<style scoped>\n",
       "    .dataframe tbody tr th:only-of-type {\n",
       "        vertical-align: middle;\n",
       "    }\n",
       "\n",
       "    .dataframe tbody tr th {\n",
       "        vertical-align: top;\n",
       "    }\n",
       "\n",
       "    .dataframe thead th {\n",
       "        text-align: right;\n",
       "    }\n",
       "</style>\n",
       "<table border=\"1\" class=\"dataframe\">\n",
       "  <thead>\n",
       "    <tr style=\"text-align: right;\">\n",
       "      <th></th>\n",
       "      <th>Category</th>\n",
       "      <th>Amount</th>\n",
       "      <th>Qty</th>\n",
       "    </tr>\n",
       "  </thead>\n",
       "  <tbody>\n",
       "    <tr>\n",
       "      <th>0</th>\n",
       "      <td>SET</td>\n",
       "      <td>39202022.03</td>\n",
       "      <td>45287</td>\n",
       "    </tr>\n",
       "    <tr>\n",
       "      <th>1</th>\n",
       "      <td>KURTA</td>\n",
       "      <td>21299013.70</td>\n",
       "      <td>45044</td>\n",
       "    </tr>\n",
       "    <tr>\n",
       "      <th>2</th>\n",
       "      <td>WESTERN DRESS</td>\n",
       "      <td>11216072.69</td>\n",
       "      <td>13943</td>\n",
       "    </tr>\n",
       "    <tr>\n",
       "      <th>3</th>\n",
       "      <td>TOP</td>\n",
       "      <td>5347792.30</td>\n",
       "      <td>9903</td>\n",
       "    </tr>\n",
       "    <tr>\n",
       "      <th>4</th>\n",
       "      <td>ETHNIC DRESS</td>\n",
       "      <td>791217.66</td>\n",
       "      <td>1053</td>\n",
       "    </tr>\n",
       "    <tr>\n",
       "      <th>5</th>\n",
       "      <td>BLOUSE</td>\n",
       "      <td>458408.18</td>\n",
       "      <td>863</td>\n",
       "    </tr>\n",
       "    <tr>\n",
       "      <th>6</th>\n",
       "      <td>BOTTOM</td>\n",
       "      <td>150667.98</td>\n",
       "      <td>398</td>\n",
       "    </tr>\n",
       "    <tr>\n",
       "      <th>7</th>\n",
       "      <td>SAREE</td>\n",
       "      <td>123933.76</td>\n",
       "      <td>152</td>\n",
       "    </tr>\n",
       "    <tr>\n",
       "      <th>8</th>\n",
       "      <td>DUPATTA</td>\n",
       "      <td>915.00</td>\n",
       "      <td>3</td>\n",
       "    </tr>\n",
       "  </tbody>\n",
       "</table>\n",
       "</div>"
      ],
      "text/plain": [
       "        Category       Amount    Qty\n",
       "0            SET  39202022.03  45287\n",
       "1          KURTA  21299013.70  45044\n",
       "2  WESTERN DRESS  11216072.69  13943\n",
       "3            TOP   5347792.30   9903\n",
       "4   ETHNIC DRESS    791217.66   1053\n",
       "5         BLOUSE    458408.18    863\n",
       "6         BOTTOM    150667.98    398\n",
       "7          SAREE    123933.76    152\n",
       "8        DUPATTA       915.00      3"
      ]
     },
     "execution_count": 55,
     "metadata": {},
     "output_type": "execute_result"
    }
   ],
   "source": [
    "# Which categories have sold most?\n",
    "df_q1 = df[['Amount', 'Qty']].groupby(df['Category']).sum()\\\n",
    "                                .sort_values('Amount', ascending=False)\\\n",
    "                                .reset_index()\n",
    "df_q1"
   ]
  },
  {
   "cell_type": "code",
   "execution_count": 56,
   "id": "9cb84bf4-2af0-4688-925e-fe8f0e7f5d16",
   "metadata": {},
   "outputs": [],
   "source": [
    "# define font sizes\n",
    "_title_size = 18\n",
    "_axis_label_size = 12\n",
    "_label_size = 10\n",
    "_axis_label_pad = 10\n",
    "_legend_title_size = 12\n",
    "_legend_content_size = 12\n",
    "_padding_title = 20\n",
    "_fweight = 'normal'"
   ]
  },
  {
   "cell_type": "code",
   "execution_count": 57,
   "id": "612dce8c-f94e-45d9-9811-bf83b90498ab",
   "metadata": {},
   "outputs": [
    {
     "data": {
      "image/png": "[encoded data removed]",
      "text/plain": [
       "<Figure size 864x432 with 1 Axes>"
      ]
     },
     "metadata": {
      "needs_background": "light"
     },
     "output_type": "display_data"
    }
   ],
   "source": [
    "plt.figure(figsize = (12, 6))\n",
    "ax_q1 = sns.barplot(y = 'Amount', x='Category', palette = ['#3182bd'], data = df_q1)\n",
    "plt.title('Revenue by Categories', fontsize= _title_size)\n",
    "\n",
    "formatter = ticker.StrMethodFormatter(\"{x:,.0f}.\")\n",
    "ax_q1.yaxis.set_major_formatter(formatter)\n",
    "ax_q1.xaxis.labelpad = _axis_label_pad\n",
    "ax_q1.yaxis.labelpad = _axis_label_pad\n",
    "\n",
    "for i, bar in enumerate(ax_q1.containers[0].patches):\n",
    "    ax_q1.text(bar.get_x() + bar.get_width()/2., bar.get_height(),\n",
    "        '{:,.0f}'.format(bar.get_height()), ha='center', va='bottom')\n",
    "plt.xlabel(\"Category\", weight = _fweight, fontsize=_axis_label_size)\n",
    "plt.ylabel(\"Sales\", weight = _fweight, fontsize=_axis_label_size)\n",
    "plt.savefig('img\\\\Revenue_by_categories.jpg', dpi=300)\n",
    "plt.show()\n"
   ]
  },
  {
   "cell_type": "markdown",
   "id": "20c9218e-8aac-4d2e-8b98-180edcf6ba64",
   "metadata": {
    "tags": []
   },
   "source": [
    "## Answer Q2: Which are the 20 Best-Selling Products? [&#129081;](#Top)<a name=\"AQ2\"></a>"
   ]
  },
  {
   "cell_type": "code",
   "execution_count": 58,
   "id": "24316ac9-d2f1-423c-9b71-453f28936684",
   "metadata": {
    "tags": []
   },
   "outputs": [
    {
     "data": {
      "text/html": [
       "<div>\n",
       "<style scoped>\n",
       "    .dataframe tbody tr th:only-of-type {\n",
       "        vertical-align: middle;\n",
       "    }\n",
       "\n",
       "    .dataframe tbody tr th {\n",
       "        vertical-align: top;\n",
       "    }\n",
       "\n",
       "    .dataframe thead th {\n",
       "        text-align: right;\n",
       "    }\n",
       "</style>\n",
       "<table border=\"1\" class=\"dataframe\">\n",
       "  <thead>\n",
       "    <tr style=\"text-align: right;\">\n",
       "      <th></th>\n",
       "      <th>Category</th>\n",
       "      <th>ASIN</th>\n",
       "      <th>Qty</th>\n",
       "      <th>Amount</th>\n",
       "    </tr>\n",
       "  </thead>\n",
       "  <tbody>\n",
       "    <tr>\n",
       "      <th>0</th>\n",
       "      <td>WESTERN DRESS</td>\n",
       "      <td>B09SDXFFQ1</td>\n",
       "      <td>661</td>\n",
       "      <td>524581.77</td>\n",
       "    </tr>\n",
       "    <tr>\n",
       "      <th>1</th>\n",
       "      <td>WESTERN DRESS</td>\n",
       "      <td>B09SDY8DCT</td>\n",
       "      <td>561</td>\n",
       "      <td>454290.16</td>\n",
       "    </tr>\n",
       "    <tr>\n",
       "      <th>2</th>\n",
       "      <td>WESTERN DRESS</td>\n",
       "      <td>B09SDYQ3WG</td>\n",
       "      <td>503</td>\n",
       "      <td>407302.57</td>\n",
       "    </tr>\n",
       "    <tr>\n",
       "      <th>3</th>\n",
       "      <td>KURTA</td>\n",
       "      <td>B081WSCKPQ</td>\n",
       "      <td>485</td>\n",
       "      <td>194645.29</td>\n",
       "    </tr>\n",
       "    <tr>\n",
       "      <th>4</th>\n",
       "      <td>SET</td>\n",
       "      <td>B08XNJG8B1</td>\n",
       "      <td>467</td>\n",
       "      <td>526536.20</td>\n",
       "    </tr>\n",
       "    <tr>\n",
       "      <th>5</th>\n",
       "      <td>SET</td>\n",
       "      <td>B08XNJ19QH</td>\n",
       "      <td>421</td>\n",
       "      <td>479937.14</td>\n",
       "    </tr>\n",
       "    <tr>\n",
       "      <th>6</th>\n",
       "      <td>WESTERN DRESS</td>\n",
       "      <td>B09SDXRYBG</td>\n",
       "      <td>415</td>\n",
       "      <td>332155.24</td>\n",
       "    </tr>\n",
       "    <tr>\n",
       "      <th>7</th>\n",
       "      <td>KURTA</td>\n",
       "      <td>B081WX4G4Q</td>\n",
       "      <td>399</td>\n",
       "      <td>169808.87</td>\n",
       "    </tr>\n",
       "    <tr>\n",
       "      <th>8</th>\n",
       "      <td>WESTERN DRESS</td>\n",
       "      <td>B09SDY9SQ6</td>\n",
       "      <td>386</td>\n",
       "      <td>303616.70</td>\n",
       "    </tr>\n",
       "    <tr>\n",
       "      <th>9</th>\n",
       "      <td>SET</td>\n",
       "      <td>B08XQBF1G4</td>\n",
       "      <td>373</td>\n",
       "      <td>284058.96</td>\n",
       "    </tr>\n",
       "    <tr>\n",
       "      <th>10</th>\n",
       "      <td>WESTERN DRESS</td>\n",
       "      <td>B09SDXSQ33</td>\n",
       "      <td>359</td>\n",
       "      <td>275966.88</td>\n",
       "    </tr>\n",
       "    <tr>\n",
       "      <th>11</th>\n",
       "      <td>WESTERN DRESS</td>\n",
       "      <td>B09SDY4VDC</td>\n",
       "      <td>353</td>\n",
       "      <td>276375.80</td>\n",
       "    </tr>\n",
       "    <tr>\n",
       "      <th>12</th>\n",
       "      <td>SET</td>\n",
       "      <td>B08XQ98B2Q</td>\n",
       "      <td>350</td>\n",
       "      <td>267030.48</td>\n",
       "    </tr>\n",
       "    <tr>\n",
       "      <th>13</th>\n",
       "      <td>SET</td>\n",
       "      <td>B08XQ8MCKP</td>\n",
       "      <td>348</td>\n",
       "      <td>258716.00</td>\n",
       "    </tr>\n",
       "    <tr>\n",
       "      <th>14</th>\n",
       "      <td>KURTA</td>\n",
       "      <td>B081WVMMCY</td>\n",
       "      <td>344</td>\n",
       "      <td>146626.29</td>\n",
       "    </tr>\n",
       "    <tr>\n",
       "      <th>15</th>\n",
       "      <td>KURTA</td>\n",
       "      <td>B08KRXV1QR</td>\n",
       "      <td>291</td>\n",
       "      <td>115806.00</td>\n",
       "    </tr>\n",
       "    <tr>\n",
       "      <th>16</th>\n",
       "      <td>SET</td>\n",
       "      <td>B08B3Z2YY3</td>\n",
       "      <td>289</td>\n",
       "      <td>250171.98</td>\n",
       "    </tr>\n",
       "    <tr>\n",
       "      <th>17</th>\n",
       "      <td>SET</td>\n",
       "      <td>B0894X27FC</td>\n",
       "      <td>281</td>\n",
       "      <td>193079.79</td>\n",
       "    </tr>\n",
       "    <tr>\n",
       "      <th>18</th>\n",
       "      <td>SET</td>\n",
       "      <td>B08XNDL1DL</td>\n",
       "      <td>272</td>\n",
       "      <td>305616.95</td>\n",
       "    </tr>\n",
       "    <tr>\n",
       "      <th>19</th>\n",
       "      <td>WESTERN DRESS</td>\n",
       "      <td>B099NQQ79L</td>\n",
       "      <td>268</td>\n",
       "      <td>235151.42</td>\n",
       "    </tr>\n",
       "  </tbody>\n",
       "</table>\n",
       "</div>"
      ],
      "text/plain": [
       "         Category        ASIN  Qty     Amount\n",
       "0   WESTERN DRESS  B09SDXFFQ1  661  524581.77\n",
       "1   WESTERN DRESS  B09SDY8DCT  561  454290.16\n",
       "2   WESTERN DRESS  B09SDYQ3WG  503  407302.57\n",
       "3           KURTA  B081WSCKPQ  485  194645.29\n",
       "4             SET  B08XNJG8B1  467  526536.20\n",
       "5             SET  B08XNJ19QH  421  479937.14\n",
       "6   WESTERN DRESS  B09SDXRYBG  415  332155.24\n",
       "7           KURTA  B081WX4G4Q  399  169808.87\n",
       "8   WESTERN DRESS  B09SDY9SQ6  386  303616.70\n",
       "9             SET  B08XQBF1G4  373  284058.96\n",
       "10  WESTERN DRESS  B09SDXSQ33  359  275966.88\n",
       "11  WESTERN DRESS  B09SDY4VDC  353  276375.80\n",
       "12            SET  B08XQ98B2Q  350  267030.48\n",
       "13            SET  B08XQ8MCKP  348  258716.00\n",
       "14          KURTA  B081WVMMCY  344  146626.29\n",
       "15          KURTA  B08KRXV1QR  291  115806.00\n",
       "16            SET  B08B3Z2YY3  289  250171.98\n",
       "17            SET  B0894X27FC  281  193079.79\n",
       "18            SET  B08XNDL1DL  272  305616.95\n",
       "19  WESTERN DRESS  B099NQQ79L  268  235151.42"
      ]
     },
     "execution_count": 58,
     "metadata": {},
     "output_type": "execute_result"
    }
   ],
   "source": [
    "df_q2 = df.groupby(['Category', 'ASIN'])[['Qty','Amount']].sum()\\\n",
    "                                     .sort_values('Qty', ascending=False)\\\n",
    "                                     .head(20)\\\n",
    "                                     .reset_index()\n",
    "df_q2"
   ]
  },
  {
   "cell_type": "code",
   "execution_count": 59,
   "id": "7a6dc578-2cb1-4a92-8110-71b2f43d5336",
   "metadata": {},
   "outputs": [
    {
     "data": {
      "image/png": "[encoded data removed]",
      "text/plain": [
       "<Figure size 864x432 with 1 Axes>"
      ]
     },
     "metadata": {
      "needs_background": "light"
     },
     "output_type": "display_data"
    }
   ],
   "source": [
    "colors_dict = {'WESTERN DRESS': '#4BD9EC', 'KURTA': '#758BFD', 'SET': '#313E5B'} \n",
    "col_list = [colors_dict.get(cat) for cat in df_q2['Category']]\n",
    "\n",
    "plt.figure(figsize = (12, 6))\n",
    "ax_q2 = sns.barplot(y = 'Qty', x='ASIN', palette = col_list, data = df_q2)\n",
    "plt.title('20 Best-Selling Products by Quantity', fontsize=_title_size)\n",
    "\n",
    "formatter = ticker.StrMethodFormatter(\"{x:,.0f}\")\n",
    "ax_q2.yaxis.set_major_formatter(formatter)\n",
    "ax_q2.xaxis.labelpad = _axis_label_pad\n",
    "ax_q2.yaxis.labelpad = _axis_label_pad\n",
    "ax_q2.margins(0.01, 0.2)\n",
    "\n",
    "for i, bar in enumerate(ax_q2.containers[0].patches):\n",
    "    ax_q2.text(bar.get_x() + bar.get_width()/2., bar.get_height(),\n",
    "        '{:,.0f}'.format(bar.get_height()), ha='center', va='bottom')\n",
    "plt.xticks(rotation=90, ha='center')\n",
    "plt.xlabel(\"Product\", weight = _fweight, fontsize= _axis_label_size)\n",
    "plt.ylabel(\"Qty\", weight = _fweight, fontsize= _axis_label_size)\n",
    "\n",
    "legend_entries = []\n",
    "for elem in df_q2['Category'].unique():\n",
    "    legend_entries.append(mpatches.Patch(color=colors_dict.get(elem), label=elem))\n",
    "plt.legend(handles=legend_entries, title='Category:', title_fontsize= _legend_title_size, fontsize=_legend_content_size)\n",
    "plt.savefig('img\\\\20_Best_Selling_Products_by_Quantity.jpg', dpi=300, bbox_inches='tight', pad_inches=0.1)\n",
    "plt.show()"
   ]
  },
  {
   "cell_type": "markdown",
   "id": "c317094d-2a0f-42f1-be0a-83b74fc8ffb7",
   "metadata": {},
   "source": [
    "## Answer to Q3: Which are the 20 Best-Selling Products by Revenue? [&#129081;](#Top)<a name=\"AQ3\"></a>"
   ]
  },
  {
   "cell_type": "code",
   "execution_count": 60,
   "id": "96ca532e-56fa-4370-bc0e-dc3e036b408b",
   "metadata": {},
   "outputs": [
    {
     "data": {
      "text/html": [
       "<div>\n",
       "<style scoped>\n",
       "    .dataframe tbody tr th:only-of-type {\n",
       "        vertical-align: middle;\n",
       "    }\n",
       "\n",
       "    .dataframe tbody tr th {\n",
       "        vertical-align: top;\n",
       "    }\n",
       "\n",
       "    .dataframe thead th {\n",
       "        text-align: right;\n",
       "    }\n",
       "</style>\n",
       "<table border=\"1\" class=\"dataframe\">\n",
       "  <thead>\n",
       "    <tr style=\"text-align: right;\">\n",
       "      <th></th>\n",
       "      <th>Category</th>\n",
       "      <th>ASIN</th>\n",
       "      <th>Amount</th>\n",
       "      <th>Qty</th>\n",
       "    </tr>\n",
       "  </thead>\n",
       "  <tbody>\n",
       "    <tr>\n",
       "      <th>0</th>\n",
       "      <td>SET</td>\n",
       "      <td>B08XNJG8B1</td>\n",
       "      <td>526536.20</td>\n",
       "      <td>467</td>\n",
       "    </tr>\n",
       "    <tr>\n",
       "      <th>1</th>\n",
       "      <td>WESTERN DRESS</td>\n",
       "      <td>B09SDXFFQ1</td>\n",
       "      <td>524581.77</td>\n",
       "      <td>661</td>\n",
       "    </tr>\n",
       "    <tr>\n",
       "      <th>2</th>\n",
       "      <td>SET</td>\n",
       "      <td>B08XNJ19QH</td>\n",
       "      <td>479937.14</td>\n",
       "      <td>421</td>\n",
       "    </tr>\n",
       "    <tr>\n",
       "      <th>3</th>\n",
       "      <td>WESTERN DRESS</td>\n",
       "      <td>B09SDY8DCT</td>\n",
       "      <td>454290.16</td>\n",
       "      <td>561</td>\n",
       "    </tr>\n",
       "    <tr>\n",
       "      <th>4</th>\n",
       "      <td>WESTERN DRESS</td>\n",
       "      <td>B09SDYQ3WG</td>\n",
       "      <td>407302.57</td>\n",
       "      <td>503</td>\n",
       "    </tr>\n",
       "    <tr>\n",
       "      <th>5</th>\n",
       "      <td>WESTERN DRESS</td>\n",
       "      <td>B09SDXRYBG</td>\n",
       "      <td>332155.24</td>\n",
       "      <td>415</td>\n",
       "    </tr>\n",
       "    <tr>\n",
       "      <th>6</th>\n",
       "      <td>SET</td>\n",
       "      <td>B08XNDL1DL</td>\n",
       "      <td>305616.95</td>\n",
       "      <td>272</td>\n",
       "    </tr>\n",
       "    <tr>\n",
       "      <th>7</th>\n",
       "      <td>WESTERN DRESS</td>\n",
       "      <td>B09SDY9SQ6</td>\n",
       "      <td>303616.70</td>\n",
       "      <td>386</td>\n",
       "    </tr>\n",
       "    <tr>\n",
       "      <th>8</th>\n",
       "      <td>SET</td>\n",
       "      <td>B08XQBF1G4</td>\n",
       "      <td>284058.96</td>\n",
       "      <td>373</td>\n",
       "    </tr>\n",
       "    <tr>\n",
       "      <th>9</th>\n",
       "      <td>WESTERN DRESS</td>\n",
       "      <td>B09SDY4VDC</td>\n",
       "      <td>276375.80</td>\n",
       "      <td>353</td>\n",
       "    </tr>\n",
       "    <tr>\n",
       "      <th>10</th>\n",
       "      <td>WESTERN DRESS</td>\n",
       "      <td>B09SDXSQ33</td>\n",
       "      <td>275966.88</td>\n",
       "      <td>359</td>\n",
       "    </tr>\n",
       "    <tr>\n",
       "      <th>11</th>\n",
       "      <td>SET</td>\n",
       "      <td>B08XQ98B2Q</td>\n",
       "      <td>267030.48</td>\n",
       "      <td>350</td>\n",
       "    </tr>\n",
       "    <tr>\n",
       "      <th>12</th>\n",
       "      <td>SET</td>\n",
       "      <td>B08XNJ8P3S</td>\n",
       "      <td>259032.58</td>\n",
       "      <td>221</td>\n",
       "    </tr>\n",
       "    <tr>\n",
       "      <th>13</th>\n",
       "      <td>SET</td>\n",
       "      <td>B08XQ8MCKP</td>\n",
       "      <td>258716.00</td>\n",
       "      <td>348</td>\n",
       "    </tr>\n",
       "    <tr>\n",
       "      <th>14</th>\n",
       "      <td>SET</td>\n",
       "      <td>B08B3Z2YY3</td>\n",
       "      <td>250171.98</td>\n",
       "      <td>289</td>\n",
       "    </tr>\n",
       "    <tr>\n",
       "      <th>15</th>\n",
       "      <td>WESTERN DRESS</td>\n",
       "      <td>B099NQQ79L</td>\n",
       "      <td>235151.42</td>\n",
       "      <td>268</td>\n",
       "    </tr>\n",
       "    <tr>\n",
       "      <th>16</th>\n",
       "      <td>SET</td>\n",
       "      <td>B08XNHXSFZ</td>\n",
       "      <td>221741.86</td>\n",
       "      <td>197</td>\n",
       "    </tr>\n",
       "    <tr>\n",
       "      <th>17</th>\n",
       "      <td>WESTERN DRESS</td>\n",
       "      <td>B099NRCT7B</td>\n",
       "      <td>217865.04</td>\n",
       "      <td>257</td>\n",
       "    </tr>\n",
       "    <tr>\n",
       "      <th>18</th>\n",
       "      <td>WESTERN DRESS</td>\n",
       "      <td>B099NR7612</td>\n",
       "      <td>214934.45</td>\n",
       "      <td>244</td>\n",
       "    </tr>\n",
       "    <tr>\n",
       "      <th>19</th>\n",
       "      <td>SET</td>\n",
       "      <td>B0983F3BLZ</td>\n",
       "      <td>201821.14</td>\n",
       "      <td>138</td>\n",
       "    </tr>\n",
       "  </tbody>\n",
       "</table>\n",
       "</div>"
      ],
      "text/plain": [
       "         Category        ASIN     Amount  Qty\n",
       "0             SET  B08XNJG8B1  526536.20  467\n",
       "1   WESTERN DRESS  B09SDXFFQ1  524581.77  661\n",
       "2             SET  B08XNJ19QH  479937.14  421\n",
       "3   WESTERN DRESS  B09SDY8DCT  454290.16  561\n",
       "4   WESTERN DRESS  B09SDYQ3WG  407302.57  503\n",
       "5   WESTERN DRESS  B09SDXRYBG  332155.24  415\n",
       "6             SET  B08XNDL1DL  305616.95  272\n",
       "7   WESTERN DRESS  B09SDY9SQ6  303616.70  386\n",
       "8             SET  B08XQBF1G4  284058.96  373\n",
       "9   WESTERN DRESS  B09SDY4VDC  276375.80  353\n",
       "10  WESTERN DRESS  B09SDXSQ33  275966.88  359\n",
       "11            SET  B08XQ98B2Q  267030.48  350\n",
       "12            SET  B08XNJ8P3S  259032.58  221\n",
       "13            SET  B08XQ8MCKP  258716.00  348\n",
       "14            SET  B08B3Z2YY3  250171.98  289\n",
       "15  WESTERN DRESS  B099NQQ79L  235151.42  268\n",
       "16            SET  B08XNHXSFZ  221741.86  197\n",
       "17  WESTERN DRESS  B099NRCT7B  217865.04  257\n",
       "18  WESTERN DRESS  B099NR7612  214934.45  244\n",
       "19            SET  B0983F3BLZ  201821.14  138"
      ]
     },
     "execution_count": 60,
     "metadata": {},
     "output_type": "execute_result"
    }
   ],
   "source": [
    "df_q3 = df.groupby(['Category', 'ASIN'])[['Amount', 'Qty']].sum()\\\n",
    "                                     .sort_values('Amount', ascending=False)\\\n",
    "                                     .head(20)\\\n",
    "                                     .reset_index()\n",
    "df_q3"
   ]
  },
  {
   "cell_type": "code",
   "execution_count": 61,
   "id": "9a578d63-c453-46bd-b9a0-a72df869e274",
   "metadata": {},
   "outputs": [
    {
     "data": {
      "image/png": "[encoded data removed]",
      "text/plain": [
       "<Figure size 864x432 with 1 Axes>"
      ]
     },
     "metadata": {
      "needs_background": "light"
     },
     "output_type": "display_data"
    }
   ],
   "source": [
    "colors_dict = {'WESTERN DRESS': '#4BD9EC', 'KURTA': '#758BFD', 'SET': '#313E5B'} \n",
    "col_list = [colors_dict.get(cat) for cat in df_q3['Category']]\n",
    "\n",
    "plt.figure(figsize = (12, 6))\n",
    "ax_q3 = sns.barplot(y = 'Amount', x='ASIN', palette = col_list, data = df_q3)\n",
    "plt.title('20 Best-Selling Products by Revenue', fontsize=_title_size)\n",
    "\n",
    "formatter = ticker.StrMethodFormatter(\"{x:,.0f}\")\n",
    "ax_q3.yaxis.set_major_formatter(formatter)\n",
    "ax_q3.xaxis.labelpad = _axis_label_pad\n",
    "ax_q3.yaxis.labelpad = _axis_label_pad\n",
    "\n",
    "for i, bar in enumerate(ax_q3.containers[0].patches):\n",
    "    ax_q3.text(bar.get_x() + bar.get_width()*0.8, bar.get_height(),\n",
    "        '{:,.0f}'.format(bar.get_height()), ha='center', va='bottom', rotation=45)\n",
    "    \n",
    "plt.xticks(rotation=90, ha='center')\n",
    "plt.xlabel(\"Product\", weight = _fweight, fontsize= _axis_label_size)\n",
    "plt.ylabel(\"Sales\", weight = _fweight, fontsize= _axis_label_size)\n",
    "\n",
    "legend_entries = []\n",
    "for elem in df_q3['Category'].unique():\n",
    "    legend_entries.append(mpatches.Patch(color=colors_dict.get(elem), label=elem))\n",
    "plt.legend(handles=legend_entries, title='Category:', title_fontsize= _legend_title_size, fontsize=_legend_content_size)\n",
    "ax_q3.margins(0.01, 0.2)\n",
    "plt.savefig('img\\\\20_Best_Selling_Products_by_Revenue.jpg', dpi=300, bbox_inches='tight', pad_inches=0.1)\n",
    "plt.show()"
   ]
  },
  {
   "cell_type": "markdown",
   "id": "9bc7700e-5ef4-489a-9842-16aa77be6eb4",
   "metadata": {},
   "source": [
    "## Answer Q4: Which are the 20 cities that made the most orders? [&#129081;](#Top)<a name=\"AQ4\"></a>"
   ]
  },
  {
   "cell_type": "code",
   "execution_count": 62,
   "id": "416c41b9-d591-469d-b7a9-32d38ab7c545",
   "metadata": {},
   "outputs": [
    {
     "data": {
      "text/html": [
       "<div>\n",
       "<style scoped>\n",
       "    .dataframe tbody tr th:only-of-type {\n",
       "        vertical-align: middle;\n",
       "    }\n",
       "\n",
       "    .dataframe tbody tr th {\n",
       "        vertical-align: top;\n",
       "    }\n",
       "\n",
       "    .dataframe thead th {\n",
       "        text-align: right;\n",
       "    }\n",
       "</style>\n",
       "<table border=\"1\" class=\"dataframe\">\n",
       "  <thead>\n",
       "    <tr style=\"text-align: right;\">\n",
       "      <th></th>\n",
       "      <th>ship_state</th>\n",
       "      <th>ship_city</th>\n",
       "      <th>Order_ID</th>\n",
       "    </tr>\n",
       "  </thead>\n",
       "  <tbody>\n",
       "    <tr>\n",
       "      <th>0</th>\n",
       "      <td>KARNATAKA</td>\n",
       "      <td>BANGALORE</td>\n",
       "      <td>13341</td>\n",
       "    </tr>\n",
       "    <tr>\n",
       "      <th>1</th>\n",
       "      <td>TELANGANA</td>\n",
       "      <td>HYDERABAD</td>\n",
       "      <td>9092</td>\n",
       "    </tr>\n",
       "    <tr>\n",
       "      <th>2</th>\n",
       "      <td>MAHARASHTRA</td>\n",
       "      <td>MUMBAI</td>\n",
       "      <td>7122</td>\n",
       "    </tr>\n",
       "    <tr>\n",
       "      <th>3</th>\n",
       "      <td>DELHI</td>\n",
       "      <td>NEW DELHI</td>\n",
       "      <td>6753</td>\n",
       "    </tr>\n",
       "    <tr>\n",
       "      <th>4</th>\n",
       "      <td>TAMIL NADU</td>\n",
       "      <td>CHENNAI</td>\n",
       "      <td>6284</td>\n",
       "    </tr>\n",
       "    <tr>\n",
       "      <th>5</th>\n",
       "      <td>MAHARASHTRA</td>\n",
       "      <td>PUNE</td>\n",
       "      <td>4616</td>\n",
       "    </tr>\n",
       "    <tr>\n",
       "      <th>6</th>\n",
       "      <td>WEST BENGAL</td>\n",
       "      <td>KOLKATA</td>\n",
       "      <td>2844</td>\n",
       "    </tr>\n",
       "    <tr>\n",
       "      <th>7</th>\n",
       "      <td>HARYANA</td>\n",
       "      <td>GURUGRAM</td>\n",
       "      <td>1954</td>\n",
       "    </tr>\n",
       "    <tr>\n",
       "      <th>8</th>\n",
       "      <td>MAHARASHTRA</td>\n",
       "      <td>THANE</td>\n",
       "      <td>1877</td>\n",
       "    </tr>\n",
       "    <tr>\n",
       "      <th>9</th>\n",
       "      <td>UTTAR PRADESH</td>\n",
       "      <td>NOIDA</td>\n",
       "      <td>1627</td>\n",
       "    </tr>\n",
       "    <tr>\n",
       "      <th>10</th>\n",
       "      <td>UTTAR PRADESH</td>\n",
       "      <td>LUCKNOW</td>\n",
       "      <td>1627</td>\n",
       "    </tr>\n",
       "    <tr>\n",
       "      <th>11</th>\n",
       "      <td>UTTAR PRADESH</td>\n",
       "      <td>GHAZIABAD</td>\n",
       "      <td>1484</td>\n",
       "    </tr>\n",
       "    <tr>\n",
       "      <th>12</th>\n",
       "      <td>GUJARAT</td>\n",
       "      <td>AHMEDABAD</td>\n",
       "      <td>1444</td>\n",
       "    </tr>\n",
       "    <tr>\n",
       "      <th>13</th>\n",
       "      <td>MAHARASHTRA</td>\n",
       "      <td>NAVI MUMBAI</td>\n",
       "      <td>1403</td>\n",
       "    </tr>\n",
       "    <tr>\n",
       "      <th>14</th>\n",
       "      <td>RAJASTHAN</td>\n",
       "      <td>JAIPUR</td>\n",
       "      <td>1062</td>\n",
       "    </tr>\n",
       "    <tr>\n",
       "      <th>15</th>\n",
       "      <td>TAMIL NADU</td>\n",
       "      <td>COIMBATORE</td>\n",
       "      <td>891</td>\n",
       "    </tr>\n",
       "    <tr>\n",
       "      <th>16</th>\n",
       "      <td>ANDHRA PRADESH</td>\n",
       "      <td>VISAKHAPATNAM</td>\n",
       "      <td>858</td>\n",
       "    </tr>\n",
       "    <tr>\n",
       "      <th>17</th>\n",
       "      <td>HARYANA</td>\n",
       "      <td>FARIDABAD</td>\n",
       "      <td>820</td>\n",
       "    </tr>\n",
       "    <tr>\n",
       "      <th>18</th>\n",
       "      <td>BIHAR</td>\n",
       "      <td>PATNA</td>\n",
       "      <td>816</td>\n",
       "    </tr>\n",
       "    <tr>\n",
       "      <th>19</th>\n",
       "      <td>ODISHA</td>\n",
       "      <td>BHUBANESWAR</td>\n",
       "      <td>780</td>\n",
       "    </tr>\n",
       "  </tbody>\n",
       "</table>\n",
       "</div>"
      ],
      "text/plain": [
       "        ship_state      ship_city  Order_ID\n",
       "0        KARNATAKA      BANGALORE     13341\n",
       "1        TELANGANA      HYDERABAD      9092\n",
       "2      MAHARASHTRA         MUMBAI      7122\n",
       "3            DELHI      NEW DELHI      6753\n",
       "4       TAMIL NADU        CHENNAI      6284\n",
       "5      MAHARASHTRA           PUNE      4616\n",
       "6      WEST BENGAL        KOLKATA      2844\n",
       "7          HARYANA       GURUGRAM      1954\n",
       "8      MAHARASHTRA          THANE      1877\n",
       "9    UTTAR PRADESH          NOIDA      1627\n",
       "10   UTTAR PRADESH        LUCKNOW      1627\n",
       "11   UTTAR PRADESH      GHAZIABAD      1484\n",
       "12         GUJARAT      AHMEDABAD      1444\n",
       "13     MAHARASHTRA    NAVI MUMBAI      1403\n",
       "14       RAJASTHAN         JAIPUR      1062\n",
       "15      TAMIL NADU     COIMBATORE       891\n",
       "16  ANDHRA PRADESH  VISAKHAPATNAM       858\n",
       "17         HARYANA      FARIDABAD       820\n",
       "18           BIHAR          PATNA       816\n",
       "19          ODISHA    BHUBANESWAR       780"
      ]
     },
     "execution_count": 62,
     "metadata": {},
     "output_type": "execute_result"
    }
   ],
   "source": [
    "df_q4 = df.groupby(['ship_state','ship_city'])[['Order_ID']].count()\\\n",
    "                                    .sort_values('Order_ID', ascending=False)\\\n",
    "                                    .head(20)\\\n",
    "                                    .reset_index()\n",
    "df_q4"
   ]
  },
  {
   "cell_type": "code",
   "execution_count": null,
   "id": "66a6757e-62b8-4d7b-a336-faaffbf42328",
   "metadata": {},
   "outputs": [],
   "source": []
  },
  {
   "cell_type": "code",
   "execution_count": null,
   "id": "ee91e719-006c-4c80-a90f-b4338b087b8a",
   "metadata": {},
   "outputs": [],
   "source": []
  },
  {
   "cell_type": "code",
   "execution_count": 63,
   "id": "c49f7c39-4769-4a63-b353-72e496d79dd7",
   "metadata": {},
   "outputs": [
    {
     "data": {
      "image/png": "[encoded data removed]",
      "text/plain": [
       "<Figure size 864x432 with 1 Axes>"
      ]
     },
     "metadata": {
      "needs_background": "light"
     },
     "output_type": "display_data"
    }
   ],
   "source": [
    "plt.figure(figsize = (12, 6))\n",
    "\n",
    "plt.title('First 20 Cities by Nr. of Orders', fontsize=_title_size)\n",
    "\n",
    "palette_colors = sns.color_palette('Set2',len(df_q4['ship_state'].unique()))\n",
    "palette_dict = {state: color for state, color in zip(list(df_q4['ship_state'].unique()), palette_colors)}\n",
    "col_list = [palette_dict.get(state) for state, city in zip(df_q4['ship_state'],df_q4['ship_city'])]\n",
    "\n",
    "ax_q4 = sns.barplot(y = 'Order_ID', x='ship_city', palette = col_list, data = df_q4)\n",
    "\n",
    "formatter = ticker.StrMethodFormatter(\"{x:,.0f}\")\n",
    "ax_q4.yaxis.set_major_formatter(formatter)\n",
    "ax_q4.yaxis.labelpad = _axis_label_pad\n",
    "\n",
    "for i, bar in enumerate(ax_q4.containers[0].patches):\n",
    "    ax_q4.text(bar.get_x() + bar.get_width()*0.7, bar.get_height(),\n",
    "        '{:,.0f}'.format(bar.get_height()), ha='center', va='bottom', rotation=45)\n",
    "plt.xticks(rotation=90)\n",
    "plt.xlabel(\"City\", weight = _fweight, fontsize= _axis_label_size)\n",
    "plt.ylabel(\"Nr. of Orders\", weight = _fweight, fontsize= _axis_label_size)\n",
    "\n",
    "legend_entries = []\n",
    "for elem in df_q4['ship_state'].unique():\n",
    "    legend_entries.append(mpatches.Patch(color=palette_dict.get(elem), label=elem))\n",
    "plt.legend(handles=legend_entries, title='State:', title_fontsize= _legend_title_size-1, fontsize=_legend_content_size-1)\n",
    "\n",
    "ax_q4.margins(0.01, 0.2)\n",
    "plt.savefig('img\\\\First_20_Cities_by_Nr_of_Orders.jpg', dpi=300, bbox_inches='tight', pad_inches=0.1)\n",
    "plt.show()"
   ]
  },
  {
   "cell_type": "code",
   "execution_count": null,
   "id": "cc90ba05-9c2a-469d-9dc3-df329e5c3038",
   "metadata": {},
   "outputs": [],
   "source": []
  },
  {
   "cell_type": "code",
   "execution_count": null,
   "id": "79cb3eb2-8d14-42e4-a25c-29fb49fd7d68",
   "metadata": {},
   "outputs": [],
   "source": []
  },
  {
   "cell_type": "markdown",
   "id": "3fd8043b-edae-477e-85ad-44855185b114",
   "metadata": {},
   "source": [
    "## Answer Q5: Which are the 20 cities that more income generate? [&#129081;](#Top)<a name=\"AQ5\"></a>"
   ]
  },
  {
   "cell_type": "code",
   "execution_count": 64,
   "id": "4d82ad5d-6400-42f1-ad1a-40b00f2b5c99",
   "metadata": {},
   "outputs": [],
   "source": [
    "df_q5 = df.groupby(['ship_state','ship_city'])[['Amount','Qty']].sum()\\\n",
    "                                    .sort_values('Amount', ascending=False)\\\n",
    "                                     .head(20)\\\n",
    "                                    .reset_index()"
   ]
  },
  {
   "cell_type": "code",
   "execution_count": 65,
   "id": "ea341053-486c-4e85-a54f-7719eeb8ba63",
   "metadata": {},
   "outputs": [
    {
     "data": {
      "image/png": "[encoded data removed]",
      "text/plain": [
       "<Figure size 864x432 with 1 Axes>"
      ]
     },
     "metadata": {
      "needs_background": "light"
     },
     "output_type": "display_data"
    }
   ],
   "source": [
    "plt.figure(figsize = (12, 6))\n",
    "plt.title('First 20 Cities by Revenue', fontsize=_title_size)\n",
    "\n",
    "palette_colors = sns.color_palette('Set2',len(df_q5['ship_state'].unique()))\n",
    "palette_dict = {state: color for state, color in zip(list(df_q5['ship_state'].unique()), palette_colors)}\n",
    "col_list = [palette_dict.get(state) for state, city in zip(df_q5['ship_state'],df_q5['ship_city'])]\n",
    "\n",
    "ax_q5 = sns.barplot(y = 'Amount', x='ship_city', palette = col_list, data = df_q5)\n",
    "\n",
    "formatter = ticker.StrMethodFormatter(\"{x:,.0f}\")\n",
    "ax_q5.yaxis.set_major_formatter(formatter)\n",
    "\n",
    "ax_q5.yaxis.labelpad = _axis_label_pad\n",
    "\n",
    "for i, bar in enumerate(ax_q5.containers[0].patches):\n",
    "    ax_q5.text(bar.get_x() + bar.get_width()*0.7, bar.get_height(),\n",
    "        '{:,.0f}'.format(bar.get_height()), ha='center', va='bottom', rotation=45)\n",
    "plt.xticks(rotation=90)\n",
    "plt.xlabel(\"City\", weight = _fweight, fontsize= _axis_label_size)\n",
    "plt.ylabel(\"Amount\", weight = _fweight, fontsize= _axis_label_size)\n",
    "\n",
    "legend_entries = []\n",
    "for elem in df_q5['ship_state'].unique():\n",
    "    legend_entries.append(mpatches.Patch(color=palette_dict.get(elem), label=elem))\n",
    "plt.legend(handles=legend_entries, title='State:', title_fontsize= _legend_title_size, fontsize=_legend_content_size-1)\n",
    "\n",
    "ax_q5.margins(0.02, 0.2)\n",
    "plt.savefig('img\\\\First_20_Cities_by_Revenue.jpg', dpi=300, bbox_inches='tight', pad_inches=0.1)\n",
    "plt.show()"
   ]
  },
  {
   "cell_type": "markdown",
   "id": "f2f5847c-cd1b-4e7d-bae2-dc046e236048",
   "metadata": {},
   "source": [
    "## Answer Q6: How many orders are fulfilled by Amazon and how many by the Merchant? [&#129081;](#Top)<a name=\"AQ6\"></a>"
   ]
  },
  {
   "cell_type": "code",
   "execution_count": 66,
   "id": "cf490dbe-7657-42ba-9805-79a125eea6b7",
   "metadata": {},
   "outputs": [
    {
     "data": {
      "text/html": [
       "<div>\n",
       "<style scoped>\n",
       "    .dataframe tbody tr th:only-of-type {\n",
       "        vertical-align: middle;\n",
       "    }\n",
       "\n",
       "    .dataframe tbody tr th {\n",
       "        vertical-align: top;\n",
       "    }\n",
       "\n",
       "    .dataframe thead th {\n",
       "        text-align: right;\n",
       "    }\n",
       "</style>\n",
       "<table border=\"1\" class=\"dataframe\">\n",
       "  <thead>\n",
       "    <tr style=\"text-align: right;\">\n",
       "      <th></th>\n",
       "      <th>Nr. of Orders</th>\n",
       "      <th>% of Orders</th>\n",
       "      <th>Tot. Sales</th>\n",
       "      <th>% of Tot. Sales</th>\n",
       "    </tr>\n",
       "    <tr>\n",
       "      <th>Fulfilment</th>\n",
       "      <th></th>\n",
       "      <th></th>\n",
       "      <th></th>\n",
       "      <th></th>\n",
       "    </tr>\n",
       "  </thead>\n",
       "  <tbody>\n",
       "    <tr>\n",
       "      <th>Amazon</th>\n",
       "      <td>89692</td>\n",
       "      <td>0.695454</td>\n",
       "      <td>54319516.0</td>\n",
       "      <td>0.691176</td>\n",
       "    </tr>\n",
       "    <tr>\n",
       "      <th>Merchant</th>\n",
       "      <td>39277</td>\n",
       "      <td>0.304546</td>\n",
       "      <td>24270527.3</td>\n",
       "      <td>0.308824</td>\n",
       "    </tr>\n",
       "  </tbody>\n",
       "</table>\n",
       "</div>"
      ],
      "text/plain": [
       "            Nr. of Orders  % of Orders  Tot. Sales  % of Tot. Sales\n",
       "Fulfilment                                                         \n",
       "Amazon              89692     0.695454  54319516.0         0.691176\n",
       "Merchant            39277     0.304546  24270527.3         0.308824"
      ]
     },
     "execution_count": 66,
     "metadata": {},
     "output_type": "execute_result"
    }
   ],
   "source": [
    "# How are the order volume and revenues distributed on the Fulfilment Method?\n",
    "df_fulfilment_stats = pd.DataFrame(data= df.groupby(['Fulfilment'])['Order_ID'].count())\n",
    "df_fulfilment_stats = df_fulfilment_stats.rename(columns={'Order_ID': 'Nr. of Orders'})\n",
    "df_fulfilment_stats['% of Orders'] = [ x / (df_fulfilment_stats['Nr. of Orders'].sum()) for x in df_fulfilment_stats['Nr. of Orders'] ]\n",
    "df_fulfilment_stats['Tot. Sales'] = df.groupby(['Fulfilment'])[['Amount']].sum()\n",
    "df_fulfilment_stats['% of Tot. Sales'] = [ x / (df_fulfilment_stats['Tot. Sales'].sum()) for x in df_fulfilment_stats['Tot. Sales'] ]\n",
    "df_fulfilment_stats"
   ]
  },
  {
   "cell_type": "code",
   "execution_count": 67,
   "id": "d75d9c47-311e-47ae-b138-d3ca0e285a3a",
   "metadata": {},
   "outputs": [
    {
     "data": {
      "image/png": "[encoded data removed]",
      "text/plain": [
       "<Figure size 576x432 with 1 Axes>"
      ]
     },
     "metadata": {},
     "output_type": "display_data"
    }
   ],
   "source": [
    "plt.figure(figsize = (8, 6))\n",
    "fig_x2 = df['Fulfilment'].value_counts().plot.pie(autopct=\"%1.1f%%\", colors = ('#FF9900','#146EB4'), \n",
    "                                                  textprops={'fontsize': 14})\n",
    "fig_x2.set(ylabel=None)\n",
    "plt.legend(title = 'Fulfilment', title_fontsize= _legend_title_size, fontsize=_legend_content_size, bbox_to_anchor=(1,0.8),\n",
    "                          bbox_transform=plt.gcf().transFigure)\n",
    "plt.title('Fulfilment Orders Overview', fontsize= _title_size);\n",
    "plt.savefig('img\\\\Fulfilment_Orders_Overview.jpg', dpi=300, bbox_inches='tight', pad_inches=0.1)\n",
    "plt.show()"
   ]
  },
  {
   "cell_type": "code",
   "execution_count": 68,
   "id": "3c83c559-a9ea-46bb-88a2-a0486c003428",
   "metadata": {},
   "outputs": [],
   "source": [
    "df_shipment_stats = df.query(\"Courier_Status != 'Unknown'\").groupby(['Courier_Status','Fulfilment'])[['Amount','Qty']].sum()\\\n",
    "                                    .sort_values('Amount', ascending=False)\\\n",
    "                                    .reset_index()"
   ]
  },
  {
   "cell_type": "code",
   "execution_count": 69,
   "id": "098077c5-6655-407e-9a3f-60cae8b7291f",
   "metadata": {},
   "outputs": [
    {
     "data": {
      "text/html": [
       "<div>\n",
       "<style scoped>\n",
       "    .dataframe tbody tr th:only-of-type {\n",
       "        vertical-align: middle;\n",
       "    }\n",
       "\n",
       "    .dataframe tbody tr th {\n",
       "        vertical-align: top;\n",
       "    }\n",
       "\n",
       "    .dataframe thead th {\n",
       "        text-align: right;\n",
       "    }\n",
       "</style>\n",
       "<table border=\"1\" class=\"dataframe\">\n",
       "  <thead>\n",
       "    <tr style=\"text-align: right;\">\n",
       "      <th></th>\n",
       "      <th>Courier_Status</th>\n",
       "      <th>Fulfilment</th>\n",
       "      <th>Amount</th>\n",
       "      <th>Qty</th>\n",
       "    </tr>\n",
       "  </thead>\n",
       "  <tbody>\n",
       "    <tr>\n",
       "      <th>0</th>\n",
       "      <td>Shipped</td>\n",
       "      <td>Amazon</td>\n",
       "      <td>50329299.0</td>\n",
       "      <td>77858</td>\n",
       "    </tr>\n",
       "    <tr>\n",
       "      <th>1</th>\n",
       "      <td>Shipped</td>\n",
       "      <td>Merchant</td>\n",
       "      <td>20726730.0</td>\n",
       "      <td>32035</td>\n",
       "    </tr>\n",
       "    <tr>\n",
       "      <th>2</th>\n",
       "      <td>Unshipped</td>\n",
       "      <td>Amazon</td>\n",
       "      <td>3990217.0</td>\n",
       "      <td>6226</td>\n",
       "    </tr>\n",
       "    <tr>\n",
       "      <th>3</th>\n",
       "      <td>Unshipped</td>\n",
       "      <td>Merchant</td>\n",
       "      <td>353625.0</td>\n",
       "      <td>527</td>\n",
       "    </tr>\n",
       "    <tr>\n",
       "      <th>4</th>\n",
       "      <td>Cancelled</td>\n",
       "      <td>Amazon</td>\n",
       "      <td>0.0</td>\n",
       "      <td>0</td>\n",
       "    </tr>\n",
       "  </tbody>\n",
       "</table>\n",
       "</div>"
      ],
      "text/plain": [
       "  Courier_Status Fulfilment      Amount    Qty\n",
       "0        Shipped     Amazon  50329299.0  77858\n",
       "1        Shipped   Merchant  20726730.0  32035\n",
       "2      Unshipped     Amazon   3990217.0   6226\n",
       "3      Unshipped   Merchant    353625.0    527\n",
       "4      Cancelled     Amazon         0.0      0"
      ]
     },
     "execution_count": 69,
     "metadata": {},
     "output_type": "execute_result"
    }
   ],
   "source": [
    "df_shipment_stats"
   ]
  },
  {
   "cell_type": "code",
   "execution_count": 70,
   "id": "7b974bd0-fb93-4012-bf67-98d3be8c3f30",
   "metadata": {},
   "outputs": [],
   "source": [
    "df_shipment_stats['Nr. of Orders'] = df.groupby(['Courier_Status','Fulfilment'])[['Order_ID']].count()\\\n",
    "                                    .sort_values('Order_ID', ascending=False)\\\n",
    "                                    .reset_index()['Order_ID']"
   ]
  },
  {
   "cell_type": "code",
   "execution_count": 71,
   "id": "70caceaa-c329-4c41-a270-b1737c65010b",
   "metadata": {},
   "outputs": [
    {
     "data": {
      "text/html": [
       "<div>\n",
       "<style scoped>\n",
       "    .dataframe tbody tr th:only-of-type {\n",
       "        vertical-align: middle;\n",
       "    }\n",
       "\n",
       "    .dataframe tbody tr th {\n",
       "        vertical-align: top;\n",
       "    }\n",
       "\n",
       "    .dataframe thead th {\n",
       "        text-align: right;\n",
       "    }\n",
       "</style>\n",
       "<table border=\"1\" class=\"dataframe\">\n",
       "  <thead>\n",
       "    <tr style=\"text-align: right;\">\n",
       "      <th></th>\n",
       "      <th>Courier_Status</th>\n",
       "      <th>Fulfilment</th>\n",
       "      <th>Amount</th>\n",
       "      <th>Qty</th>\n",
       "      <th>Nr. of Orders</th>\n",
       "    </tr>\n",
       "  </thead>\n",
       "  <tbody>\n",
       "    <tr>\n",
       "      <th>0</th>\n",
       "      <td>Shipped</td>\n",
       "      <td>Amazon</td>\n",
       "      <td>50329299.0</td>\n",
       "      <td>77858</td>\n",
       "      <td>77603</td>\n",
       "    </tr>\n",
       "    <tr>\n",
       "      <th>1</th>\n",
       "      <td>Shipped</td>\n",
       "      <td>Merchant</td>\n",
       "      <td>20726730.0</td>\n",
       "      <td>32035</td>\n",
       "      <td>31881</td>\n",
       "    </tr>\n",
       "    <tr>\n",
       "      <th>2</th>\n",
       "      <td>Unshipped</td>\n",
       "      <td>Amazon</td>\n",
       "      <td>3990217.0</td>\n",
       "      <td>6226</td>\n",
       "      <td>6872</td>\n",
       "    </tr>\n",
       "    <tr>\n",
       "      <th>3</th>\n",
       "      <td>Unshipped</td>\n",
       "      <td>Merchant</td>\n",
       "      <td>353625.0</td>\n",
       "      <td>527</td>\n",
       "      <td>6157</td>\n",
       "    </tr>\n",
       "    <tr>\n",
       "      <th>4</th>\n",
       "      <td>Cancelled</td>\n",
       "      <td>Amazon</td>\n",
       "      <td>0.0</td>\n",
       "      <td>0</td>\n",
       "      <td>5932</td>\n",
       "    </tr>\n",
       "  </tbody>\n",
       "</table>\n",
       "</div>"
      ],
      "text/plain": [
       "  Courier_Status Fulfilment      Amount    Qty  Nr. of Orders\n",
       "0        Shipped     Amazon  50329299.0  77858          77603\n",
       "1        Shipped   Merchant  20726730.0  32035          31881\n",
       "2      Unshipped     Amazon   3990217.0   6226           6872\n",
       "3      Unshipped   Merchant    353625.0    527           6157\n",
       "4      Cancelled     Amazon         0.0      0           5932"
      ]
     },
     "execution_count": 71,
     "metadata": {},
     "output_type": "execute_result"
    }
   ],
   "source": [
    "df_shipment_stats"
   ]
  },
  {
   "cell_type": "code",
   "execution_count": 72,
   "id": "163cea7a-bff1-44bf-ac39-68942abf777c",
   "metadata": {},
   "outputs": [
    {
     "data": {
      "image/png": "[encoded data removed]",
      "text/plain": [
       "<Figure size 864x432 with 1 Axes>"
      ]
     },
     "metadata": {
      "needs_background": "light"
     },
     "output_type": "display_data"
    }
   ],
   "source": [
    "plt.figure(figsize = (12, 6))\n",
    "\n",
    "ax6 = sns.countplot(x = 'Courier_Status', hue = 'Fulfilment', palette = ['#146EB4','#FF9900'], data = df.query(\"Courier_Status != 'Unknown'\"));\n",
    "plt.title('Shipping State Overview', fontsize=_title_size);\n",
    "ax6.xaxis.labelpad = _axis_label_pad\n",
    "ax6.yaxis.labelpad = _axis_label_pad\n",
    "\n",
    "for i in ax6.containers:\n",
    "    ax6.bar_label(i,)\n",
    "plt.xlabel(\"Courier Status\", weight = _fweight, fontsize= _axis_label_size)\n",
    "plt.ylabel(\"Nr. of Orders\", weight = _fweight, fontsize= _axis_label_size)\n",
    "plt.legend(title='Fulfilment:', title_fontsize= _legend_title_size, fontsize=_legend_content_size)\n",
    "plt.savefig('img\\\\Shipping_State_Overview.jpg', dpi=300, bbox_inches='tight', pad_inches=0.1)\n",
    "plt.show;"
   ]
  },
  {
   "cell_type": "markdown",
   "id": "103020fb-8714-48c6-b5b5-043ea3fbbf30",
   "metadata": {},
   "source": [
    "## FINAL CONCLUSIONS [&#129081;](#Top)<a name=\"Conclusions\"></a>"
   ]
  },
  {
   "cell_type": "markdown",
   "id": "90038740-4f48-4ca8-bb43-ce6b0b5fdfc1",
   "metadata": {},
   "source": [
    "In the course of the analysis:\n",
    "* It was established that Western Dress, Kurta and Set are the categories which have sold most.\n",
    "* It was verified that the 20 Best-Selling Products by quantity belongs to the categories Western Dress, Kurta and Set.  \n",
    "* On the other hand, the 20 Best-Selling Products by revenue belongs only to the categories Western Dress and Set.  \n",
    "* Also it was performed a fulfilment and shipping state overview."
   ]
  },
  {
   "cell_type": "markdown",
   "id": "f5450df5-a457-4f1a-aeab-9de257c2d6a2",
   "metadata": {
    "tags": []
   },
   "source": [
    "   \n",
    "---   \n",
    "   "
   ]
  },
  {
   "cell_type": "markdown",
   "id": "145bd9f1-829d-4b98-bb9a-8a752993f23f",
   "metadata": {
    "tags": []
   },
   "source": [
    "\n",
    "\n",
    "\n",
    "### Data Source\n",
    "The data for this project can be found at [data.world](https://data.world/anilsharma87), thanks to [ANil](https://data.world/anilsharma87).\n",
    "\n",
    "### Author \n",
    "[Barbara Callegari](https://numberslab.net)  \n",
    "To learn more about the author visit her [LinkedIn Profile](https://www.linkedin.com/in/barbaracallegari)\n",
    "\n",
    "### Licence\n",
    "All rights reserved 2023. All code is **created and owned by Barbara Callegari**.   \n",
    "**If you use his code, please give her a skill endorsement in Python and Data Analysis on LinkedIn**.   \n",
    "Visit her at https://www.linkedin.com/in/barbaracallegari"
   ]
  }
 ],
 "metadata": {
  "kernelspec": {
   "display_name": "Python 3 (ipykernel)",
   "language": "python",
   "name": "python3"
  },
  "language_info": {
   "codemirror_mode": {
    "name": "ipython",
    "version": 3
   },
   "file_extension": ".py",
   "mimetype": "text/x-python",
   "name": "python",
   "nbconvert_exporter": "python",
   "pygments_lexer": "ipython3",
   "version": "3.9.12"
  }
 },
 "nbformat": 4,
 "nbformat_minor": 5
}
