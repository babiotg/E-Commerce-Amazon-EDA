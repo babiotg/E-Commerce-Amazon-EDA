{
 "cells": [
  {
   "cell_type": "markdown",
   "id": "75466b4a-f4d9-4fef-b20b-14853a582086",
   "metadata": {},
   "source": [
    "# Exploratory Data Analysis and Data Cleaning <a name=\"Top\"></a>"
   ]
  },
  {
   "cell_type": "markdown",
   "id": "1b711908-60ec-43e7-b197-f3c80dc40892",
   "metadata": {
    "tags": []
   },
   "source": [
    "# TABLE OF CONTENT\n",
    "\n",
    "[ABOUT THIS DATASET](#About)  \n",
    "1. [IMPORT LIBRARIES](#ImportLibraries)  \n",
    "2. [DATA EXPLORATION AND DATA CLEANING](#DataExplDataClean)  \n",
    "    2.1 [Data types](#DataTypes_df1)      \n",
    "    2.2 [Missing values](#Missing_df1)       \n",
    "    2.3 [Uniform Values](#UniformValues_df1)     \n",
    "    2.4 [Remove Duplicates](#RemDupl_df1)    \n",
    "    2.5 [Numeric data](#NumData_df1)    \n",
    "    2.6 [Categorical data](#CatData_df1)    \n",
    "3. [DATA ANALYSIS](#DataAnalysis) \n",
    "4. [FINAL CONCLUSIONS](#Conclusions) <a name=\"Conclusions\"></a>"
   ]
  },
  {
   "cell_type": "markdown",
   "id": "3859d23a-dadf-4493-be7d-5b05ede7a165",
   "metadata": {
    "tags": []
   },
   "source": [
    "# ABOUT THIS DATASET <a name=\"About\"></a>\n",
    "\n",
    "This dataset provides detailed insights into Amazon sales data, including SKU Code, Design Number, Stock, Category and Size, to help optimize product profitability. It covers a 90 days time frame, from 31 March 2022 to 29 June 2022.\n",
    "\n",
    "**Attributes:**\n",
    "* **Order ID**: Order Identification Number. (String)\n",
    "* **Date**: Date of the sale. (Date)\n",
    "* **Status**: Status of the sale. (String)\n",
    "* **Fulfilment**: Method of fulfilment. (String)\n",
    "* **Sales Channel**: Method of selling. (String)\n",
    "* **Ship Service Level**:  Method of Shipping Service. (String)  \n",
    "* **Style**: Style of the product. (String)\n",
    "* **SKU**: Stock Keeping Unit. (String)\n",
    "* **Category**: Type of product. (String)\n",
    "* **Size**: Size of the product. (String)\n",
    "* **ASIN**: Amazon Standard Identification Number. (String)\n",
    "* **Courier Status**: Status of the courier. (String)\n",
    "* **Qty**: Quantity of the product. (Integer)\n",
    "* **Currency**: The currency used for the sale (INR). (String)\n",
    "* **Amount**: Amount of the sale. (Float)\n",
    "* **Ship City**: Destination City of the shipment. (String)\n",
    "* **Ship State**: Destination State of the shipment. (String)\n",
    "* **Ship Postal Code**: Destination Postal Code of the shipment. (String)\n",
    "* **Ship Country**: Destination Country of the shipment. (String)\n",
    "* **Promotion IDS**: Promotion code of the sale. (String)\n",
    "* **B2B**: Business to business sale. (Boolean)\n",
    "\n",
    " \n",
    "**Questions to be answered:**\n",
    "\n",
    "1. Which categories have sold most?  [[&#8599;]](#AQ1)    \n",
    "2. Which are the 20 Best-Selling Products?   [[&#8599;]](#AQ2)    \n",
    "3. Which are the 20 Best-Selling Products by Revenue?   [[&#8599;]](#AQ3)    \n",
    "4. Which are the 20 cities that made the most orders?   [[&#8599;]](#AQ4)    \n",
    "5. Which are the 20 cities that more income generate?    [[&#8599;]](#AQ5)    \n",
    "6. How many orders are fulfilled by Amazon and how many by the Merchant?    [[&#8599;]](#AQ6)    "
   ]
  },
  {
   "cell_type": "markdown",
   "id": "c4f01d6b-ece3-4e8e-9ee7-69487c93f41a",
   "metadata": {},
   "source": [
    "# 1. IMPORT LIBRARIES [&#129081;](#Top)<a name=\"ImportLibraries\"></a>"
   ]
  },
  {
   "cell_type": "markdown",
   "id": "9844ba18-dd2f-47d9-87c1-8793b69defb0",
   "metadata": {},
   "source": [
    "**LIBRARIES:**\n",
    "\n",
    "* Library **pandas**: to handle data in tabular representation.\n",
    "* Library **missingno**: to graphically display missing values in the data.\n",
    "* Library **re**: to work with regular expressions.\n",
    "* Library **matplotlib, seaborn**: to visualize data in in plots, graphs and charts."
   ]
  },
  {
   "cell_type": "code",
   "execution_count": null,
   "id": "5d7bff6f-9d12-4b9c-af77-d463e7d258e5",
   "metadata": {},
   "outputs": [],
   "source": [
    "import pandas as pd\n",
    "import missingno as msno\n",
    "import re\n",
    "import matplotlib.pyplot as plt\n",
    "import matplotlib.patches as mpatches\n",
    "import matplotlib.ticker as ticker\n",
    "import seaborn as sns"
   ]
  },
  {
   "cell_type": "code",
   "execution_count": null,
   "id": "fe1de520-31d8-42a9-b474-4fe9b2275b03",
   "metadata": {},
   "outputs": [],
   "source": [
    "from plotly.subplots import make_subplots\n",
    "import plotly.graph_objects as go\n",
    "import plotly.figure_factory as ff"
   ]
  },
  {
   "cell_type": "markdown",
   "id": "973d6ed9-8aba-4b3c-a5dd-1351fe0a58d6",
   "metadata": {
    "tags": []
   },
   "source": [
    "# 2 DATA DESCRIPTION AND DATA CLEANING [&#129081;](#Top)<a name=\"DataExplDataClean\"></a>\n",
    "In this phase, will be performed the exploratory data analysis: data types, missing values, string standardisation, duplicates, measures of the central trend, and relationship detection between fields."
   ]
  },
  {
   "cell_type": "markdown",
   "id": "4076caf8-1828-4879-8582-d9fe7bab1b93",
   "metadata": {
    "tags": []
   },
   "source": [
    "## 2.1 Data types [&#129081;](#Top)<a name=\"DataTypes_df1\"></a>"
   ]
  },
  {
   "cell_type": "code",
   "execution_count": null,
   "id": "94e1dbc6-d2e5-4db2-923b-9b2bd13e1d2e",
   "metadata": {},
   "outputs": [],
   "source": [
    "# Load data\n",
    "df = pd.read_csv(\"Data in\\\\Amazon Sale Report.csv\", low_memory=False) "
   ]
  },
  {
   "cell_type": "code",
   "execution_count": null,
   "id": "c806a3f9-ce47-47af-9112-bc0164e47469",
   "metadata": {},
   "outputs": [],
   "source": [
    "df.head() # Display the first 5 lines of the dataset"
   ]
  },
  {
   "cell_type": "markdown",
   "id": "59ee5e7d-c4de-400a-baf1-ef21c98e92f2",
   "metadata": {},
   "source": [
    "* Check the dimension of the data"
   ]
  },
  {
   "cell_type": "code",
   "execution_count": null,
   "id": "4a7a8b66-b51b-4dec-adae-65fe65b23e18",
   "metadata": {},
   "outputs": [],
   "source": [
    "df_sizes = {'start': df.shape}"
   ]
  },
  {
   "cell_type": "code",
   "execution_count": null,
   "id": "52424d5b-db89-4b5e-ac91-c51db9cadf8d",
   "metadata": {},
   "outputs": [],
   "source": [
    "print(f\"Raw data contains {df_sizes['start'][0]} records and {df_sizes['start'][1]} columns.\")"
   ]
  },
  {
   "cell_type": "markdown",
   "id": "d4e8ddf0-8a4d-4e60-9327-7b71e6c9a3a4",
   "metadata": {},
   "source": [
    "* Standardize the column names"
   ]
  },
  {
   "cell_type": "code",
   "execution_count": null,
   "id": "3ca0f0ee-c38b-472b-8de8-3fddc2f13cbb",
   "metadata": {},
   "outputs": [],
   "source": [
    "df.columns"
   ]
  },
  {
   "cell_type": "code",
   "execution_count": null,
   "id": "fc6fa62e-bedf-478c-8c99-2ff4f7aace3a",
   "metadata": {
    "tags": []
   },
   "outputs": [],
   "source": [
    "df = df.rename(columns={'Order ID': 'Order_ID', 'Sales Channel ': 'Sales_channel',\n",
    "        'ship-service-level': 'ship_service_level', 'ship-city': 'ship_city', \n",
    "        'ship-state': 'ship_state', 'ship-postal-code': 'ship_postal_code', 'ship-country': 'ship_country', \n",
    "        'promotion-ids': 'promotion_ids','Courier Status': 'Courier_Status', 'currency': 'Currency', \n",
    "        'fulfilled-by':'fulfilled_by'})"
   ]
  },
  {
   "cell_type": "markdown",
   "id": "d185ef38-6980-4297-a1fc-e9921923a12d",
   "metadata": {},
   "source": [
    "* Check columns data type"
   ]
  },
  {
   "cell_type": "code",
   "execution_count": null,
   "id": "ca54a7a8-5ef5-4e0b-b1ed-7f5cdda06faf",
   "metadata": {},
   "outputs": [],
   "source": [
    "df.info()"
   ]
  },
  {
   "cell_type": "markdown",
   "id": "6adb0a08-f476-47fc-9069-5bce5f571d0f",
   "metadata": {},
   "source": [
    "The dataset contains 24 columns, of which 4 containig numeric values:\n",
    "* index  (int)\n",
    "* Qty (int)\n",
    "* Amount (float)\n",
    "* ship-postal-code (float), later it will be converted to integer"
   ]
  },
  {
   "cell_type": "markdown",
   "id": "b4588a49-a75d-4752-b3c8-d5ac7a2cc337",
   "metadata": {},
   "source": [
    "* Set the column 'index' as the index of the dataframe. With this operation the number of columns becomes 22."
   ]
  },
  {
   "cell_type": "code",
   "execution_count": null,
   "id": "ebbccb93-9274-4a57-b580-5ce90f391c76",
   "metadata": {},
   "outputs": [],
   "source": [
    "df.set_index('index', inplace = True)"
   ]
  },
  {
   "cell_type": "markdown",
   "id": "26ce465b-ba00-4c1b-83d9-50d13cafed24",
   "metadata": {
    "tags": []
   },
   "source": [
    "## 2.2 Missing values [&#129081;](#Top)<a name=\"Missing_df1\"></a>\n",
    "### Evaluate how many values are missing for each attribute and how they are distributed."
   ]
  },
  {
   "cell_type": "markdown",
   "id": "d3cffba2-851e-41b6-8bf3-748b4673014e",
   "metadata": {},
   "source": [
    "* Create a separate dataframe containing the informations about missing and unique values for each column, to better see the correlations."
   ]
  },
  {
   "cell_type": "code",
   "execution_count": null,
   "id": "19bafb49-9679-4810-8e03-49c250a02d36",
   "metadata": {},
   "outputs": [],
   "source": [
    "def missing_evaluation(dataframe):\n",
    "    '''\n",
    "    missing_evaluation(dataframe)\n",
    "    \n",
    "    Returns a dataframe containing the informations about missing and unique values \n",
    "    for each column on a dataframe passed as a parameter\n",
    "\n",
    "    Parameters: \n",
    "    dataframe: dataframe to analyze\n",
    "    '''\n",
    "    \n",
    "    # Column 'qt_missing': Number of NaN values\n",
    "    df_missing_stats = pd.DataFrame(data=dataframe.isna().sum(), index=dataframe.columns, columns=['qt_missing'])\n",
    "    # Column 'nr_unique_values': Number of unique values\n",
    "    df_missing_stats['qt_unique_values'] = pd.DataFrame(data=dataframe.nunique(), index=dataframe.columns)\n",
    "    # Column 'unique_values': unique values of the attributes\n",
    "    df_missing_stats['unique_values'] = pd.DataFrame(data=dataframe.apply(pd.unique), index=dataframe.columns)\n",
    "    # Column 'perc_missing': percentage of missing values\n",
    "    df_missing_stats['perc_missing'] = pd.DataFrame(data=dataframe.isnull().mean())\n",
    "    return df_missing_stats"
   ]
  },
  {
   "cell_type": "code",
   "execution_count": null,
   "id": "1e9c9ffb-ad1c-43d4-88de-e427228b62c6",
   "metadata": {},
   "outputs": [],
   "source": [
    "df_missing_stats = missing_evaluation(df)\n",
    "df_missing_stats"
   ]
  },
  {
   "cell_type": "code",
   "execution_count": null,
   "id": "1db9398c-38f8-4ebc-852f-6a53de684379",
   "metadata": {},
   "outputs": [],
   "source": [
    "# Visualize the distribution of missing values with missingno matrix\n",
    "msno.matrix(df);"
   ]
  },
  {
   "cell_type": "code",
   "execution_count": null,
   "id": "08655e4b-8527-4e7f-ba2b-568fd4fa8f8b",
   "metadata": {},
   "outputs": [],
   "source": [
    "# Use the heatmap to identify correlations of the nullity between each of the different columns.\n",
    "msno.heatmap(df);"
   ]
  },
  {
   "cell_type": "markdown",
   "id": "6bfc5ae4-76f4-41b2-9af1-d676680c5d66",
   "metadata": {},
   "source": [
    "Worth noting that:\n",
    "* When one of the columns **'Amount'** and **'Currency'** is null, the other is also null (7795 raws with null values).\n",
    "* When one of columns **'ship_city', 'ship_state', 'ship_postal_code', 'ship_country'** has a null value, the others are also null (33 raws with null values)."
   ]
  },
  {
   "cell_type": "markdown",
   "id": "a1de5c07-9917-4e3b-9b77-9733a0551c08",
   "metadata": {},
   "source": [
    "### Fill in (or eliminate) the missing values with a case-by-case assessment.\n",
    "After the exploration of the missing values, it's possible to proceed fill (or clean) each column, performing an individual assessment."
   ]
  },
  {
   "cell_type": "markdown",
   "id": "19bd5409-d817-41ce-98a8-f4f448813f53",
   "metadata": {},
   "source": [
    "* **Courier_Status**: missing values filled with 'Unknown'"
   ]
  },
  {
   "cell_type": "code",
   "execution_count": null,
   "id": "e4ff6139-d3f0-4b0b-ac8d-bfa58a4b7784",
   "metadata": {},
   "outputs": [],
   "source": [
    "# Replace NaN values in column 'Courier_Status' with the value 'Unknown'\n",
    "df['Courier_Status'].fillna('Unknown', inplace = True)"
   ]
  },
  {
   "cell_type": "markdown",
   "id": "fb3f3ae8-1bdb-46bd-ae48-23ac11cb7813",
   "metadata": {},
   "source": [
    "* Check nullity correlation on **Amount** and **Currency** columns\n",
    "* Fill missing values in **Amount** with zero\n",
    "* Fill missing values in **Currency** with 'INR'"
   ]
  },
  {
   "cell_type": "code",
   "execution_count": null,
   "id": "ec4f4868-bb6b-4701-bdc9-4ca823f24479",
   "metadata": {},
   "outputs": [],
   "source": [
    "set_idx_amount_null = set(df[df['Amount'].isnull()].index)"
   ]
  },
  {
   "cell_type": "code",
   "execution_count": null,
   "id": "7f496b77-94d9-4f0f-b833-37039f69efde",
   "metadata": {
    "tags": []
   },
   "outputs": [],
   "source": [
    "set2_idx_currency_null = set(df[df['Currency'].isnull()].index)"
   ]
  },
  {
   "cell_type": "code",
   "execution_count": null,
   "id": "b6fc90dd-3f0b-4baa-9d7a-79261b6c77e8",
   "metadata": {},
   "outputs": [],
   "source": [
    "print(f\"Question: Columns 'Amount' and 'Currency' have 1 to 1 nullity correlation?\\nAnswer: {set_idx_amount_null == set2_idx_currency_null}\") "
   ]
  },
  {
   "cell_type": "code",
   "execution_count": null,
   "id": "34deb741-87b1-42c0-b5ac-1c7dc94ceb55",
   "metadata": {},
   "outputs": [],
   "source": [
    "df['Amount'].fillna(0, inplace = True)"
   ]
  },
  {
   "cell_type": "code",
   "execution_count": null,
   "id": "b09d0e87-dd02-46d2-87b0-25cdbd448a4a",
   "metadata": {},
   "outputs": [],
   "source": [
    "df['Currency'].fillna('INR', inplace = True)"
   ]
  },
  {
   "cell_type": "markdown",
   "id": "31f964c6-4787-4925-b5e0-b7215408fd83",
   "metadata": {},
   "source": [
    "* **promotion_ids**: missing values filled with 'No Promo'"
   ]
  },
  {
   "cell_type": "code",
   "execution_count": null,
   "id": "39e1edd5-fb93-46f5-9967-96e5ccb7f8e8",
   "metadata": {},
   "outputs": [],
   "source": [
    "# Replace NaN values in column 'promotion_ids' with the value 'Unknown'\n",
    "df['promotion_ids'].fillna('No Promo', inplace = True)"
   ]
  },
  {
   "cell_type": "markdown",
   "id": "5ed0502b-0336-45cf-be47-80b8ba87d4af",
   "metadata": {},
   "source": [
    "* **ship_city** and **ship_state**: missing values filled with 'Unknown'\n",
    "* **ship_postal_code**: missing values filled with zero\n",
    "* **ship_country**: missing values filled with 'Unknown'"
   ]
  },
  {
   "cell_type": "code",
   "execution_count": null,
   "id": "2db42836-6a99-48b8-91be-97069908c8e1",
   "metadata": {},
   "outputs": [],
   "source": [
    "df['ship_city'].fillna('Unknown', inplace = True)\n",
    "df['ship_state'].fillna('Unknown', inplace = True)\n",
    "df['ship_postal_code'].fillna(0, inplace = True)\n",
    "df['ship_country'].fillna('Unknown', inplace = True)"
   ]
  },
  {
   "cell_type": "markdown",
   "id": "bfc02d55-d2cc-48b5-91c2-b02e5bb6d13b",
   "metadata": {},
   "source": [
    "* **fulfilled_by**: missing values filled with 'FBA' (Fulfilled by Amazon)."
   ]
  },
  {
   "cell_type": "code",
   "execution_count": null,
   "id": "ec70a0a3-ad1a-4f3d-93da-049eadf65613",
   "metadata": {},
   "outputs": [],
   "source": [
    "df['fulfilled_by'].fillna('FBA', inplace = True)"
   ]
  },
  {
   "cell_type": "markdown",
   "id": "38aa5e49-c62e-4278-9d29-4113975d04fe",
   "metadata": {},
   "source": [
    "* **Unnamed: 22** will be deleted because it isn't relevant"
   ]
  },
  {
   "cell_type": "code",
   "execution_count": null,
   "id": "cdfc810e-bd71-4e0e-b02e-5d3e0670331d",
   "metadata": {},
   "outputs": [],
   "source": [
    "df.drop(columns = ['Unnamed: 22'], inplace = True)"
   ]
  },
  {
   "cell_type": "markdown",
   "id": "43832392-1276-4d39-ac80-9b149182b914",
   "metadata": {},
   "source": [
    "### Check that none of the missing values are left"
   ]
  },
  {
   "cell_type": "code",
   "execution_count": null,
   "id": "b4ace799-fe1a-404f-ba36-f4f327b4da5f",
   "metadata": {
    "tags": []
   },
   "outputs": [],
   "source": [
    "df.isna().sum().sum()"
   ]
  },
  {
   "cell_type": "code",
   "execution_count": null,
   "id": "90d181ed-024c-453a-969f-9d0f3a04d403",
   "metadata": {},
   "outputs": [],
   "source": [
    "df_missing_stats = missing_evaluation(df)\n",
    "df_missing_stats"
   ]
  },
  {
   "cell_type": "markdown",
   "id": "063175fa-3f08-4708-92a1-1254a57e6e76",
   "metadata": {
    "tags": []
   },
   "source": [
    "## 2.3 Uniform the values in each column [&#129081;](#Top)<a name=\"UniformValues_df1\"></a>\n",
    "To make values consistent, such as eliminating duplicates and having unique values, it is first of all necessary to standardize the style of the strings.\n",
    "It's a procedure in which the intervention to apply for each column must be evaluated individually."
   ]
  },
  {
   "cell_type": "markdown",
   "id": "ce3beca3-0d87-4a2a-9950-d5ed1dfee74f",
   "metadata": {},
   "source": [
    "* **Order_ID**: it's proper that it's a string, remove extra white spaces from the beginning and end, and set the characters in UPPER case."
   ]
  },
  {
   "cell_type": "code",
   "execution_count": null,
   "id": "e7039883-3d7d-4537-ba00-281023aeca2e",
   "metadata": {},
   "outputs": [],
   "source": [
    "df['Order_ID'] = df['Order_ID'].str.strip()"
   ]
  },
  {
   "cell_type": "code",
   "execution_count": null,
   "id": "22fedc4d-d5f3-4707-ad90-f46d09c842ef",
   "metadata": {},
   "outputs": [],
   "source": [
    "df['Order_ID'] = df['Order_ID'].str.upper()"
   ]
  },
  {
   "cell_type": "markdown",
   "id": "60c7b468-33fc-41cc-bc33-1ae23af07ad2",
   "metadata": {},
   "source": [
    "* **Date**: it's in string format, set it to to dtype datetime. "
   ]
  },
  {
   "cell_type": "code",
   "execution_count": null,
   "id": "0c948db5-65c0-460d-b743-575f20fe1bea",
   "metadata": {},
   "outputs": [],
   "source": [
    "# Set column 'Date' to data type datetime\n",
    "df['Date'] = pd.to_datetime(df['Date'])"
   ]
  },
  {
   "cell_type": "markdown",
   "id": "19c3d449-f339-4c8e-b265-bcbe2800f027",
   "metadata": {},
   "source": [
    "* **Status**: it's proper that it's a string, remove extra white spaces from the beginning and end.   \n",
    "Then check if there are the same 'Status' values but with different spellings.  \n",
    "As verified above, it contains 13 values, so they can be checked visually one by one, avoiding apply without distinction Capitalize or UPPER methods, keeping the contents legible at a glance within possible limits."
   ]
  },
  {
   "cell_type": "code",
   "execution_count": null,
   "id": "e0ba6c63-1c9c-4195-8128-286f1c99b6b3",
   "metadata": {},
   "outputs": [],
   "source": [
    "df['Status'] = df['Status'].str.strip()"
   ]
  },
  {
   "cell_type": "code",
   "execution_count": null,
   "id": "8c49c480-e01d-49aa-b77c-5f63537dca95",
   "metadata": {},
   "outputs": [],
   "source": [
    "# Check column 'Status', result: it doesn't need intervention\n",
    "for value in df.Status.sort_values().unique():\n",
    "    print(f\"'{value}'\")"
   ]
  },
  {
   "cell_type": "markdown",
   "id": "f1874a7a-0683-4538-914f-9165db6c7478",
   "metadata": {},
   "source": [
    "* **Fulfilment**: contains 2 unique values ('Merchant' and 'Amazon'), and are already written in the correct form\n",
    "* **Sales_channel**: contains 2 unique values ('Amazon.in' and 'Non-Amazon'), and are already written in the correct form\n",
    "* **ship_service_level**: contains 2 unique values('Standard' and 'Expedited'), and are already written in the correct form"
   ]
  },
  {
   "cell_type": "markdown",
   "id": "aedc578a-ce63-41a2-8b4d-ac6858d66f29",
   "metadata": {},
   "source": [
    "* **Style** and **SKU**: it's proper that they are strings, remove extra white spaces from the beginning and end, and set the characters in UPPER case."
   ]
  },
  {
   "cell_type": "code",
   "execution_count": null,
   "id": "84550d1f-71ec-4a25-963a-70ffb293c60d",
   "metadata": {},
   "outputs": [],
   "source": [
    "df['Style'] = df['Style'].str.strip()\n",
    "df['Style'] = df['Style'].str.upper()\n",
    "df['SKU'] = df['SKU'].str.strip()\n",
    "df['SKU'] = df['SKU'].str.upper()"
   ]
  },
  {
   "cell_type": "markdown",
   "id": "e89a3f5d-5d3f-49ab-8129-70585e8a1b3e",
   "metadata": {},
   "source": [
    "* **Category**: it's proper that it's a string, remove extra white spaces from the beginning and end, and set the characters in UPPER case."
   ]
  },
  {
   "cell_type": "code",
   "execution_count": null,
   "id": "975c5bf0-aeb3-4ed8-8ff0-369f19dc0f28",
   "metadata": {},
   "outputs": [],
   "source": [
    "df['Category'] = df['Category'].str.strip()\n",
    "df['Category'] = df['Category'].str.upper()"
   ]
  },
  {
   "cell_type": "markdown",
   "id": "3437ccd7-e01b-447c-8918-6a964025d1b0",
   "metadata": {},
   "source": [
    "* **Size**: contains 11 unique values, and as can be seen from the table above they are already written in the correct form."
   ]
  },
  {
   "cell_type": "markdown",
   "id": "cf1075b6-f01b-44bb-bfbf-6df08867ad50",
   "metadata": {},
   "source": [
    "* **ASIN**: it's proper that it's a string, remove extra white spaces from the beginning and end, and set the characters in UPPER case."
   ]
  },
  {
   "cell_type": "code",
   "execution_count": null,
   "id": "2cac975a-e52c-44ea-9f93-f74f62ef65a4",
   "metadata": {},
   "outputs": [],
   "source": [
    "df['ASIN'] = df['ASIN'].str.strip()\n",
    "df['ASIN'] = df['ASIN'].str.upper()"
   ]
  },
  {
   "cell_type": "markdown",
   "id": "f0969e0a-630a-4738-8988-a124b816a8f2",
   "metadata": {},
   "source": [
    "* **Courier_Status**: contains 4 unique values (Shipped, Cancelled, Unshipped, Unknown), and are already written in the correct form.   \n",
    "* **Qty**: is a integer number, with max value of 15 units. It doesn't nedd intervention. \n",
    "* **Currency**: contains 1 unique value (INR), and is already written in the correct form.  \n",
    "* **Amount**: is a float number. With the measurements made so far it doesn't seem to need intervention."
   ]
  },
  {
   "cell_type": "markdown",
   "id": "486be256-7e9e-4f8f-b812-6d06e42023f8",
   "metadata": {},
   "source": [
    "* **ship_city** and **ship_state**: it’s proper that they are strings, remove extra white spaces from the beginning and end, and uniform all the characters to UPPER case. Then check the accuracy of geographic names. And normalize different istances of the same state and city."
   ]
  },
  {
   "cell_type": "code",
   "execution_count": null,
   "id": "483df4e7-7d01-482e-9cb5-a4bfbc16d12e",
   "metadata": {},
   "outputs": [],
   "source": [
    "df['ship_city'] = df['ship_city'].str.strip()\n",
    "df['ship_city'] = df['ship_city'].str.upper()\n",
    "df['ship_state'] = df['ship_state'].str.strip()\n",
    "df['ship_state'] = df['ship_state'].str.upper()"
   ]
  },
  {
   "cell_type": "code",
   "execution_count": null,
   "id": "e07d119f-f502-4164-9ad1-c3423f968126",
   "metadata": {},
   "outputs": [],
   "source": [
    "df.loc[df['ship_state'].isin(['AR']),'ship_state'] = 'ARUNACHAL PRADESH'\n",
    "df.loc[df['ship_state'].isin(['NEW DELHI']),'ship_state'] = 'DELHI'\n",
    "df.loc[df['ship_state'].isin(['NL']),'ship_state'] = 'NAGALAND'\n",
    "df.loc[df['ship_state'].isin(['ORISSA']),'ship_state'] = 'ODISHA'\n",
    "df.loc[df['ship_state'].isin(['PONDICHERRY']),'ship_state'] = 'PUDUCHERRY'\n",
    "df.loc[df['ship_state'].isin(['PUNJAB/MOHALI/ZIRAKPUR','PB']),'ship_state'] = 'PUNJAB'\n",
    "df.loc[df['ship_state'].isin(['RAJSHTHAN','RAJSTHAN','RJ']),'ship_state'] = 'RAJASTHAN'"
   ]
  },
  {
   "cell_type": "code",
   "execution_count": null,
   "id": "c4bc1eec-8dda-4135-9e18-01e5f585b30c",
   "metadata": {},
   "outputs": [],
   "source": [
    "df['ship_city'] = df['ship_city'].replace(['PUDUCHERRY','PONDYCHERRY', 'PUDUCHERRY 605001', 'PUDUCHERRY 605003'],'PUDUCHERRY')"
   ]
  },
  {
   "cell_type": "code",
   "execution_count": null,
   "id": "d074a288-51b4-4c0d-95e4-6abed532b7fb",
   "metadata": {
    "tags": []
   },
   "outputs": [],
   "source": [
    "df['ship_city'] = df['ship_city'].replace(['NORTH DELHI', 'NORTH WEST DELHI','NEW DELHI (NORTH)'],'NEW DELHI (NORTH)')\n",
    "df['ship_city'] = df['ship_city'].replace(['SOUTH  DELHI', 'SOUTH DELHI'],'NEW DELHI (SOUTH)')\n",
    "df['ship_city'] = df['ship_city'].replace(['SOUTH EAST DELHI'],'NEW DELHI (SOUTH EAST)')\n",
    "df['ship_city'] = df['ship_city'].replace(['SOUTH WEST DELHI','SOUTH-WEST DELHI'],'NEW DELHI (SOUTH WEST)')\n",
    "df['ship_city'] = df['ship_city'].replace(['WEST DELHI'],'NEW DELHI (WEST)')\n",
    "df['ship_city'] = df['ship_city'].replace(['CENTRAL DELHI','CITY'],'NEW DELHI (CENTRAL)')\n",
    "df['ship_city'] = df['ship_city'].replace(['EAST DELHI'],'NEW DELHI (EAST)')"
   ]
  },
  {
   "cell_type": "code",
   "execution_count": null,
   "id": "58e9b772-8fa2-43b6-9106-f4bba400c2d3",
   "metadata": {},
   "outputs": [],
   "source": [
    "pattern = r'^NEW DELHI(?!.*\\()'\n",
    "df['ship_city'] = df['ship_city'].apply(lambda x: \"NEW DELHI\" if re.match(pattern, x) else x)"
   ]
  },
  {
   "cell_type": "code",
   "execution_count": null,
   "id": "10747453-e071-4a2e-a462-6973cfd207a2",
   "metadata": {},
   "outputs": [],
   "source": [
    "df['ship_city'] = df['ship_city'].replace(['N.DELHI','NEW DELH','DELHI','DELHI -86','DELHI 110085','DELHI CANTT','DELHI-92.','DELHIQ', 'NEW-DELHI',\n",
    " 'NEWDELHI'],'NEW DELHI')"
   ]
  },
  {
   "cell_type": "code",
   "execution_count": null,
   "id": "9696b77f-204c-4ed9-9207-421f844ab27e",
   "metadata": {},
   "outputs": [],
   "source": [
    "pattern = r'^BANGALOR(?!.*\\()'\n",
    "df['ship_city'] = df['ship_city'].apply(lambda x: 'BANGALORE' if re.match(pattern, x) else x)\n",
    "df['ship_city'] = df['ship_city'].apply(lambda x: 'BANGALORE' if re.match(r'^BENGALUR(?!.*\\()', x) else x)\n",
    "df['ship_city'] = df['ship_city'].replace(['BENGALOORU','BENGOLOOR'],'BANGALORE')"
   ]
  },
  {
   "cell_type": "markdown",
   "id": "7d5b6090-aacf-4c1b-9a68-5cb898ecedcc",
   "metadata": {},
   "source": [
    "Note: since this notebook is for demonstration purposes only, I normalized all State names, and only the cities of Puducherry, New Delhi and Bangalore."
   ]
  },
  {
   "cell_type": "markdown",
   "id": "b770ab71-e9d0-4a52-be74-890a14199097",
   "metadata": {},
   "source": [
    "* **ship_postal_code**: it's currently a float, but postal code is a categorical data, so it needs to be converted in string. Remember that all missing values have been replaced with zeros."
   ]
  },
  {
   "cell_type": "code",
   "execution_count": null,
   "id": "aa912907-43fc-44f8-9f83-c5b55e816a50",
   "metadata": {},
   "outputs": [],
   "source": [
    "df['ship_postal_code'] = df['ship_postal_code'].astype(str)"
   ]
  },
  {
   "cell_type": "code",
   "execution_count": null,
   "id": "c4c8e544-a2b1-4069-be4e-a20b63486df9",
   "metadata": {},
   "outputs": [],
   "source": [
    "df.info()"
   ]
  },
  {
   "cell_type": "markdown",
   "id": "01e78b05-db80-42c3-a362-bd898062469a",
   "metadata": {},
   "source": [
    "* **promotion_ids**: it's proper that it is a string, remove extra white spaces from the beginning and end, and set the characters in UPPER case."
   ]
  },
  {
   "cell_type": "code",
   "execution_count": null,
   "id": "535dc38c-a104-4eb9-a264-786c00aa1fa5",
   "metadata": {},
   "outputs": [],
   "source": [
    "df['promotion_ids'] = df['promotion_ids'].str.strip()\n",
    "df['promotion_ids'] = df['promotion_ids'].str.upper()"
   ]
  },
  {
   "cell_type": "markdown",
   "id": "0ea7d439-78bc-4b2d-8daf-a22479499db7",
   "metadata": {},
   "source": [
    "* **B2B**: boolean, True when the sale is Business to Business, False when is Business to Consumer. It doesn't needs intervention.\n",
    "* **fulfilled_by**: contains 2 unique values (Easy Ship, FBA). It doesn't needs intervention."
   ]
  },
  {
   "cell_type": "markdown",
   "id": "ca53037b-8b66-4c7a-954b-ed6d96489057",
   "metadata": {
    "tags": []
   },
   "source": [
    "## 2.4 Remove Duplicates [&#129081;](#Top)<a name=\"RemDupl_df1\"></a>"
   ]
  },
  {
   "cell_type": "markdown",
   "id": "4a0c4a73-9f6f-4985-8192-0fe8fb0508e4",
   "metadata": {},
   "source": [
    "* Remove duplicate raws"
   ]
  },
  {
   "cell_type": "code",
   "execution_count": null,
   "id": "19465ae5-4698-46d3-be81-9589069ab396",
   "metadata": {},
   "outputs": [],
   "source": [
    "df.drop_duplicates(inplace = True)"
   ]
  },
  {
   "cell_type": "code",
   "execution_count": null,
   "id": "d5faa4a4-b393-49b5-bc4b-8bd0d77d7d56",
   "metadata": {},
   "outputs": [],
   "source": [
    "df_sizes.update({'after_remove_duplicates': df.shape})\n",
    "print(f\"Deleted {df_sizes['start'][0] - df_sizes['after_remove_duplicates'][0] } raws, {df_sizes['after_remove_duplicates'][0]} remain.\")"
   ]
  },
  {
   "cell_type": "markdown",
   "id": "8424bb4f-2aaf-422a-9805-e80197ab0553",
   "metadata": {},
   "source": [
    "* Remove **fulfilled_by** column, bacause it doesn't add information to data. In fact it contains the same information as the column **Fulfilment**."
   ]
  },
  {
   "cell_type": "code",
   "execution_count": null,
   "id": "ceada4b8-de3b-4342-99d1-393ea8ef8b38",
   "metadata": {},
   "outputs": [],
   "source": [
    "print(f\"\"\"\n",
    "Question: When the value in column 'Fulfilment' is 'Merchant', the value in column 'fulfilled_by' is 'Easy Ship'?\n",
    "Answer:   {set(df.query(\"Fulfilment == 'Merchant'\").index) == set(df.query(\"fulfilled_by == 'Easy Ship'\").index)}\"\"\") \n",
    "print(f\"\"\"\n",
    "Question: When the value in column 'Fulfilment' is 'Amazon', the value in column 'fulfilled_by' is 'FBA'?\n",
    "Answer:   {set(df.query(\"Fulfilment == 'Merchant'\").index) == set(df.query(\"fulfilled_by == 'Easy Ship'\").index)}\"\"\") "
   ]
  },
  {
   "cell_type": "code",
   "execution_count": null,
   "id": "4cdaacbc-3f1e-4675-9216-d5e06347b6cf",
   "metadata": {},
   "outputs": [],
   "source": [
    "df.drop(columns = ['fulfilled_by'], inplace = True)"
   ]
  },
  {
   "cell_type": "markdown",
   "id": "6d295f8a-f349-49d0-94aa-070130c60767",
   "metadata": {},
   "source": [
    "## 2.5 Numeric data [&#129081;](#Top)<a name=\"NumData\"></a>"
   ]
  },
  {
   "cell_type": "code",
   "execution_count": null,
   "id": "a5d52e1e-8cce-4441-8f6b-45df47811814",
   "metadata": {},
   "outputs": [],
   "source": [
    "df.describe(datetime_is_numeric=True) # only numerical Attributes (including Date)"
   ]
  },
  {
   "cell_type": "code",
   "execution_count": null,
   "id": "a4a120b3-7f12-4ea1-80d6-c3211568614d",
   "metadata": {},
   "outputs": [],
   "source": [
    "df['Date'].max() - df['Date'].min()"
   ]
  },
  {
   "cell_type": "markdown",
   "id": "e2efd084-fbd5-4fed-9e05-b6d6678ae663",
   "metadata": {},
   "source": [
    "The start date of the dataset is 31 March 2022, the end date is 29 June 2022, over a 90 day period."
   ]
  },
  {
   "cell_type": "markdown",
   "id": "5bb9da1e-f7b8-46e7-aef6-d51c9365d2db",
   "metadata": {},
   "source": [
    "## 2.6 Categorical data [&#129081;](#Top)<a name=\"CatData\"></a>"
   ]
  },
  {
   "cell_type": "code",
   "execution_count": null,
   "id": "87b58da4-501c-495f-b21f-8aa97d74e832",
   "metadata": {},
   "outputs": [],
   "source": [
    "df.describe(include='O').T # only numpy.object data type Categorical Data"
   ]
  },
  {
   "cell_type": "markdown",
   "id": "876519c0-f5dc-4d98-a7fc-53a296ebf748",
   "metadata": {},
   "source": [
    "* Add the column **Month**"
   ]
  },
  {
   "cell_type": "code",
   "execution_count": null,
   "id": "3c68ccf3-e8b6-4f27-a03b-6c188ba8d561",
   "metadata": {
    "tags": []
   },
   "outputs": [],
   "source": [
    "df['month'] = df['Date'].dt.month\n",
    "df['month'].unique()"
   ]
  },
  {
   "cell_type": "code",
   "execution_count": null,
   "id": "3c01aa6d-6bb4-4915-a642-c6e6c28c7542",
   "metadata": {},
   "outputs": [],
   "source": [
    "df['month'].replace([3,4,5,6],['March','April', 'May', 'June'], inplace = True)"
   ]
  },
  {
   "cell_type": "markdown",
   "id": "e183f170-9531-49af-a9a4-942cf5d70977",
   "metadata": {},
   "source": [
    "* Save the cleaned dataframe in a csv file"
   ]
  },
  {
   "cell_type": "code",
   "execution_count": null,
   "id": "9a55ba43-a40e-4f04-80ea-91b626bba60b",
   "metadata": {},
   "outputs": [],
   "source": [
    "df.to_csv(\"Data out\\\\new_df_Amazon_sales.csv\")"
   ]
  },
  {
   "cell_type": "markdown",
   "id": "fe5ccab2-20eb-41a8-9181-25dad9d351f6",
   "metadata": {},
   "source": [
    "# 3. DATA ANALYSIS <a name=\"DataAnalysis\"></a>"
   ]
  },
  {
   "cell_type": "markdown",
   "id": "24668653-067a-4432-88e6-b1709b8cb507",
   "metadata": {},
   "source": [
    "## Answer to Q1: Which categories have sold most? [&#129081;](#Top)<a name=\"AQ1\"></a>"
   ]
  },
  {
   "cell_type": "code",
   "execution_count": null,
   "id": "5b697941-1c39-4f99-a5ca-e5523b5516ff",
   "metadata": {},
   "outputs": [],
   "source": [
    "# Which categories have sold most?\n",
    "df_q1 = df[['Amount', 'Qty']].groupby(df['Category']).sum()\\\n",
    "                                .sort_values('Amount', ascending=False)\\\n",
    "                                .reset_index()\n",
    "df_q1"
   ]
  },
  {
   "cell_type": "code",
   "execution_count": null,
   "id": "9cb84bf4-2af0-4688-925e-fe8f0e7f5d16",
   "metadata": {},
   "outputs": [],
   "source": [
    "# define font sizes\n",
    "_title_size = 18\n",
    "_axis_label_size = 12\n",
    "_label_size = 10\n",
    "_axis_label_pad = 10\n",
    "_legend_title_size = 12\n",
    "_legend_content_size = 12\n",
    "_padding_title = 20\n",
    "_fweight = 'normal'"
   ]
  },
  {
   "cell_type": "code",
   "execution_count": null,
   "id": "612dce8c-f94e-45d9-9811-bf83b90498ab",
   "metadata": {},
   "outputs": [],
   "source": [
    "plt.figure(figsize = (12, 6))\n",
    "ax_q1 = sns.barplot(y = 'Amount', x='Category', palette = ['#3182bd'], data = df_q1)\n",
    "plt.title('Revenue by Categories', fontsize= _title_size)\n",
    "\n",
    "formatter = ticker.StrMethodFormatter(\"{x:,.0f}.\")\n",
    "ax_q1.yaxis.set_major_formatter(formatter)\n",
    "ax_q1.xaxis.labelpad = _axis_label_pad\n",
    "ax_q1.yaxis.labelpad = _axis_label_pad\n",
    "\n",
    "for i, bar in enumerate(ax_q1.containers[0].patches):\n",
    "    ax_q1.text(bar.get_x() + bar.get_width()/2., bar.get_height(),\n",
    "        '{:,.0f}'.format(bar.get_height()), ha='center', va='bottom')\n",
    "plt.xlabel(\"Category\", weight = _fweight, fontsize=_axis_label_size)\n",
    "plt.ylabel(\"Sales\", weight = _fweight, fontsize=_axis_label_size)\n",
    "plt.savefig('img\\\\Revenue_by_categories.jpg', dpi=300)\n",
    "plt.show()\n"
   ]
  },
  {
   "cell_type": "markdown",
   "id": "20c9218e-8aac-4d2e-8b98-180edcf6ba64",
   "metadata": {
    "tags": []
   },
   "source": [
    "## Answer Q2: Which are the 20 Best-Selling Products? [&#129081;](#Top)<a name=\"AQ2\"></a>"
   ]
  },
  {
   "cell_type": "code",
   "execution_count": null,
   "id": "24316ac9-d2f1-423c-9b71-453f28936684",
   "metadata": {
    "tags": []
   },
   "outputs": [],
   "source": [
    "df_q2 = df.groupby(['Category', 'ASIN'])[['Qty','Amount']].sum()\\\n",
    "                                     .sort_values('Qty', ascending=False)\\\n",
    "                                     .head(20)\\\n",
    "                                     .reset_index()\n",
    "df_q2"
   ]
  },
  {
   "cell_type": "code",
   "execution_count": null,
   "id": "7a6dc578-2cb1-4a92-8110-71b2f43d5336",
   "metadata": {},
   "outputs": [],
   "source": [
    "colors_dict = {'WESTERN DRESS': '#4BD9EC', 'KURTA': '#758BFD', 'SET': '#313E5B'} \n",
    "col_list = [colors_dict.get(cat) for cat in df_q2['Category']]\n",
    "\n",
    "plt.figure(figsize = (12, 6))\n",
    "ax_q2 = sns.barplot(y = 'Qty', x='ASIN', palette = col_list, data = df_q2)\n",
    "plt.title('20 Best-Selling Products by Quantity', fontsize=_title_size)\n",
    "\n",
    "formatter = ticker.StrMethodFormatter(\"{x:,.0f}\")\n",
    "ax_q2.yaxis.set_major_formatter(formatter)\n",
    "ax_q2.xaxis.labelpad = _axis_label_pad\n",
    "ax_q2.yaxis.labelpad = _axis_label_pad\n",
    "ax_q2.margins(0.01, 0.2)\n",
    "\n",
    "for i, bar in enumerate(ax_q2.containers[0].patches):\n",
    "    ax_q2.text(bar.get_x() + bar.get_width()/2., bar.get_height(),\n",
    "        '{:,.0f}'.format(bar.get_height()), ha='center', va='bottom')\n",
    "plt.xticks(rotation=90, ha='center')\n",
    "plt.xlabel(\"Product\", weight = _fweight, fontsize= _axis_label_size)\n",
    "plt.ylabel(\"Qty\", weight = _fweight, fontsize= _axis_label_size)\n",
    "\n",
    "legend_entries = []\n",
    "for elem in df_q2['Category'].unique():\n",
    "    legend_entries.append(mpatches.Patch(color=colors_dict.get(elem), label=elem))\n",
    "plt.legend(handles=legend_entries, title='Category:', title_fontsize= _legend_title_size, fontsize=_legend_content_size)\n",
    "plt.savefig('img\\\\20_Best_Selling_Products_by_Quantity.jpg', dpi=300, bbox_inches='tight', pad_inches=0.1)\n",
    "plt.show()"
   ]
  },
  {
   "cell_type": "markdown",
   "id": "c317094d-2a0f-42f1-be0a-83b74fc8ffb7",
   "metadata": {},
   "source": [
    "## Answer to Q3: Which are the 20 Best-Selling Products by Revenue? [&#129081;](#Top)<a name=\"AQ3\"></a>"
   ]
  },
  {
   "cell_type": "code",
   "execution_count": null,
   "id": "96ca532e-56fa-4370-bc0e-dc3e036b408b",
   "metadata": {},
   "outputs": [],
   "source": [
    "df_q3 = df.groupby(['Category', 'ASIN'])[['Amount', 'Qty']].sum()\\\n",
    "                                     .sort_values('Amount', ascending=False)\\\n",
    "                                     .head(20)\\\n",
    "                                     .reset_index()\n",
    "df_q3"
   ]
  },
  {
   "cell_type": "code",
   "execution_count": null,
   "id": "9a578d63-c453-46bd-b9a0-a72df869e274",
   "metadata": {},
   "outputs": [],
   "source": [
    "colors_dict = {'WESTERN DRESS': '#4BD9EC', 'KURTA': '#758BFD', 'SET': '#313E5B'} \n",
    "col_list = [colors_dict.get(cat) for cat in df_q3['Category']]\n",
    "\n",
    "plt.figure(figsize = (12, 6))\n",
    "ax_q3 = sns.barplot(y = 'Amount', x='ASIN', palette = col_list, data = df_q3)\n",
    "plt.title('20 Best-Selling Products by Revenue', fontsize=_title_size)\n",
    "\n",
    "formatter = ticker.StrMethodFormatter(\"{x:,.0f}\")\n",
    "ax_q3.yaxis.set_major_formatter(formatter)\n",
    "ax_q3.xaxis.labelpad = _axis_label_pad\n",
    "ax_q3.yaxis.labelpad = _axis_label_pad\n",
    "\n",
    "for i, bar in enumerate(ax_q3.containers[0].patches):\n",
    "    ax_q3.text(bar.get_x() + bar.get_width()*0.8, bar.get_height(),\n",
    "        '{:,.0f}'.format(bar.get_height()), ha='center', va='bottom', rotation=45)\n",
    "    \n",
    "plt.xticks(rotation=90, ha='center')\n",
    "plt.xlabel(\"Product\", weight = _fweight, fontsize= _axis_label_size)\n",
    "plt.ylabel(\"Sales\", weight = _fweight, fontsize= _axis_label_size)\n",
    "\n",
    "legend_entries = []\n",
    "for elem in df_q3['Category'].unique():\n",
    "    legend_entries.append(mpatches.Patch(color=colors_dict.get(elem), label=elem))\n",
    "plt.legend(handles=legend_entries, title='Category:', title_fontsize= _legend_title_size, fontsize=_legend_content_size)\n",
    "ax_q3.margins(0.01, 0.2)\n",
    "plt.savefig('img\\\\20_Best_Selling_Products_by_Revenue.jpg', dpi=300, bbox_inches='tight', pad_inches=0.1)\n",
    "plt.show()"
   ]
  },
  {
   "cell_type": "markdown",
   "id": "9bc7700e-5ef4-489a-9842-16aa77be6eb4",
   "metadata": {},
   "source": [
    "## Answer Q4: Which are the 20 cities that made the most orders? [&#129081;](#Top)<a name=\"AQ4\"></a>"
   ]
  },
  {
   "cell_type": "code",
   "execution_count": null,
   "id": "416c41b9-d591-469d-b7a9-32d38ab7c545",
   "metadata": {},
   "outputs": [],
   "source": [
    "df_q4 = df.groupby(['ship_state','ship_city'])[['Order_ID']].count()\\\n",
    "                                    .sort_values('Order_ID', ascending=False)\\\n",
    "                                    .head(20)\\\n",
    "                                    .reset_index()\n",
    "df_q4"
   ]
  },
  {
   "cell_type": "code",
   "execution_count": null,
   "id": "66a6757e-62b8-4d7b-a336-faaffbf42328",
   "metadata": {},
   "outputs": [],
   "source": []
  },
  {
   "cell_type": "code",
   "execution_count": null,
   "id": "ee91e719-006c-4c80-a90f-b4338b087b8a",
   "metadata": {},
   "outputs": [],
   "source": []
  },
  {
   "cell_type": "code",
   "execution_count": null,
   "id": "c49f7c39-4769-4a63-b353-72e496d79dd7",
   "metadata": {},
   "outputs": [],
   "source": [
    "plt.figure(figsize = (12, 6))\n",
    "\n",
    "plt.title('First 20 Cities by Nr. of Orders', fontsize=_title_size)\n",
    "\n",
    "palette_colors = sns.color_palette('Set2',len(df_q4['ship_state'].unique()))\n",
    "palette_dict = {state: color for state, color in zip(list(df_q4['ship_state'].unique()), palette_colors)}\n",
    "col_list = [palette_dict.get(state) for state, city in zip(df_q4['ship_state'],df_q4['ship_city'])]\n",
    "\n",
    "ax_q4 = sns.barplot(y = 'Order_ID', x='ship_city', palette = col_list, data = df_q4)\n",
    "\n",
    "formatter = ticker.StrMethodFormatter(\"{x:,.0f}\")\n",
    "ax_q4.yaxis.set_major_formatter(formatter)\n",
    "ax_q4.yaxis.labelpad = _axis_label_pad\n",
    "\n",
    "for i, bar in enumerate(ax_q4.containers[0].patches):\n",
    "    ax_q4.text(bar.get_x() + bar.get_width()*0.7, bar.get_height(),\n",
    "        '{:,.0f}'.format(bar.get_height()), ha='center', va='bottom', rotation=45)\n",
    "plt.xticks(rotation=90)\n",
    "plt.xlabel(\"City\", weight = _fweight, fontsize= _axis_label_size)\n",
    "plt.ylabel(\"Nr. of Orders\", weight = _fweight, fontsize= _axis_label_size)\n",
    "\n",
    "legend_entries = []\n",
    "for elem in df_q4['ship_state'].unique():\n",
    "    legend_entries.append(mpatches.Patch(color=palette_dict.get(elem), label=elem))\n",
    "plt.legend(handles=legend_entries, title='State:', title_fontsize= _legend_title_size-1, fontsize=_legend_content_size-1)\n",
    "\n",
    "ax_q4.margins(0.01, 0.2)\n",
    "plt.savefig('img\\\\First_20_Cities_by_Nr_of_Orders.jpg', dpi=300, bbox_inches='tight', pad_inches=0.1)\n",
    "plt.show()"
   ]
  },
  {
   "cell_type": "code",
   "execution_count": null,
   "id": "cc90ba05-9c2a-469d-9dc3-df329e5c3038",
   "metadata": {},
   "outputs": [],
   "source": []
  },
  {
   "cell_type": "code",
   "execution_count": null,
   "id": "79cb3eb2-8d14-42e4-a25c-29fb49fd7d68",
   "metadata": {},
   "outputs": [],
   "source": []
  },
  {
   "cell_type": "markdown",
   "id": "3fd8043b-edae-477e-85ad-44855185b114",
   "metadata": {},
   "source": [
    "## Answer Q5: Which are the 20 cities that more income generate? [&#129081;](#Top)<a name=\"AQ5\"></a>"
   ]
  },
  {
   "cell_type": "code",
   "execution_count": null,
   "id": "4d82ad5d-6400-42f1-ad1a-40b00f2b5c99",
   "metadata": {},
   "outputs": [],
   "source": [
    "df_q5 = df.groupby(['ship_state','ship_city'])[['Amount','Qty']].sum()\\\n",
    "                                    .sort_values('Amount', ascending=False)\\\n",
    "                                     .head(20)\\\n",
    "                                    .reset_index()"
   ]
  },
  {
   "cell_type": "code",
   "execution_count": null,
   "id": "ea341053-486c-4e85-a54f-7719eeb8ba63",
   "metadata": {},
   "outputs": [],
   "source": [
    "plt.figure(figsize = (12, 6))\n",
    "plt.title('First 20 Cities by Revenue', fontsize=_title_size)\n",
    "\n",
    "palette_colors = sns.color_palette('Set2',len(df_q5['ship_state'].unique()))\n",
    "palette_dict = {state: color for state, color in zip(list(df_q5['ship_state'].unique()), palette_colors)}\n",
    "col_list = [palette_dict.get(state) for state, city in zip(df_q5['ship_state'],df_q5['ship_city'])]\n",
    "\n",
    "ax_q5 = sns.barplot(y = 'Amount', x='ship_city', palette = col_list, data = df_q5)\n",
    "\n",
    "formatter = ticker.StrMethodFormatter(\"{x:,.0f}\")\n",
    "ax_q5.yaxis.set_major_formatter(formatter)\n",
    "\n",
    "ax_q5.yaxis.labelpad = _axis_label_pad\n",
    "\n",
    "for i, bar in enumerate(ax_q5.containers[0].patches):\n",
    "    ax_q5.text(bar.get_x() + bar.get_width()*0.7, bar.get_height(),\n",
    "        '{:,.0f}'.format(bar.get_height()), ha='center', va='bottom', rotation=45)\n",
    "plt.xticks(rotation=90)\n",
    "plt.xlabel(\"City\", weight = _fweight, fontsize= _axis_label_size)\n",
    "plt.ylabel(\"Amount\", weight = _fweight, fontsize= _axis_label_size)\n",
    "\n",
    "legend_entries = []\n",
    "for elem in df_q5['ship_state'].unique():\n",
    "    legend_entries.append(mpatches.Patch(color=palette_dict.get(elem), label=elem))\n",
    "plt.legend(handles=legend_entries, title='State:', title_fontsize= _legend_title_size, fontsize=_legend_content_size-1)\n",
    "\n",
    "ax_q5.margins(0.02, 0.2)\n",
    "plt.savefig('img\\\\First_20_Cities_by_Revenue.jpg', dpi=300, bbox_inches='tight', pad_inches=0.1)\n",
    "plt.show()"
   ]
  },
  {
   "cell_type": "markdown",
   "id": "f2f5847c-cd1b-4e7d-bae2-dc046e236048",
   "metadata": {},
   "source": [
    "## Answer Q6: How many orders are fulfilled by Amazon and how many by the Merchant? [&#129081;](#Top)<a name=\"AQ6\"></a>"
   ]
  },
  {
   "cell_type": "code",
   "execution_count": null,
   "id": "cf490dbe-7657-42ba-9805-79a125eea6b7",
   "metadata": {},
   "outputs": [],
   "source": [
    "# How are the order volume and revenues distributed on the Fulfilment Method?\n",
    "df_fulfilment_stats = pd.DataFrame(data= df.groupby(['Fulfilment'])['Order_ID'].count())\n",
    "df_fulfilment_stats = df_fulfilment_stats.rename(columns={'Order_ID': 'Nr. of Orders'})\n",
    "df_fulfilment_stats['% of Orders'] = [ x / (df_fulfilment_stats['Nr. of Orders'].sum()) for x in df_fulfilment_stats['Nr. of Orders'] ]\n",
    "df_fulfilment_stats['Tot. Sales'] = df.groupby(['Fulfilment'])[['Amount']].sum()\n",
    "df_fulfilment_stats['% of Tot. Sales'] = [ x / (df_fulfilment_stats['Tot. Sales'].sum()) for x in df_fulfilment_stats['Tot. Sales'] ]\n",
    "df_fulfilment_stats"
   ]
  },
  {
   "cell_type": "code",
   "execution_count": null,
   "id": "d75d9c47-311e-47ae-b138-d3ca0e285a3a",
   "metadata": {},
   "outputs": [],
   "source": [
    "plt.figure(figsize = (8, 6))\n",
    "fig_x2 = df['Fulfilment'].value_counts().plot.pie(autopct=\"%1.1f%%\", colors = ('#FF9900','#146EB4'), \n",
    "                                                  textprops={'fontsize': 14})\n",
    "fig_x2.set(ylabel=None)\n",
    "plt.legend(title = 'Fulfilment', title_fontsize= _legend_title_size, fontsize=_legend_content_size, bbox_to_anchor=(1,0.8),\n",
    "                          bbox_transform=plt.gcf().transFigure)\n",
    "plt.title('Fulfilment Orders Overview', fontsize= _title_size);\n",
    "plt.savefig('img\\\\Fulfilment_Orders_Overview.jpg', dpi=300, bbox_inches='tight', pad_inches=0.1)\n",
    "plt.show()"
   ]
  },
  {
   "cell_type": "code",
   "execution_count": null,
   "id": "3c83c559-a9ea-46bb-88a2-a0486c003428",
   "metadata": {},
   "outputs": [],
   "source": [
    "df_shipment_stats = df.query(\"Courier_Status != 'Unknown'\").groupby(['Courier_Status','Fulfilment'])[['Amount','Qty']].sum()\\\n",
    "                                    .sort_values('Amount', ascending=False)\\\n",
    "                                    .reset_index()"
   ]
  },
  {
   "cell_type": "code",
   "execution_count": null,
   "id": "098077c5-6655-407e-9a3f-60cae8b7291f",
   "metadata": {},
   "outputs": [],
   "source": [
    "df_shipment_stats"
   ]
  },
  {
   "cell_type": "code",
   "execution_count": null,
   "id": "7b974bd0-fb93-4012-bf67-98d3be8c3f30",
   "metadata": {},
   "outputs": [],
   "source": [
    "df_shipment_stats['Nr. of Orders'] = df.groupby(['Courier_Status','Fulfilment'])[['Order_ID']].count()\\\n",
    "                                    .sort_values('Order_ID', ascending=False)\\\n",
    "                                    .reset_index()['Order_ID']"
   ]
  },
  {
   "cell_type": "code",
   "execution_count": null,
   "id": "70caceaa-c329-4c41-a270-b1737c65010b",
   "metadata": {},
   "outputs": [],
   "source": [
    "df_shipment_stats"
   ]
  },
  {
   "cell_type": "code",
   "execution_count": null,
   "id": "163cea7a-bff1-44bf-ac39-68942abf777c",
   "metadata": {},
   "outputs": [],
   "source": [
    "plt.figure(figsize = (12, 6))\n",
    "\n",
    "ax6 = sns.countplot(x = 'Courier_Status', hue = 'Fulfilment', palette = ['#146EB4','#FF9900'], data = df.query(\"Courier_Status != 'Unknown'\"));\n",
    "plt.title('Shipping State Overview', fontsize=_title_size);\n",
    "ax6.xaxis.labelpad = _axis_label_pad\n",
    "ax6.yaxis.labelpad = _axis_label_pad\n",
    "\n",
    "for i in ax6.containers:\n",
    "    ax6.bar_label(i,)\n",
    "plt.xlabel(\"Courier Status\", weight = _fweight, fontsize= _axis_label_size)\n",
    "plt.ylabel(\"Nr. of Orders\", weight = _fweight, fontsize= _axis_label_size)\n",
    "plt.legend(title='Fulfilment:', title_fontsize= _legend_title_size, fontsize=_legend_content_size)\n",
    "plt.savefig('img\\\\Shipping_State_Overview.jpg', dpi=300, bbox_inches='tight', pad_inches=0.1)\n",
    "plt.show;"
   ]
  },
  {
   "cell_type": "markdown",
   "id": "103020fb-8714-48c6-b5b5-043ea3fbbf30",
   "metadata": {},
   "source": [
    "## FINAL CONCLUSIONS [&#129081;](#Top)<a name=\"Conclusions\"></a>"
   ]
  },
  {
   "cell_type": "markdown",
   "id": "90038740-4f48-4ca8-bb43-ce6b0b5fdfc1",
   "metadata": {},
   "source": [
    "In the course of the analysis:\n",
    "* It was established that Western Dress, Kurta and Set are the categories which have sold most.\n",
    "* It was verified that the 20 Best-Selling Products by quantity belongs to the categories Western Dress, Kurta and Set.  \n",
    "* On the other hand, the 20 Best-Selling Products by revenue belongs only to the categories Western Dress and Set.  \n",
    "* Also it was performed a fulfilment and shipping state overview."
   ]
  },
  {
   "cell_type": "markdown",
   "id": "f5450df5-a457-4f1a-aeab-9de257c2d6a2",
   "metadata": {
    "tags": []
   },
   "source": [
    "   \n",
    "---   \n",
    "   "
   ]
  },
  {
   "cell_type": "markdown",
   "id": "145bd9f1-829d-4b98-bb9a-8a752993f23f",
   "metadata": {
    "tags": []
   },
   "source": [
    "\n",
    "\n",
    "\n",
    "### Data Source\n",
    "The data for this project can be found at [data.world](https://data.world/anilsharma87), thanks to [ANil](https://data.world/anilsharma87).\n",
    "\n",
    "### Author \n",
    "[Barbara Callegari](https://numberslab.net)  \n",
    "To learn more about the author visit her [LinkedIn Profile](https://www.linkedin.com/in/barbaracallegari)\n",
    "\n",
    "### Licence\n",
    "All rights reserved 2023. All code is **created and owned by Barbara Callegari**.   \n",
    "**If you use his code, please give her a skill endorsement in Python and Data Analysis on LinkedIn**.   \n",
    "Visit her at https://www.linkedin.com/in/barbaracallegari"
   ]
  }
 ],
 "metadata": {
  "kernelspec": {
   "display_name": "Python 3 (ipykernel)",
   "language": "python",
   "name": "python3"
  },
  "language_info": {
   "codemirror_mode": {
    "name": "ipython",
    "version": 3
   },
   "file_extension": ".py",
   "mimetype": "text/x-python",
   "name": "python",
   "nbconvert_exporter": "python",
   "pygments_lexer": "ipython3",
   "version": "3.9.12"
  }
 },
 "nbformat": 4,
 "nbformat_minor": 5
}
